{
 "cells": [
  {
   "cell_type": "code",
   "execution_count": 2,
   "metadata": {},
   "outputs": [],
   "source": [
    "import ast\n",
    "import csv\n",
    "\n",
    "from glob import glob\n",
    "from tqdm import tqdm\n",
    "\n",
    "def load_csv_data(file_path):\n",
    "    data_list = []\n",
    "\n",
    "    with open(file_path, newline=\"\") as csvfile:\n",
    "        csv_reader = csv.DictReader(csvfile)\n",
    "        for row in csv_reader:\n",
    "            row[\"choices\"] = ast.literal_eval(row[\"choices\"])\n",
    "            data_list.append(row)\n",
    "\n",
    "    return data_list\n",
    "\n",
    "\n",
    "def save_data(samples, file_path):\n",
    "    header = samples[0].keys()\n",
    "\n",
    "    with open(file_path, \"w\", newline=\"\") as csvfile:\n",
    "        writer = csv.DictWriter(csvfile, fieldnames=header)\n",
    "        writer.writeheader()\n",
    "        for row in samples:\n",
    "            writer.writerow(row)\n",
    "\n",
    "    print(f'CSV file \"{file_path}\" has been created with the data.')"
   ]
  },
  {
   "cell_type": "code",
   "execution_count": 4,
   "metadata": {},
   "outputs": [
    {
     "name": "stdout",
     "output_type": "stream",
     "text": [
      "Trasnlation eval result for split test:\n",
      "{'total': 117, 'sm4t_med': 172, 'sm4t_large': 226, 'gpt_instruct': 304}\n",
      "Trasnlation eval result for split validation:\n",
      "{'total': 136, 'sm4t_med': 227, 'sm4t_large': 261, 'gpt_instruct': 328}\n",
      "Trasnlation eval result for split train:\n",
      "{'total': 214, 'sm4t_med': 406, 'sm4t_large': 435, 'gpt_instruct': 443}\n"
     ]
    }
   ],
   "source": [
    "results = {}\n",
    "\n",
    "for folder in glob(\"./eval/*/\"):    \n",
    "    split = folder.split(\"/\")[2]\n",
    "    results[split] = {\n",
    "        \"total\": 0,\n",
    "        \"sm4t_med\": 0,\n",
    "        \"sm4t_large\": 0,\n",
    "        \"gpt_instruct\": 0,\n",
    "    }\n",
    "    \n",
    "    for file in glob(f\"{folder}*.csv\"):\n",
    "        if \"eval_v3\" in file:\n",
    "            with open(file, newline=\"\") as csvfile:\n",
    "                csv_reader = csv.DictReader(csvfile)\n",
    "                for row in csv_reader:\n",
    "                    translator = row[\"translator\"]\n",
    "                    if translator != \"raw\":\n",
    "                        score = int(row[\"score\"])\n",
    "                        results[split][translator] += score\n",
    "                    else:\n",
    "                        results[split][\"total\"] += 1\n",
    "\n",
    "    print(f\"Trasnlation eval result for split {split}:\")\n",
    "    print(results[split])"
   ]
  },
  {
   "cell_type": "code",
   "execution_count": null,
   "metadata": {},
   "outputs": [],
   "source": []
  }
 ],
 "metadata": {
  "kernelspec": {
   "display_name": ".venv",
   "language": "python",
   "name": "python3"
  },
  "language_info": {
   "codemirror_mode": {
    "name": "ipython",
    "version": 3
   },
   "file_extension": ".py",
   "mimetype": "text/x-python",
   "name": "python",
   "nbconvert_exporter": "python",
   "pygments_lexer": "ipython3",
   "version": "3.8.10"
  },
  "orig_nbformat": 4
 },
 "nbformat": 4,
 "nbformat_minor": 2
}
