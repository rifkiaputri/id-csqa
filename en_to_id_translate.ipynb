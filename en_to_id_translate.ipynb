{
 "cells": [
  {
   "cell_type": "markdown",
   "metadata": {},
   "source": [
    "### Import Libraries"
   ]
  },
  {
   "cell_type": "code",
   "execution_count": 1,
   "metadata": {},
   "outputs": [],
   "source": [
    "import os\n",
    "import ast\n",
    "import csv\n",
    "import time\n",
    "import openai\n",
    "import pandas as pd\n",
    "\n",
    "from dotenv import load_dotenv\n",
    "from tqdm import tqdm\n",
    "from glob import glob"
   ]
  },
  {
   "cell_type": "markdown",
   "metadata": {},
   "source": [
    "### Load Environment Variables"
   ]
  },
  {
   "cell_type": "code",
   "execution_count": 2,
   "metadata": {},
   "outputs": [],
   "source": [
    "load_dotenv()\n",
    "\n",
    "api_key = os.environ.get(\"API_KEY\")\n",
    "org_key = os.environ.get(\"ORG_KEY\")"
   ]
  },
  {
   "cell_type": "markdown",
   "metadata": {},
   "source": [
    "### Generate Prompt"
   ]
  },
  {
   "cell_type": "code",
   "execution_count": 13,
   "metadata": {},
   "outputs": [],
   "source": [
    "# Function to generate prompts based on the conditions\n",
    "def generate_translate_prompt(row):\n",
    "    return f\"\"\"Translate all the question, concept, and options below to Indonesian and Sundanese, return all in JSON format, where Indonesian and Sundanese have different key:\n",
    "\n",
    "Question: {row['question']}\n",
    "Concept: {row['question_concept']}\n",
    "Options: {', '.join(row['choices']['text'])}\"\"\""
   ]
  },
  {
   "cell_type": "markdown",
   "metadata": {},
   "source": [
    "### OpenAI Request Function"
   ]
  },
  {
   "cell_type": "code",
   "execution_count": 14,
   "metadata": {},
   "outputs": [],
   "source": [
    "def get_openai_chat_completion(input_prompt, model_name):\n",
    "    completion = openai.ChatCompletion.create(\n",
    "        model=model_name,\n",
    "        messages=[\n",
    "            {\n",
    "                'role': 'user',\n",
    "                'content': input_prompt \n",
    "            }\n",
    "        ],\n",
    "        temperature=0.3,\n",
    "        request_timeout=60,\n",
    "    )\n",
    "    return completion\n",
    "\n",
    "def get_openai_completion(input_prompt, model_name, max_tokens=256, temp=0.1, timeout=60):\n",
    "    completion = openai.Completion.create(\n",
    "        model=model_name,\n",
    "        prompt=input_prompt,\n",
    "        max_tokens=max_tokens,\n",
    "        temperature=temp,\n",
    "        request_timeout=timeout,\n",
    "    )\n",
    "    return completion\n",
    "\n",
    "# Define a function to rephrase the CSV data using OpenAI GPT-3.5-Turbo\n",
    "def translate_csv_data(row, model_name, history, api_type=\"instruct\"):\n",
    "    input_prompt = generate_translate_prompt(row)\n",
    "\n",
    "    if input_prompt in history.keys():\n",
    "        return input_prompt, history[input_prompt][\"response\"]\n",
    "\n",
    "    if api_type == \"chat\":\n",
    "        try:\n",
    "            completion = get_openai_chat_completion(input_prompt, model_name)\n",
    "        except Exception:\n",
    "            print('Caught exception, wait for 1 min...')\n",
    "            time.sleep(60)\n",
    "            completion = get_openai_chat_completion(input_prompt, model_name)\n",
    "        response = completion.choices[0].message.content.strip()\n",
    "\n",
    "    elif api_type == \"instruct\":\n",
    "        try:\n",
    "            completion = get_openai_completion(input_prompt, model_name)\n",
    "        except Exception:\n",
    "            print('Caught exception, wait for 1 min...')\n",
    "            time.sleep(60)\n",
    "            completion = get_openai_completion(input_prompt, model_name)\n",
    "        response = completion.choices[0].text.strip()\n",
    "            \n",
    "    return input_prompt, response"
   ]
  },
  {
   "cell_type": "markdown",
   "metadata": {},
   "source": [
    "### CSV Related Function"
   ]
  },
  {
   "cell_type": "code",
   "execution_count": 15,
   "metadata": {},
   "outputs": [],
   "source": [
    "def load_csv_data(file_path):\n",
    "    data_list = []\n",
    "\n",
    "    with open(file_path, newline=\"\") as csvfile:\n",
    "        csv_reader = csv.DictReader(csvfile)\n",
    "        for row in csv_reader:\n",
    "            row[\"choices\"] = ast.literal_eval(row[\"choices\"])\n",
    "            data_list.append(row)\n",
    "\n",
    "    return data_list\n",
    "\n",
    "\n",
    "def save_data(samples, file_path):\n",
    "    header = samples[0].keys()\n",
    "\n",
    "    with open(file_path, \"w\", newline=\"\") as csvfile:\n",
    "        writer = csv.DictWriter(csvfile, fieldnames=header)\n",
    "        writer.writeheader()\n",
    "        for row in samples:\n",
    "            writer.writerow(row)\n",
    "\n",
    "    print(f'CSV file \"{file_path}\" has been created with the data.')"
   ]
  },
  {
   "cell_type": "markdown",
   "metadata": {},
   "source": [
    "### Run Translation"
   ]
  },
  {
   "cell_type": "code",
   "execution_count": 16,
   "metadata": {},
   "outputs": [],
   "source": [
    "openai.api_key = api_key\n",
    "openai.organization = org_key\n",
    "\n",
    "model_name = \"gpt-3.5-turbo-instruct\""
   ]
  },
  {
   "cell_type": "code",
   "execution_count": 19,
   "metadata": {},
   "outputs": [
    {
     "name": "stdout",
     "output_type": "stream",
     "text": [
      "Translating file eval\\test\\v3_test_name.csv\n",
      "Initialize response history\n"
     ]
    },
    {
     "name": "stderr",
     "output_type": "stream",
     "text": [
      "  0%|          | 0/5 [00:00<?, ?it/s]"
     ]
    },
    {
     "name": "stderr",
     "output_type": "stream",
     "text": [
      " 20%|██        | 1/5 [00:02<00:09,  2.47s/it]"
     ]
    },
    {
     "name": "stdout",
     "output_type": "stream",
     "text": [
      "{\n",
      "    \"Indonesian\": {\n",
      "        \"Question\": \"Pegangan pada alat yang dibutuhkan Budi rusak. Ini adalah pegangan logam panjang, dengan pegas di dalamnya. Alat apa yang rusak?\",\n",
      "        \"Concept\": \"pegangan\",\n",
      "        \"Options\": [\"panci\", \"kuas\", \"tas bawaan\", \"kunci\", \"payung\"]\n",
      "    },\n",
      "    \"Sundanese\": {\n",
      "        \"Question\": \"Pegangan pada alat nu Budi butuhkeun rusak. Ieu nyaéta pegangan logam panjang, kalawan pegas di dinya. Alat naon nu rusak?\",\n",
      "        \"Concept\": \"pegangan\",\n",
      "        \"Options\": [\"panci\", \"kuas\", \"tas bawaan\", \"kunci\", \"payung\"]\n",
      "    }\n",
      "}\n"
     ]
    },
    {
     "name": "stderr",
     "output_type": "stream",
     "text": [
      " 40%|████      | 2/5 [00:05<00:08,  2.69s/it]"
     ]
    },
    {
     "name": "stdout",
     "output_type": "stream",
     "text": [
      "{\n",
      "    \"Indonesian\": {\n",
      "        \"question\": \"Siti takut melakukan kejahatan palsu dalam persidangan. Apa yang mungkin menyebabkan kejahatan palsu?\",\n",
      "        \"concept\": \"melakukan kejahatan palsu\",\n",
      "        \"options\": [\n",
      "            \"waktu penjara\",\n",
      "            \"masuk penjara\",\n",
      "            \"penuntutan pidana\",\n",
      "            \"persidangan yang salah\",\n",
      "            \"ketidakadilan\"\n",
      "        ]\n",
      "    },\n",
      "    \"Sundanese\": {\n",
      "        \"question\": \"Siti kahiji ngarasa kawas ngalakukeun kejahatan palsu dina sidang. Naon nu bisa ngarahkeun ka kejahatan palsu?\",\n",
      "        \"concept\": \"ngalakukeun kejahatan palsu\",\n",
      "        \"options\": [\n",
      "            \"waktu tahanan\",\n",
      "            \"masuk tahanan\",\n",
      "            \"pidana kriminal\",\n",
      "            \"sidang anu salah\",\n",
      "            \"ketidakadilan\"\n",
      "        ]\n",
      "    }\n",
      "}\n"
     ]
    },
    {
     "name": "stderr",
     "output_type": "stream",
     "text": [
      " 60%|██████    | 3/5 [00:07<00:04,  2.41s/it]"
     ]
    },
    {
     "name": "stdout",
     "output_type": "stream",
     "text": [
      "{\n",
      "  \"Indonesian\": {\n",
      "    \"Question\": \"Siti membalik halaman secara acak dan melihat \\\"sloth.\\\" Apa yang mungkin sedang dilihatnya?\",\n",
      "    \"Concept\": \"sloth\",\n",
      "    \"Options\": [\"alam semesta\", \"hutan belantara\", \"kamus\", \"iklan\", \"buku matematika\"]\n",
      "  },\n",
      "  \"Sundanese\": {\n",
      "    \"Question\": \"Siti balik kaca acak jeung ngeliat \\\"sloth.\\\" Naon nu mungkin aya dijieunna?\",\n",
      "    \"Concept\": \"sloth\",\n",
      "    \"Options\": [\"universe\", \"wilderness\", \"dictionary\", \"commercial\", \"math book\"]\n",
      "  }\n",
      "}\n"
     ]
    },
    {
     "name": "stderr",
     "output_type": "stream",
     "text": [
      " 80%|████████  | 4/5 [00:10<00:02,  2.50s/it]"
     ]
    },
    {
     "name": "stdout",
     "output_type": "stream",
     "text": [
      "{\n",
      "  \"Indonesian\": {\n",
      "    \"Question\": \"John bertindak dingin, tetapi sebenarnya dia sangat apa?\",\n",
      "    \"Concept\": \"dingin\",\n",
      "    \"Options\": [\n",
      "      \"membakar\",\n",
      "      \"mempersiapkan\",\n",
      "      \"ramah\",\n",
      "      \"kebalikan dari panas\",\n",
      "      \"dingin\"\n",
      "    ]\n",
      "  },\n",
      "  \"Sundanese\": {\n",
      "    \"Question\": \"John ngagawe dingin, tapi asliné sanésna anu sangar naon?\",\n",
      "    \"Concept\": \"dingin\",\n",
      "    \"Options\": [\n",
      "      \"ngabak\",\n",
      "      \"ngarapikeun\",\n",
      "      \"ramah\",\n",
      "      \"kebalikan tina panas\",\n",
      "      \"dingin\"\n",
      "    ]\n",
      "  }\n",
      "}\n"
     ]
    },
    {
     "name": "stderr",
     "output_type": "stream",
     "text": [
      "100%|██████████| 5/5 [00:12<00:00,  2.54s/it]"
     ]
    },
    {
     "name": "stdout",
     "output_type": "stream",
     "text": [
      "{\n",
      "  \"Indonesian\": {\n",
      "    \"Question\": \"Budi takut untuk berlari melalui jalur karena dia takut terluka. Apa yang mungkin dia lakukan sebagai gantinya?\",\n",
      "    \"Concept\": \"berlari\",\n",
      "    \"Options\": [\"berjalan cepat\", \"berjalan\", \"berdiri diam\", \"berjalan pelan\", \"pergi cepat\"]\n",
      "  },\n",
      "  \"Sundanese\": {\n",
      "    \"Question\": \"Budi kaget ngalari lewat jalur sabab dia kaget kena luka. Naon nu bisa dia lakukan salaku ganti?\",\n",
      "    \"Concept\": \"ngalari\",\n",
      "    \"Options\": [\"jalan cepet\", \"jalan\", \"ngadeg\", \"jalan pelan\", \"pergi cepet\"]\n",
      "  }\n",
      "}\n"
     ]
    },
    {
     "name": "stderr",
     "output_type": "stream",
     "text": [
      "\n"
     ]
    }
   ],
   "source": [
    "for folder in glob(\"./eval/*/\"):\n",
    "    for file in glob(f\"{folder}*.csv\"):\n",
    "        if \"v3\" in file:\n",
    "            fname = file.split(\"/\")[-1]\n",
    "            print(f\"Translating file {fname}\")\n",
    "\n",
    "            os.makedirs(f\"{folder}sample-chatgpt-instruct/\", exist_ok=True)\n",
    "            history_path = f\"{folder}sample-chatgpt-instruct/history_{fname}\"\n",
    "\n",
    "            if os.path.exists(history_path):\n",
    "                print(f\"Load response history from file {history_path}\")\n",
    "                resp_history_df = pd.read_csv(history_path, converters={'response': lambda x: ast.literal_eval(x)})\n",
    "                response_history = dict(zip(resp_history_df.prompt, resp_history_df.response))\n",
    "            else:\n",
    "                print(f\"Initialize response history\")\n",
    "                response_history = {}\n",
    "\n",
    "            file_data = load_csv_data(file)\n",
    "            for data in tqdm(file_data[:5]):\n",
    "                prompt, response = translate_csv_data(data, model_name, response_history)\n",
    "                print(response)\n",
    "                # response_history[prompt] = {\"response\": response}\n",
    "        \n",
    "                # resp_history_df = pd.DataFrame({'prompt': response_history.keys(), 'response': response_history.values()})\n",
    "                # resp_history_df.to_csv(history_path, index=False)\n",
    "\n",
    "                # response = response.split(\"\\n\")\n",
    "                # data[\"question\"] = str(response[0].split(\": \")[-1])\n",
    "                # data[\"question_concept\"] = str(response[1].split(\": \")[-1]).lower()\n",
    "                # data[\"choices\"][\"text\"] = response[2].split(\": \")[-1].lower().split(\", \")\n",
    "            break\n",
    "            # translated_file = f\"{folder}chatgpt-instruct/translated_chatgpt_instruct_{fname}\"\n",
    "            # save_data(file_data, translated_file)\n",
    "    break"
   ]
  },
  {
   "cell_type": "code",
   "execution_count": null,
   "metadata": {},
   "outputs": [],
   "source": []
  }
 ],
 "metadata": {
  "kernelspec": {
   "display_name": "Python 3",
   "language": "python",
   "name": "python3"
  },
  "language_info": {
   "codemirror_mode": {
    "name": "ipython",
    "version": 3
   },
   "file_extension": ".py",
   "mimetype": "text/x-python",
   "name": "python",
   "nbconvert_exporter": "python",
   "pygments_lexer": "ipython3",
   "version": "3.9.9"
  },
  "orig_nbformat": 4
 },
 "nbformat": 4,
 "nbformat_minor": 2
}
