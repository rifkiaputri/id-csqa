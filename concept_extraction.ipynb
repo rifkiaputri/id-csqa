{
 "cells": [
  {
   "cell_type": "code",
   "execution_count": 1,
   "metadata": {},
   "outputs": [],
   "source": [
    "%load_ext dotenv\n",
    "%dotenv"
   ]
  },
  {
   "cell_type": "code",
   "execution_count": 2,
   "metadata": {},
   "outputs": [],
   "source": [
    "import ast\n",
    "import os\n",
    "import re\n",
    "import string\n",
    "import time\n",
    "import pandas as pd\n",
    "import nusacrowd as nc\n",
    "import openai\n",
    "from dateutil.parser import parse\n",
    "from pathlib import Path\n",
    "from tqdm import tqdm"
   ]
  },
  {
   "cell_type": "code",
   "execution_count": 3,
   "metadata": {},
   "outputs": [
    {
     "name": "stderr",
     "output_type": "stream",
     "text": [
      "WARNING:datasets.builder:Found cached dataset nusaparagraph_topic (/media/kiki/kiki_hdd/cache/nusaparagraph_topic/nusaparagraph_topic_btk_nusantara_text/1.0.0/5f8ea8d92047b3f93a51be8d27c9d7f284654020550a77041e03c35158c9113c)\n"
     ]
    },
    {
     "data": {
      "application/vnd.jupyter.widget-view+json": {
       "model_id": "bf505020add54454b6eaee7e61d8ad60",
       "version_major": 2,
       "version_minor": 0
      },
      "text/plain": [
       "  0%|          | 0/3 [00:00<?, ?it/s]"
      ]
     },
     "metadata": {},
     "output_type": "display_data"
    },
    {
     "name": "stderr",
     "output_type": "stream",
     "text": [
      "WARNING:datasets.builder:Found cached dataset nusaparagraph_topic (/media/kiki/kiki_hdd/cache/nusaparagraph_topic/nusaparagraph_topic_bew_nusantara_text/1.0.0/5f8ea8d92047b3f93a51be8d27c9d7f284654020550a77041e03c35158c9113c)\n"
     ]
    },
    {
     "data": {
      "application/vnd.jupyter.widget-view+json": {
       "model_id": "2cea76747e5d45c2a5ce3cb1661d4c59",
       "version_major": 2,
       "version_minor": 0
      },
      "text/plain": [
       "  0%|          | 0/3 [00:00<?, ?it/s]"
      ]
     },
     "metadata": {},
     "output_type": "display_data"
    },
    {
     "name": "stderr",
     "output_type": "stream",
     "text": [
      "WARNING:datasets.builder:Found cached dataset nusaparagraph_topic (/media/kiki/kiki_hdd/cache/nusaparagraph_topic/nusaparagraph_topic_bug_nusantara_text/1.0.0/5f8ea8d92047b3f93a51be8d27c9d7f284654020550a77041e03c35158c9113c)\n"
     ]
    },
    {
     "data": {
      "application/vnd.jupyter.widget-view+json": {
       "model_id": "0ad18846686841d8b2bf18d82c3d672f",
       "version_major": 2,
       "version_minor": 0
      },
      "text/plain": [
       "  0%|          | 0/3 [00:00<?, ?it/s]"
      ]
     },
     "metadata": {},
     "output_type": "display_data"
    },
    {
     "name": "stderr",
     "output_type": "stream",
     "text": [
      "WARNING:datasets.builder:Found cached dataset nusaparagraph_topic (/media/kiki/kiki_hdd/cache/nusaparagraph_topic/nusaparagraph_topic_jav_nusantara_text/1.0.0/5f8ea8d92047b3f93a51be8d27c9d7f284654020550a77041e03c35158c9113c)\n"
     ]
    },
    {
     "data": {
      "application/vnd.jupyter.widget-view+json": {
       "model_id": "1f7d2f458a754abb99b6120392f80b67",
       "version_major": 2,
       "version_minor": 0
      },
      "text/plain": [
       "  0%|          | 0/3 [00:00<?, ?it/s]"
      ]
     },
     "metadata": {},
     "output_type": "display_data"
    },
    {
     "name": "stderr",
     "output_type": "stream",
     "text": [
      "WARNING:datasets.builder:Found cached dataset nusaparagraph_topic (/media/kiki/kiki_hdd/cache/nusaparagraph_topic/nusaparagraph_topic_mad_nusantara_text/1.0.0/5f8ea8d92047b3f93a51be8d27c9d7f284654020550a77041e03c35158c9113c)\n"
     ]
    },
    {
     "data": {
      "application/vnd.jupyter.widget-view+json": {
       "model_id": "b429015956074bf5a6f850b60a02ba46",
       "version_major": 2,
       "version_minor": 0
      },
      "text/plain": [
       "  0%|          | 0/3 [00:00<?, ?it/s]"
      ]
     },
     "metadata": {},
     "output_type": "display_data"
    },
    {
     "name": "stderr",
     "output_type": "stream",
     "text": [
      "WARNING:datasets.builder:Found cached dataset nusaparagraph_topic (/media/kiki/kiki_hdd/cache/nusaparagraph_topic/nusaparagraph_topic_mak_nusantara_text/1.0.0/5f8ea8d92047b3f93a51be8d27c9d7f284654020550a77041e03c35158c9113c)\n"
     ]
    },
    {
     "data": {
      "application/vnd.jupyter.widget-view+json": {
       "model_id": "597ca5267fd44776984c708dc7007c4e",
       "version_major": 2,
       "version_minor": 0
      },
      "text/plain": [
       "  0%|          | 0/3 [00:00<?, ?it/s]"
      ]
     },
     "metadata": {},
     "output_type": "display_data"
    },
    {
     "name": "stderr",
     "output_type": "stream",
     "text": [
      "WARNING:datasets.builder:Found cached dataset nusaparagraph_topic (/media/kiki/kiki_hdd/cache/nusaparagraph_topic/nusaparagraph_topic_min_nusantara_text/1.0.0/5f8ea8d92047b3f93a51be8d27c9d7f284654020550a77041e03c35158c9113c)\n"
     ]
    },
    {
     "data": {
      "application/vnd.jupyter.widget-view+json": {
       "model_id": "6b3abc168c954e0cad4c9af1bfbd5cbf",
       "version_major": 2,
       "version_minor": 0
      },
      "text/plain": [
       "  0%|          | 0/3 [00:00<?, ?it/s]"
      ]
     },
     "metadata": {},
     "output_type": "display_data"
    },
    {
     "name": "stderr",
     "output_type": "stream",
     "text": [
      "WARNING:datasets.builder:Found cached dataset nusaparagraph_topic (/media/kiki/kiki_hdd/cache/nusaparagraph_topic/nusaparagraph_topic_mui_nusantara_text/1.0.0/5f8ea8d92047b3f93a51be8d27c9d7f284654020550a77041e03c35158c9113c)\n"
     ]
    },
    {
     "data": {
      "application/vnd.jupyter.widget-view+json": {
       "model_id": "7de5d0d66f4b43b187336292b9ef48e6",
       "version_major": 2,
       "version_minor": 0
      },
      "text/plain": [
       "  0%|          | 0/3 [00:00<?, ?it/s]"
      ]
     },
     "metadata": {},
     "output_type": "display_data"
    },
    {
     "name": "stderr",
     "output_type": "stream",
     "text": [
      "WARNING:datasets.builder:Found cached dataset nusaparagraph_topic (/media/kiki/kiki_hdd/cache/nusaparagraph_topic/nusaparagraph_topic_rej_nusantara_text/1.0.0/5f8ea8d92047b3f93a51be8d27c9d7f284654020550a77041e03c35158c9113c)\n"
     ]
    },
    {
     "data": {
      "application/vnd.jupyter.widget-view+json": {
       "model_id": "ff10b310695f4b31b1979be8fb9a7c84",
       "version_major": 2,
       "version_minor": 0
      },
      "text/plain": [
       "  0%|          | 0/3 [00:00<?, ?it/s]"
      ]
     },
     "metadata": {},
     "output_type": "display_data"
    },
    {
     "name": "stderr",
     "output_type": "stream",
     "text": [
      "WARNING:datasets.builder:Found cached dataset nusaparagraph_topic (/media/kiki/kiki_hdd/cache/nusaparagraph_topic/nusaparagraph_topic_sun_nusantara_text/1.0.0/5f8ea8d92047b3f93a51be8d27c9d7f284654020550a77041e03c35158c9113c)\n"
     ]
    },
    {
     "data": {
      "application/vnd.jupyter.widget-view+json": {
       "model_id": "f4f788ab6aed41aa9412cdb719553fc7",
       "version_major": 2,
       "version_minor": 0
      },
      "text/plain": [
       "  0%|          | 0/3 [00:00<?, ?it/s]"
      ]
     },
     "metadata": {},
     "output_type": "display_data"
    },
    {
     "name": "stderr",
     "output_type": "stream",
     "text": [
      "WARNING:datasets.builder:Found cached dataset nusaparagraph_topic (/media/kiki/kiki_hdd/cache/nusaparagraph_topic/nusaparagraph_topic_nusantara_text/1.0.0/5f8ea8d92047b3f93a51be8d27c9d7f284654020550a77041e03c35158c9113c)\n"
     ]
    },
    {
     "data": {
      "application/vnd.jupyter.widget-view+json": {
       "model_id": "ee880a629cbe481d9fde7676c2ea60f2",
       "version_major": 2,
       "version_minor": 0
      },
      "text/plain": [
       "  0%|          | 0/3 [00:00<?, ?it/s]"
      ]
     },
     "metadata": {},
     "output_type": "display_data"
    }
   ],
   "source": [
    "dset = nc.load_datasets([\n",
    "    'nusaparagraph_topic'\n",
    "])"
   ]
  },
  {
   "cell_type": "code",
   "execution_count": 4,
   "metadata": {},
   "outputs": [],
   "source": [
    "openai.api_key = os.environ['OPENAI_API_KEY']\n",
    "openai.organization = os.environ['OPENAI_UILAB_KEY']"
   ]
  },
  {
   "cell_type": "code",
   "execution_count": 5,
   "metadata": {},
   "outputs": [],
   "source": [
    "out_parent_dir = \"../dataset/concept_extraction/\"\n",
    "model_name = \"gpt-3.5-turbo\"\n",
    "resp_history_filename = f\"{out_parent_dir}{model_name}_history_230831.csv\""
   ]
  },
  {
   "cell_type": "code",
   "execution_count": 6,
   "metadata": {},
   "outputs": [],
   "source": [
    "ent_types = ['person', 'location', 'occupation', 'activity', 'cult_event', 'hist_event', 'food', 'custom']"
   ]
  },
  {
   "cell_type": "code",
   "execution_count": 7,
   "metadata": {},
   "outputs": [
    {
     "name": "stdout",
     "output_type": "stream",
     "text": [
      "Response history found!\n",
      "{'person': '', 'location': 'kostan, tempat', 'occupation': 'padamelan, kateteran, pagawean', 'activity': 'nyanyanyian, jalan-jalan', 'cult_event': '', 'hist_event': '', 'food': '', 'custom': ''}\n",
      "<class 'dict'>\n"
     ]
    }
   ],
   "source": [
    "resp_history_path = Path(resp_history_filename)\n",
    "if resp_history_path.is_file():\n",
    "    print(\"Response history found!\")\n",
    "    resp_history_df = pd.read_csv(resp_history_filename, converters={'response': lambda x: ast.literal_eval(x)})\n",
    "    response_history = dict(zip(resp_history_df.prompt, resp_history_df.response))\n",
    "    first_key = next(iter(response_history))\n",
    "    print(response_history[first_key])\n",
    "    print(type(response_history[first_key]))\n",
    "else:\n",
    "    print(\"Response history not found. Initializing new one...\")\n",
    "    print(resp_history_filename)\n",
    "    response_history = {}"
   ]
  },
  {
   "cell_type": "code",
   "execution_count": 8,
   "metadata": {},
   "outputs": [],
   "source": [
    "def get_input_prompt(text, lang_name):\n",
    "    start_prompt = f\"\"\"Extract the important entities mentioned in the text below. \n",
    "Extract all historical figure names (HIST_FIGURE), all location names (LOC), all occupation names (OCC), all seasonal/cultural/religious activity (ACT), all cultural event names (CULT-EVT), all historical event names (HIST-EVT), all food names (FOOD), and all Indonesian-related law or custom such as wearing helmets for motorbike riders, receiving with right hand, eating with hands, etc (CUST). Please strictly follow the desired output below. Extracted 'custom' (CUST) must be answered in {lang_name} language.\n",
    "\n",
    "Desired format:\n",
    "HIST_FIGURE: <comma_separated_list_of_historical_figure_names>\n",
    "LOC: -||-\n",
    "OCC: -||-\n",
    "ACT: -||-\n",
    "CULT-EVT: -||-\n",
    "HIST-EVT: -||-\n",
    "FOOD: -||-\n",
    "CUST: -||-\n",
    "\n",
    "Text:\"\"\"\n",
    "\n",
    "    return f\"{start_prompt} {text}\""
   ]
  },
  {
   "cell_type": "code",
   "execution_count": 9,
   "metadata": {},
   "outputs": [],
   "source": [
    "def get_openai_chat_completion(input_prompt, model_name):\n",
    "    return openai.ChatCompletion.create(\n",
    "        model=model_name,\n",
    "        messages=[\n",
    "            {\n",
    "                'role': 'user',\n",
    "                'content': input_prompt\n",
    "            }\n",
    "        ],\n",
    "        temperature=0.3\n",
    "    )\n",
    "\n",
    "\n",
    "def get_openai_concepts(input_prompt, model_name):\n",
    "    if input_prompt in response_history:\n",
    "        return response_history[input_prompt]\n",
    "    \n",
    "    try:\n",
    "        completion = get_openai_chat_completion(input_prompt, model_name)\n",
    "    except Exception:\n",
    "        print('Caught exception, wait for 1 min...')\n",
    "        time.sleep(60)\n",
    "        completion = get_openai_chat_completion(input_prompt, model_name)\n",
    "\n",
    "    response = completion.choices[0].message.content.strip()   \n",
    "    responses = [r for r in response.split('\\n') if r != '']\n",
    "    responses = [re.sub(r'^.*:', '', resp).strip() for resp in responses]\n",
    "    if len(responses) != 8:\n",
    "        print(response)\n",
    "    assert len(responses) == 8 or response.count('-||-') == 8\n",
    "    response_final = {}\n",
    "    for ent_type, resp in zip(ent_types, responses):\n",
    "        if resp in ['-||-', '-']:\n",
    "            response_final[ent_type] = ''\n",
    "        else:\n",
    "            response_final[ent_type] = resp\n",
    "    \n",
    "    response_history[input_prompt] = response_final\n",
    "    resp_history_df = pd.DataFrame({'prompt': response_history.keys(), 'response': response_history.values()})\n",
    "    resp_history_df.to_csv(resp_history_filename, index=False)\n",
    "    \n",
    "    return response_final"
   ]
  },
  {
   "cell_type": "code",
   "execution_count": 10,
   "metadata": {},
   "outputs": [],
   "source": [
    "dset_names = [\n",
    "    'nusaparagraph_topic_sun_nusantara_text',\n",
    "    'nusaparagraph_topic_btk_nusantara_text',\n",
    "    'nusaparagraph_topic_bew_nusantara_text',\n",
    "    'nusaparagraph_topic_bug_nusantara_text',\n",
    "    'nusaparagraph_topic_jav_nusantara_text',\n",
    "    'nusaparagraph_topic_mad_nusantara_text',\n",
    "    'nusaparagraph_topic_mak_nusantara_text',\n",
    "    'nusaparagraph_topic_min_nusantara_text',\n",
    "    'nusaparagraph_topic_mui_nusantara_text',\n",
    "    'nusaparagraph_topic_rej_nusantara_text',\n",
    "]\n",
    "\n",
    "topics = [\n",
    "    \"food & beverages\", \"sports\", \"leisures\", \"religion\", \"culture & heritage\",\n",
    "    \"slice of life\", \"technology\", \"business\"\n",
    "]"
   ]
  },
  {
   "cell_type": "code",
   "execution_count": 11,
   "metadata": {},
   "outputs": [
    {
     "name": "stderr",
     "output_type": "stream",
     "text": [
      "100%|██████████| 900/900 [00:00<00:00, 9948.30it/s]\n"
     ]
    }
   ],
   "source": [
    "concepts_data = {\n",
    "    'text': [], 'topic': [],\n",
    "    'person': [], 'location': [], 'occupation': [], 'activity': [],\n",
    "    'cult_event': [], 'hist_event': [], 'food': [], 'custom': []\n",
    "}\n",
    "dset_sun = dset['nusaparagraph_topic_sun_nusantara_text']\n",
    "for split in ['test']:\n",
    "    for sample in tqdm(dset_sun[split]):\n",
    "        topic = topics[sample['label']]\n",
    "        if topic in ['business', 'technology']:\n",
    "            continue\n",
    "        \n",
    "        input_prompt = get_input_prompt(sample['text'], 'Sundanese')\n",
    "        concepts = get_openai_concepts(input_prompt, model_name)\n",
    "\n",
    "        if all([v == \"\" or v == \"-\" for v in concepts.values()]):\n",
    "            continue\n",
    "        \n",
    "        for k, v in concepts.items():\n",
    "            concepts_data[k].append(v)\n",
    "        \n",
    "        concepts_data['text'].append(sample['text'])\n",
    "        concepts_data['topic'].append(topic)"
   ]
  },
  {
   "cell_type": "code",
   "execution_count": 12,
   "metadata": {},
   "outputs": [],
   "source": [
    "concepts_df = pd.DataFrame(concepts_data)"
   ]
  },
  {
   "cell_type": "code",
   "execution_count": 13,
   "metadata": {},
   "outputs": [
    {
     "data": {
      "text/html": [
       "<div>\n",
       "<style scoped>\n",
       "    .dataframe tbody tr th:only-of-type {\n",
       "        vertical-align: middle;\n",
       "    }\n",
       "\n",
       "    .dataframe tbody tr th {\n",
       "        vertical-align: top;\n",
       "    }\n",
       "\n",
       "    .dataframe thead th {\n",
       "        text-align: right;\n",
       "    }\n",
       "</style>\n",
       "<table border=\"1\" class=\"dataframe\">\n",
       "  <thead>\n",
       "    <tr style=\"text-align: right;\">\n",
       "      <th></th>\n",
       "      <th>text</th>\n",
       "      <th>topic</th>\n",
       "      <th>person</th>\n",
       "      <th>location</th>\n",
       "      <th>occupation</th>\n",
       "      <th>activity</th>\n",
       "      <th>cult_event</th>\n",
       "      <th>hist_event</th>\n",
       "      <th>food</th>\n",
       "      <th>custom</th>\n",
       "    </tr>\n",
       "  </thead>\n",
       "  <tbody>\n",
       "    <tr>\n",
       "      <th>0</th>\n",
       "      <td>Mipit nyaeta salah sahiji acara adat anu kagia...</td>\n",
       "      <td>culture &amp; heritage</td>\n",
       "      <td></td>\n",
       "      <td></td>\n",
       "      <td></td>\n",
       "      <td></td>\n",
       "      <td></td>\n",
       "      <td></td>\n",
       "      <td>sangu congcot, sirih lengkep, endog hayam, pis...</td>\n",
       "      <td>Mipit nyaeta upacara bubuka atawa pangjajap me...</td>\n",
       "    </tr>\n",
       "    <tr>\n",
       "      <th>1</th>\n",
       "      <td>Salah sahiji kabeungharan Indonesia nyaeta sen...</td>\n",
       "      <td>culture &amp; heritage</td>\n",
       "      <td></td>\n",
       "      <td>Indonesia, nusantara</td>\n",
       "      <td></td>\n",
       "      <td>tatanen, moro</td>\n",
       "      <td></td>\n",
       "      <td></td>\n",
       "      <td></td>\n",
       "      <td></td>\n",
       "    </tr>\n",
       "    <tr>\n",
       "      <th>2</th>\n",
       "      <td>Peryogi kauninga, dina hal ieu réa pisan béja ...</td>\n",
       "      <td>sports</td>\n",
       "      <td></td>\n",
       "      <td>stadion</td>\n",
       "      <td>suporter</td>\n",
       "      <td>tanding</td>\n",
       "      <td></td>\n",
       "      <td></td>\n",
       "      <td></td>\n",
       "      <td></td>\n",
       "    </tr>\n",
       "    <tr>\n",
       "      <th>3</th>\n",
       "      <td>Aya sababaraha mangpaat tari Jaipong, nyaeta b...</td>\n",
       "      <td>culture &amp; heritage</td>\n",
       "      <td></td>\n",
       "      <td>Jaipong</td>\n",
       "      <td></td>\n",
       "      <td></td>\n",
       "      <td></td>\n",
       "      <td></td>\n",
       "      <td></td>\n",
       "      <td></td>\n",
       "    </tr>\n",
       "    <tr>\n",
       "      <th>4</th>\n",
       "      <td>Renang oge salah sahiji hobi urang salian ti n...</td>\n",
       "      <td>leisures</td>\n",
       "      <td></td>\n",
       "      <td>Hotel Oasis Siliwangi</td>\n",
       "      <td></td>\n",
       "      <td></td>\n",
       "      <td></td>\n",
       "      <td></td>\n",
       "      <td></td>\n",
       "      <td></td>\n",
       "    </tr>\n",
       "    <tr>\n",
       "      <th>...</th>\n",
       "      <td>...</td>\n",
       "      <td>...</td>\n",
       "      <td>...</td>\n",
       "      <td>...</td>\n",
       "      <td>...</td>\n",
       "      <td>...</td>\n",
       "      <td>...</td>\n",
       "      <td>...</td>\n",
       "      <td>...</td>\n",
       "      <td>...</td>\n",
       "    </tr>\n",
       "    <tr>\n",
       "      <th>472</th>\n",
       "      <td>Alesan kadua naha urang kedah gancang ngakuan ...</td>\n",
       "      <td>slice of life</td>\n",
       "      <td></td>\n",
       "      <td>gunung, leuweung</td>\n",
       "      <td>pendaki, panyakit gunung, tim SAR</td>\n",
       "      <td></td>\n",
       "      <td></td>\n",
       "      <td></td>\n",
       "      <td></td>\n",
       "      <td></td>\n",
       "    </tr>\n",
       "    <tr>\n",
       "      <th>473</th>\n",
       "      <td>Lamun keur libur sakola, baheula abdi sareng r...</td>\n",
       "      <td>leisures</td>\n",
       "      <td></td>\n",
       "      <td>Gunung Manglayang, Batu Kuda, Cibiru</td>\n",
       "      <td></td>\n",
       "      <td></td>\n",
       "      <td></td>\n",
       "      <td></td>\n",
       "      <td></td>\n",
       "      <td></td>\n",
       "    </tr>\n",
       "    <tr>\n",
       "      <th>474</th>\n",
       "      <td>Udang saos Padang nyaeta kadaharan anu dijieun...</td>\n",
       "      <td>food &amp; beverages</td>\n",
       "      <td></td>\n",
       "      <td>Kota Padang, Sumatera Barat, Indonesia</td>\n",
       "      <td></td>\n",
       "      <td></td>\n",
       "      <td></td>\n",
       "      <td></td>\n",
       "      <td>Udang saos Padang, sambel Padang</td>\n",
       "      <td></td>\n",
       "    </tr>\n",
       "    <tr>\n",
       "      <th>475</th>\n",
       "      <td>Kabupaten Subang jadi salah sahiji daerah anu ...</td>\n",
       "      <td>leisures</td>\n",
       "      <td></td>\n",
       "      <td>Kabupaten Subang, Subang selatan, Lembang Band...</td>\n",
       "      <td></td>\n",
       "      <td></td>\n",
       "      <td></td>\n",
       "      <td></td>\n",
       "      <td></td>\n",
       "      <td></td>\n",
       "    </tr>\n",
       "    <tr>\n",
       "      <th>476</th>\n",
       "      <td>Dahareun ieu di jual isuk-isuk di bungkus make...</td>\n",
       "      <td>food &amp; beverages</td>\n",
       "      <td></td>\n",
       "      <td></td>\n",
       "      <td></td>\n",
       "      <td></td>\n",
       "      <td></td>\n",
       "      <td></td>\n",
       "      <td>Nasi Uduk</td>\n",
       "      <td></td>\n",
       "    </tr>\n",
       "  </tbody>\n",
       "</table>\n",
       "<p>477 rows × 10 columns</p>\n",
       "</div>"
      ],
      "text/plain": [
       "                                                  text               topic  \\\n",
       "0    Mipit nyaeta salah sahiji acara adat anu kagia...  culture & heritage   \n",
       "1    Salah sahiji kabeungharan Indonesia nyaeta sen...  culture & heritage   \n",
       "2    Peryogi kauninga, dina hal ieu réa pisan béja ...              sports   \n",
       "3    Aya sababaraha mangpaat tari Jaipong, nyaeta b...  culture & heritage   \n",
       "4    Renang oge salah sahiji hobi urang salian ti n...            leisures   \n",
       "..                                                 ...                 ...   \n",
       "472  Alesan kadua naha urang kedah gancang ngakuan ...       slice of life   \n",
       "473  Lamun keur libur sakola, baheula abdi sareng r...            leisures   \n",
       "474  Udang saos Padang nyaeta kadaharan anu dijieun...    food & beverages   \n",
       "475  Kabupaten Subang jadi salah sahiji daerah anu ...            leisures   \n",
       "476  Dahareun ieu di jual isuk-isuk di bungkus make...    food & beverages   \n",
       "\n",
       "    person                                           location  \\\n",
       "0                                                               \n",
       "1                                        Indonesia, nusantara   \n",
       "2                                                     stadion   \n",
       "3                                                     Jaipong   \n",
       "4                                       Hotel Oasis Siliwangi   \n",
       "..     ...                                                ...   \n",
       "472                                          gunung, leuweung   \n",
       "473                      Gunung Manglayang, Batu Kuda, Cibiru   \n",
       "474                    Kota Padang, Sumatera Barat, Indonesia   \n",
       "475         Kabupaten Subang, Subang selatan, Lembang Band...   \n",
       "476                                                             \n",
       "\n",
       "                            occupation       activity cult_event hist_event  \\\n",
       "0                                                                             \n",
       "1                                       tatanen, moro                         \n",
       "2                             suporter        tanding                         \n",
       "3                                                                             \n",
       "4                                                                             \n",
       "..                                 ...            ...        ...        ...   \n",
       "472  pendaki, panyakit gunung, tim SAR                                        \n",
       "473                                                                           \n",
       "474                                                                           \n",
       "475                                                                           \n",
       "476                                                                           \n",
       "\n",
       "                                                  food  \\\n",
       "0    sangu congcot, sirih lengkep, endog hayam, pis...   \n",
       "1                                                        \n",
       "2                                                        \n",
       "3                                                        \n",
       "4                                                        \n",
       "..                                                 ...   \n",
       "472                                                      \n",
       "473                                                      \n",
       "474                   Udang saos Padang, sambel Padang   \n",
       "475                                                      \n",
       "476                                          Nasi Uduk   \n",
       "\n",
       "                                                custom  \n",
       "0    Mipit nyaeta upacara bubuka atawa pangjajap me...  \n",
       "1                                                       \n",
       "2                                                       \n",
       "3                                                       \n",
       "4                                                       \n",
       "..                                                 ...  \n",
       "472                                                     \n",
       "473                                                     \n",
       "474                                                     \n",
       "475                                                     \n",
       "476                                                     \n",
       "\n",
       "[477 rows x 10 columns]"
      ]
     },
     "execution_count": 13,
     "metadata": {},
     "output_type": "execute_result"
    }
   ],
   "source": [
    "concepts_df"
   ]
  },
  {
   "cell_type": "code",
   "execution_count": 14,
   "metadata": {},
   "outputs": [],
   "source": [
    "dset_name_out = 'nusaparagraph_topic_sun_nusantara_text'.replace('_nusantara_text', '')\n",
    "concepts_df.to_csv(f\"{out_parent_dir}{dset_name_out}_test_concepts.csv\", index=False)"
   ]
  },
  {
   "cell_type": "code",
   "execution_count": 15,
   "metadata": {},
   "outputs": [],
   "source": [
    "def is_date(string, fuzzy=True):\n",
    "    try: \n",
    "        parse(string, fuzzy=fuzzy)\n",
    "        return True\n",
    "\n",
    "    except ValueError:\n",
    "        return False"
   ]
  },
  {
   "cell_type": "code",
   "execution_count": 16,
   "metadata": {},
   "outputs": [],
   "source": [
    "concepts_by_topic = []\n",
    "for index, row in concepts_df.iterrows():\n",
    "    for ent_type in ent_types:\n",
    "        if ent_type == 'custom' and (row[ent_type] == row['text'] or len(row[ent_type].split('. ')) >= 2):\n",
    "            continue\n",
    "\n",
    "        cons = row[ent_type].split(', ')\n",
    "        for c in cons:\n",
    "            if all([tok in string.punctuation for tok in re.sub(\"\\d+\", \"\", c).strip().split()]):\n",
    "                continue\n",
    "\n",
    "            concept_cleaned = c.lower() if c[-1] not in string.punctuation else c.lower()[:-1]\n",
    "            concept_cleaned = re.sub(\"[\\(\\[].*?[\\)\\]]\", \"\", concept_cleaned)\n",
    "            concept_cleaned = re.sub(\"[\\(\\[].*\", \"\", concept_cleaned).strip()\n",
    "\n",
    "            if (concept_cleaned not in row['text'].lower() and ent_type != 'custom') or len(concept_cleaned) <= 1:\n",
    "                continue\n",
    "\n",
    "            if is_date(concept_cleaned) and ent_type not in ['cult_event', 'hist_event']:\n",
    "                continue \n",
    "\n",
    "            concepts_by_topic.append({\n",
    "                'concept': concept_cleaned,\n",
    "                'type': ent_type,\n",
    "                'topic': row['topic'],\n",
    "                'text_source': row['text']\n",
    "            })"
   ]
  },
  {
   "cell_type": "code",
   "execution_count": 17,
   "metadata": {},
   "outputs": [],
   "source": [
    "concepts_by_topic_df = pd.DataFrame(concepts_by_topic).drop_duplicates(['concept', 'type', 'topic']).sort_values(['topic', 'text_source']).reset_index(drop=True)"
   ]
  },
  {
   "cell_type": "code",
   "execution_count": 18,
   "metadata": {},
   "outputs": [
    {
     "data": {
      "text/html": [
       "<div>\n",
       "<style scoped>\n",
       "    .dataframe tbody tr th:only-of-type {\n",
       "        vertical-align: middle;\n",
       "    }\n",
       "\n",
       "    .dataframe tbody tr th {\n",
       "        vertical-align: top;\n",
       "    }\n",
       "\n",
       "    .dataframe thead th {\n",
       "        text-align: right;\n",
       "    }\n",
       "</style>\n",
       "<table border=\"1\" class=\"dataframe\">\n",
       "  <thead>\n",
       "    <tr style=\"text-align: right;\">\n",
       "      <th></th>\n",
       "      <th>concept</th>\n",
       "      <th>type</th>\n",
       "      <th>topic</th>\n",
       "      <th>text_source</th>\n",
       "    </tr>\n",
       "  </thead>\n",
       "  <tbody>\n",
       "    <tr>\n",
       "      <th>0</th>\n",
       "      <td>karajaan sunda</td>\n",
       "      <td>location</td>\n",
       "      <td>culture &amp; heritage</td>\n",
       "      <td>ANGKLUNG, nyaéta pakakas musik tradisional asl...</td>\n",
       "    </tr>\n",
       "    <tr>\n",
       "      <th>1</th>\n",
       "      <td>jasinga</td>\n",
       "      <td>location</td>\n",
       "      <td>culture &amp; heritage</td>\n",
       "      <td>ANGKLUNG, nyaéta pakakas musik tradisional asl...</td>\n",
       "    </tr>\n",
       "    <tr>\n",
       "      <th>2</th>\n",
       "      <td>bogor</td>\n",
       "      <td>location</td>\n",
       "      <td>culture &amp; heritage</td>\n",
       "      <td>ANGKLUNG, nyaéta pakakas musik tradisional asl...</td>\n",
       "    </tr>\n",
       "    <tr>\n",
       "      <th>3</th>\n",
       "      <td>upacara melak padi</td>\n",
       "      <td>activity</td>\n",
       "      <td>culture &amp; heritage</td>\n",
       "      <td>ANGKLUNG, nyaéta pakakas musik tradisional asl...</td>\n",
       "    </tr>\n",
       "    <tr>\n",
       "      <th>4</th>\n",
       "      <td>nyembah dewi sri pohaci</td>\n",
       "      <td>activity</td>\n",
       "      <td>culture &amp; heritage</td>\n",
       "      <td>ANGKLUNG, nyaéta pakakas musik tradisional asl...</td>\n",
       "    </tr>\n",
       "    <tr>\n",
       "      <th>...</th>\n",
       "      <td>...</td>\n",
       "      <td>...</td>\n",
       "      <td>...</td>\n",
       "      <td>...</td>\n",
       "    </tr>\n",
       "    <tr>\n",
       "      <th>1497</th>\n",
       "      <td>malaysia</td>\n",
       "      <td>location</td>\n",
       "      <td>sports</td>\n",
       "      <td>Waktu keur leutik mah resep pisan lalajo Tufik...</td>\n",
       "    </tr>\n",
       "    <tr>\n",
       "      <th>1498</th>\n",
       "      <td>pamaen badminton</td>\n",
       "      <td>occupation</td>\n",
       "      <td>sports</td>\n",
       "      <td>Waktu keur leutik mah resep pisan lalajo Tufik...</td>\n",
       "    </tr>\n",
       "    <tr>\n",
       "      <th>1499</th>\n",
       "      <td>kajuaraan dunia</td>\n",
       "      <td>activity</td>\n",
       "      <td>sports</td>\n",
       "      <td>Waktu keur leutik mah resep pisan lalajo Tufik...</td>\n",
       "    </tr>\n",
       "    <tr>\n",
       "      <th>1500</th>\n",
       "      <td>gunung padang</td>\n",
       "      <td>location</td>\n",
       "      <td>sports</td>\n",
       "      <td>Zaman ayeuna mah seueur wahana wisata nu diada...</td>\n",
       "    </tr>\n",
       "    <tr>\n",
       "      <th>1501</th>\n",
       "      <td>purwakarta</td>\n",
       "      <td>location</td>\n",
       "      <td>sports</td>\n",
       "      <td>Zaman ayeuna mah seueur wahana wisata nu diada...</td>\n",
       "    </tr>\n",
       "  </tbody>\n",
       "</table>\n",
       "<p>1502 rows × 4 columns</p>\n",
       "</div>"
      ],
      "text/plain": [
       "                      concept        type               topic  \\\n",
       "0              karajaan sunda    location  culture & heritage   \n",
       "1                     jasinga    location  culture & heritage   \n",
       "2                       bogor    location  culture & heritage   \n",
       "3          upacara melak padi    activity  culture & heritage   \n",
       "4     nyembah dewi sri pohaci    activity  culture & heritage   \n",
       "...                       ...         ...                 ...   \n",
       "1497                 malaysia    location              sports   \n",
       "1498         pamaen badminton  occupation              sports   \n",
       "1499          kajuaraan dunia    activity              sports   \n",
       "1500            gunung padang    location              sports   \n",
       "1501               purwakarta    location              sports   \n",
       "\n",
       "                                            text_source  \n",
       "0     ANGKLUNG, nyaéta pakakas musik tradisional asl...  \n",
       "1     ANGKLUNG, nyaéta pakakas musik tradisional asl...  \n",
       "2     ANGKLUNG, nyaéta pakakas musik tradisional asl...  \n",
       "3     ANGKLUNG, nyaéta pakakas musik tradisional asl...  \n",
       "4     ANGKLUNG, nyaéta pakakas musik tradisional asl...  \n",
       "...                                                 ...  \n",
       "1497  Waktu keur leutik mah resep pisan lalajo Tufik...  \n",
       "1498  Waktu keur leutik mah resep pisan lalajo Tufik...  \n",
       "1499  Waktu keur leutik mah resep pisan lalajo Tufik...  \n",
       "1500  Zaman ayeuna mah seueur wahana wisata nu diada...  \n",
       "1501  Zaman ayeuna mah seueur wahana wisata nu diada...  \n",
       "\n",
       "[1502 rows x 4 columns]"
      ]
     },
     "execution_count": 18,
     "metadata": {},
     "output_type": "execute_result"
    }
   ],
   "source": [
    "concepts_by_topic_df"
   ]
  },
  {
   "cell_type": "code",
   "execution_count": 19,
   "metadata": {},
   "outputs": [],
   "source": [
    "concepts_by_topic_df.to_csv(f\"{out_parent_dir}{dset_name_out}_test_concepts_nusa_topic.csv\", index=False)"
   ]
  },
  {
   "cell_type": "code",
   "execution_count": 20,
   "metadata": {},
   "outputs": [],
   "source": [
    "def get_topic_mapping(ent_type):\n",
    "    if ent_type == 'location':\n",
    "        return 'places'\n",
    "    \n",
    "    if ent_type == 'food':\n",
    "        return 'food'\n",
    "    \n",
    "    if ent_type in ['person', 'hist_event']:\n",
    "        return 'history'\n",
    "\n",
    "    if ent_type in ['activity', 'occupation', 'cult_event']:\n",
    "        return 'activity'\n",
    "\n",
    "    if ent_type == 'custom':\n",
    "        return 'custom'\n",
    "\n",
    "    return 'others'"
   ]
  },
  {
   "cell_type": "code",
   "execution_count": 21,
   "metadata": {},
   "outputs": [],
   "source": [
    "csqa_concepts = []\n",
    "for item in concepts_by_topic:\n",
    "    csqa_topic = get_topic_mapping(item['type'])\n",
    "    csqa_concepts.append({\n",
    "        'concept': item['concept'],\n",
    "        'category': csqa_topic,\n",
    "        'nusa_topic': item['topic'],\n",
    "        'text_source': item['text_source']\n",
    "    })"
   ]
  },
  {
   "cell_type": "code",
   "execution_count": 22,
   "metadata": {},
   "outputs": [],
   "source": [
    "concepts_by_csqa_topic_df = pd.DataFrame(csqa_concepts).drop_duplicates(['concept', 'category']).sort_values(['category', 'nusa_topic', 'text_source']).reset_index(drop=True)"
   ]
  },
  {
   "cell_type": "code",
   "execution_count": 23,
   "metadata": {},
   "outputs": [
    {
     "data": {
      "text/html": [
       "<div>\n",
       "<style scoped>\n",
       "    .dataframe tbody tr th:only-of-type {\n",
       "        vertical-align: middle;\n",
       "    }\n",
       "\n",
       "    .dataframe tbody tr th {\n",
       "        vertical-align: top;\n",
       "    }\n",
       "\n",
       "    .dataframe thead th {\n",
       "        text-align: right;\n",
       "    }\n",
       "</style>\n",
       "<table border=\"1\" class=\"dataframe\">\n",
       "  <thead>\n",
       "    <tr style=\"text-align: right;\">\n",
       "      <th></th>\n",
       "      <th>concept</th>\n",
       "      <th>category</th>\n",
       "      <th>nusa_topic</th>\n",
       "      <th>text_source</th>\n",
       "    </tr>\n",
       "  </thead>\n",
       "  <tbody>\n",
       "    <tr>\n",
       "      <th>0</th>\n",
       "      <td>upacara melak padi</td>\n",
       "      <td>activity</td>\n",
       "      <td>culture &amp; heritage</td>\n",
       "      <td>ANGKLUNG, nyaéta pakakas musik tradisional asl...</td>\n",
       "    </tr>\n",
       "    <tr>\n",
       "      <th>1</th>\n",
       "      <td>nyembah dewi sri pohaci</td>\n",
       "      <td>activity</td>\n",
       "      <td>culture &amp; heritage</td>\n",
       "      <td>ANGKLUNG, nyaéta pakakas musik tradisional asl...</td>\n",
       "    </tr>\n",
       "    <tr>\n",
       "      <th>2</th>\n",
       "      <td>bandit</td>\n",
       "      <td>activity</td>\n",
       "      <td>culture &amp; heritage</td>\n",
       "      <td>Abdi ti Jakarta. Salah sahiji legenda Betawi a...</td>\n",
       "    </tr>\n",
       "    <tr>\n",
       "      <th>3</th>\n",
       "      <td>nelayan</td>\n",
       "      <td>activity</td>\n",
       "      <td>culture &amp; heritage</td>\n",
       "      <td>Acara Adat Nadran di Indramayu-Cirebon anu bia...</td>\n",
       "    </tr>\n",
       "    <tr>\n",
       "      <th>4</th>\n",
       "      <td>pamayang</td>\n",
       "      <td>activity</td>\n",
       "      <td>culture &amp; heritage</td>\n",
       "      <td>Acara Adat Nadran di Indramayu-Cirebon anu bia...</td>\n",
       "    </tr>\n",
       "    <tr>\n",
       "      <th>...</th>\n",
       "      <td>...</td>\n",
       "      <td>...</td>\n",
       "      <td>...</td>\n",
       "      <td>...</td>\n",
       "    </tr>\n",
       "    <tr>\n",
       "      <th>1352</th>\n",
       "      <td>bengkel</td>\n",
       "      <td>places</td>\n",
       "      <td>sports</td>\n",
       "      <td>Unggal Minggu isuk-isuk Jaja sok ngurilingan k...</td>\n",
       "    </tr>\n",
       "    <tr>\n",
       "      <th>1353</th>\n",
       "      <td>madrid</td>\n",
       "      <td>places</td>\n",
       "      <td>sports</td>\n",
       "      <td>Waktu keur leutik mah resep pisan lalajo Tufik...</td>\n",
       "    </tr>\n",
       "    <tr>\n",
       "      <th>1354</th>\n",
       "      <td>kuala lumpur</td>\n",
       "      <td>places</td>\n",
       "      <td>sports</td>\n",
       "      <td>Waktu keur leutik mah resep pisan lalajo Tufik...</td>\n",
       "    </tr>\n",
       "    <tr>\n",
       "      <th>1355</th>\n",
       "      <td>malaysia</td>\n",
       "      <td>places</td>\n",
       "      <td>sports</td>\n",
       "      <td>Waktu keur leutik mah resep pisan lalajo Tufik...</td>\n",
       "    </tr>\n",
       "    <tr>\n",
       "      <th>1356</th>\n",
       "      <td>gunung padang</td>\n",
       "      <td>places</td>\n",
       "      <td>sports</td>\n",
       "      <td>Zaman ayeuna mah seueur wahana wisata nu diada...</td>\n",
       "    </tr>\n",
       "  </tbody>\n",
       "</table>\n",
       "<p>1357 rows × 4 columns</p>\n",
       "</div>"
      ],
      "text/plain": [
       "                      concept  category          nusa_topic  \\\n",
       "0          upacara melak padi  activity  culture & heritage   \n",
       "1     nyembah dewi sri pohaci  activity  culture & heritage   \n",
       "2                      bandit  activity  culture & heritage   \n",
       "3                     nelayan  activity  culture & heritage   \n",
       "4                    pamayang  activity  culture & heritage   \n",
       "...                       ...       ...                 ...   \n",
       "1352                  bengkel    places              sports   \n",
       "1353                   madrid    places              sports   \n",
       "1354             kuala lumpur    places              sports   \n",
       "1355                 malaysia    places              sports   \n",
       "1356            gunung padang    places              sports   \n",
       "\n",
       "                                            text_source  \n",
       "0     ANGKLUNG, nyaéta pakakas musik tradisional asl...  \n",
       "1     ANGKLUNG, nyaéta pakakas musik tradisional asl...  \n",
       "2     Abdi ti Jakarta. Salah sahiji legenda Betawi a...  \n",
       "3     Acara Adat Nadran di Indramayu-Cirebon anu bia...  \n",
       "4     Acara Adat Nadran di Indramayu-Cirebon anu bia...  \n",
       "...                                                 ...  \n",
       "1352  Unggal Minggu isuk-isuk Jaja sok ngurilingan k...  \n",
       "1353  Waktu keur leutik mah resep pisan lalajo Tufik...  \n",
       "1354  Waktu keur leutik mah resep pisan lalajo Tufik...  \n",
       "1355  Waktu keur leutik mah resep pisan lalajo Tufik...  \n",
       "1356  Zaman ayeuna mah seueur wahana wisata nu diada...  \n",
       "\n",
       "[1357 rows x 4 columns]"
      ]
     },
     "execution_count": 23,
     "metadata": {},
     "output_type": "execute_result"
    }
   ],
   "source": [
    "concepts_by_csqa_topic_df"
   ]
  },
  {
   "cell_type": "code",
   "execution_count": 24,
   "metadata": {},
   "outputs": [],
   "source": [
    "concepts_by_csqa_topic_df.to_csv(f\"{out_parent_dir}{dset_name_out}_test_concepts_csqa.csv\", index=False)"
   ]
  },
  {
   "cell_type": "code",
   "execution_count": null,
   "metadata": {},
   "outputs": [],
   "source": []
  }
 ],
 "metadata": {
  "kernelspec": {
   "display_name": "csqa",
   "language": "python",
   "name": "python3"
  },
  "language_info": {
   "codemirror_mode": {
    "name": "ipython",
    "version": 3
   },
   "file_extension": ".py",
   "mimetype": "text/x-python",
   "name": "python",
   "nbconvert_exporter": "python",
   "pygments_lexer": "ipython3",
   "version": "3.8.16"
  },
  "orig_nbformat": 4
 },
 "nbformat": 4,
 "nbformat_minor": 2
}
