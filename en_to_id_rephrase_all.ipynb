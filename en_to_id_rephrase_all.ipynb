{
 "cells": [
  {
   "cell_type": "markdown",
   "metadata": {},
   "source": [
    "### Import Libraries"
   ]
  },
  {
   "cell_type": "code",
   "execution_count": 1,
   "metadata": {},
   "outputs": [],
   "source": [
    "import os\n",
    "import ast\n",
    "import csv\n",
    "import time\n",
    "import openai\n",
    "import pandas as pd\n",
    "\n",
    "from dotenv import load_dotenv\n",
    "from tqdm import tqdm"
   ]
  },
  {
   "cell_type": "markdown",
   "metadata": {},
   "source": [
    "### Load Environment Variables"
   ]
  },
  {
   "cell_type": "code",
   "execution_count": 2,
   "metadata": {},
   "outputs": [],
   "source": [
    "load_dotenv()\n",
    "\n",
    "api_key = os.environ.get(\"API_KEY\")\n",
    "org_key = os.environ.get(\"ORG_KEY\")"
   ]
  },
  {
   "cell_type": "markdown",
   "metadata": {},
   "source": [
    "### Load CSV Rephrase Data"
   ]
  },
  {
   "cell_type": "code",
   "execution_count": 3,
   "metadata": {},
   "outputs": [],
   "source": [
    "# Specify the path to your CSV file\n",
    "split = [\"validation\", \"test\", \"train\"]\n",
    "\n",
    "all_data = {}\n",
    "\n",
    "for s in split:\n",
    "    csv_file_path = f'{s}_rephrase.csv'\n",
    "\n",
    "    # Initialize an empty list to store the data\n",
    "    data_list = []\n",
    "\n",
    "    # Open the CSV file for reading\n",
    "    with open(csv_file_path, newline='') as csvfile:\n",
    "        # Create a CSV reader object\n",
    "        csv_reader = csv.DictReader(csvfile)\n",
    "        \n",
    "        # Iterate through each row in the CSV file\n",
    "        for row in csv_reader:\n",
    "            # Append the row (as a dictionary) to the data_list\n",
    "            row[\"choices\"] = ast.literal_eval(row[\"choices\"])\n",
    "\n",
    "            rephrase_params = [\"concept\", \"name\", \"option\"]\n",
    "            for param in rephrase_params:\n",
    "                if row[param] == \"True\":\n",
    "                    row[param] = True\n",
    "                elif row[param] == \"False\":\n",
    "                    row[param] = False\n",
    "                else:\n",
    "                    raise TypeError(f\"{param} data cannot be recognized\")\n",
    "\n",
    "            data_list.append(row)\n",
    "    \n",
    "    all_data[s] = data_list"
   ]
  },
  {
   "cell_type": "markdown",
   "metadata": {},
   "source": [
    "### Generate Prompt"
   ]
  },
  {
   "cell_type": "code",
   "execution_count": 4,
   "metadata": {},
   "outputs": [],
   "source": [
    "# Function to generate choice text\n",
    "def generate_choices_text(choices):\n",
    "    labels = choices[\"label\"]\n",
    "    texts = choices[\"text\"]\n",
    "\n",
    "    choice_text = \"\"\n",
    "    for idx, label in enumerate(labels):\n",
    "        choice_text += f'{label}. \"{texts[idx]}\"\\n'\n",
    "    \n",
    "    return choice_text\n",
    "\n",
    "# Function to generate answer text\n",
    "def generate_answer_text(choices, answerKey):\n",
    "    idx = choices[\"label\"].index(answerKey)\n",
    "    answer_text = f'{answerKey}. \"{choices[\"text\"][idx]}\"'\n",
    "    \n",
    "    return answer_text\n",
    "\n",
    "# Function to generate prompts based on the conditions\n",
    "def generate_rephrase_all_prompt(row):\n",
    "    return f\"\"\"Change the given data to make it relevant to Indonesia in any ways. Make all elements relevant to each other. Keep the data in English. Return with only your changed data in a JSON format where question is string, concept is string, options is dictionary where label is the keys and option text is the values, and question_answer is string contain one label from the options.\n",
    "\n",
    "Data:\n",
    "###\n",
    "Question: {row['question']}\n",
    "Concept: {row['question_concept']}\n",
    "Options:\n",
    "{generate_choices_text(row['choices'])}Question Answer: {generate_answer_text(row['choices'], row['answerKey']) if row['answerKey'] else ''}\n",
    "###\n",
    "\n",
    "Changed data in JSON:\"\"\""
   ]
  },
  {
   "cell_type": "markdown",
   "metadata": {},
   "source": [
    "### OpenAI Completion and Rephrase Function"
   ]
  },
  {
   "cell_type": "code",
   "execution_count": 5,
   "metadata": {},
   "outputs": [],
   "source": [
    "def get_openai_chat_completion(input_prompt, model_name, temp=0.1, timeout=60):\n",
    "    completion = openai.ChatCompletion.create(\n",
    "        model=model_name,\n",
    "        messages=[\n",
    "            {\n",
    "                'role': 'user',\n",
    "                'content': input_prompt \n",
    "            }\n",
    "        ],\n",
    "        temperature=temp,\n",
    "        request_timeout=timeout,\n",
    "    )\n",
    "    return completion\n",
    "\n",
    "def get_openai_completion(input_prompt, model_name, max_tokens=256, temp=0.1, timeout=60):\n",
    "    completion = openai.Completion.create(\n",
    "        model=model_name,\n",
    "        prompt=input_prompt,\n",
    "        max_tokens=max_tokens,\n",
    "        temperature=temp,\n",
    "        request_timeout=timeout,\n",
    "    )\n",
    "    return completion\n",
    "\n",
    "# Define a function to rephrase the CSV data using OpenAI GPT-3.5-Turbo\n",
    "def rephrase_csv_data(row, model_name, history, api_type=\"instruct\"):\n",
    "    input_prompt = generate_rephrase_all_prompt(row)\n",
    "\n",
    "    if input_prompt in history.keys():\n",
    "        return input_prompt, history[input_prompt][\"response\"]\n",
    "\n",
    "    if api_type == \"chat\":\n",
    "        try:\n",
    "            completion = get_openai_chat_completion(input_prompt, model_name)\n",
    "        except Exception:\n",
    "            print('Caught exception, wait for 1 min...')\n",
    "            time.sleep(60)\n",
    "            completion = get_openai_chat_completion(input_prompt, model_name)\n",
    "        response = completion.choices[0].message.content.strip()\n",
    "    \n",
    "    elif api_type == \"instruct\":\n",
    "        try:\n",
    "            completion = get_openai_completion(input_prompt, model_name)\n",
    "        except Exception:\n",
    "            print('Caught exception, wait for 1 min...')\n",
    "            time.sleep(60)\n",
    "            completion = get_openai_completion(input_prompt, model_name)\n",
    "        response = completion.choices[0].text.strip()\n",
    "            \n",
    "    return input_prompt, response"
   ]
  },
  {
   "cell_type": "markdown",
   "metadata": {},
   "source": [
    "### Post-process and Clean Function"
   ]
  },
  {
   "cell_type": "code",
   "execution_count": 6,
   "metadata": {},
   "outputs": [],
   "source": [
    "def fix_response_keys(response):\n",
    "    if \"question\" not in list(response.keys()):\n",
    "        if \"Question\" in list(response.keys()):\n",
    "            response[\"question\"] = response[\"Question\"]\n",
    "        else:\n",
    "            raise ValueError(f\"Response is not right: {response}\")\n",
    "    \n",
    "    if \"concept\" not in list(response.keys()):\n",
    "        if \"Concept\" in list(response.keys()):\n",
    "            response[\"concept\"] = response[\"Concept\"]\n",
    "        else:\n",
    "            raise ValueError(f\"Response is not right: {response}\")\n",
    "    \n",
    "    if \"options\" not in list(response.keys()):\n",
    "        if \"Options\" in list(response.keys()):\n",
    "            response[\"options\"] = response[\"Options\"]\n",
    "        else:\n",
    "            raise ValueError(f\"Response is not right: {response}\")\n",
    "    \n",
    "    if \"question_answer\" not in list(response.keys()):\n",
    "        if \"Question Answer\" in list(response.keys()):\n",
    "            response[\"question_answer\"] = response[\"Question Answer\"]\n",
    "        elif \"Question_Answer\" in list(response.keys()):\n",
    "            response[\"question_answer\"] = response[\"Question_Answer\"]\n",
    "        else:\n",
    "            raise ValueError(f\"Response is not right: {response}\")\n",
    "    \n",
    "    return response\n",
    "\n",
    "def postprocess_result(row, response):\n",
    "    # response = \"\\n\".join(response.split(\"\\n\")[1:-1])\n",
    "    rephrased_result = fix_response_keys(ast.literal_eval(response))\n",
    "    letters = ['A', 'B', 'C', 'D', 'E']\n",
    "\n",
    "    if isinstance(rephrased_result[\"options\"], list):\n",
    "        if len(rephrased_result[\"options\"]) == 5:\n",
    "            rephrased_result[\"options\"] = dict(zip(letters, rephrased_result[\"options\"]))\n",
    "        else:\n",
    "            option_labels = [option[0].lower() for option in rephrased_result[\"options\"]]\n",
    "            if set(option_labels).issubset(set([l.lower() for l in letters])):\n",
    "                option_texts = [option[4:] if option[3] == \"\\\"\" else option[3:] for option in rephrased_result[\"options\"]]\n",
    "                label_not_in_option = [label.upper() for label in list(set([l.lower() for l in letters]) - set(option_labels))]\n",
    "                for label in label_not_in_option:\n",
    "                    chosen_idx = row[\"choices\"][\"label\"].index(label)\n",
    "                    chosen_text = row[\"choices\"][\"text\"][chosen_idx]\n",
    "                    option_texts.insert(chosen_idx, chosen_text)\n",
    "\n",
    "                rephrased_result[\"options\"] = dict(zip(letters, option_texts))\n",
    "            else:\n",
    "                raise ValueError(f\"Option output is not right: {rephrased_result['options']}\")\n",
    "    \n",
    "    answer = rephrased_result[\"question_answer\"] \n",
    "    if len(answer) > 1 and answer[0].lower() not in [l.lower() for l in letters]:\n",
    "        option_texts = [text.lower() for text in list(rephrased_result[\"options\"].values())]\n",
    "        if rephrased_result['question_answer'].lower() in option_texts:\n",
    "            option_labels = list(rephrased_result[\"options\"].keys())\n",
    "            answer_idx = option_texts.index(rephrased_result['question_answer'].lower())\n",
    "            rephrased_result[\"question_answer\"] = option_labels[answer_idx]\n",
    "        else:\n",
    "            raise ValueError(f\"Answer key not in options: {rephrased_result['question_answer']}\")\n",
    "    else:\n",
    "        rephrased_result[\"question_answer\"] = rephrased_result[\"question_answer\"][0]\n",
    "    \n",
    "    return rephrased_result\n",
    "\n",
    "def clean_data(row):\n",
    "    letters = {'a', 'b', 'c', 'd', 'e'}\n",
    "    alt_letters = {'b', 'c', 'd', 'e', 'f'}\n",
    "\n",
    "    options = row[\"choices\"][\"text\"]\n",
    "    labels = set([option[0].lower() for option in options])\n",
    "\n",
    "    if labels == letters or labels == alt_letters:\n",
    "        options = [option[4:] if option[3] == \"\\\"\" else option[3:] for option in options]\n",
    "    \n",
    "    options = [option.replace('\"', '') for option in options]\n",
    "    row[\"choices\"][\"text\"] = options\n",
    "\n",
    "    return row"
   ]
  },
  {
   "cell_type": "markdown",
   "metadata": {},
   "source": [
    "### Run Rephrase"
   ]
  },
  {
   "cell_type": "code",
   "execution_count": 9,
   "metadata": {},
   "outputs": [],
   "source": [
    "openai.api_key = api_key\n",
    "openai.organization = org_key\n",
    "\n",
    "snapshot = \"v3-gpt3_5-1106\"\n",
    "model_name = \"gpt-3.5-turbo-1106\""
   ]
  },
  {
   "cell_type": "code",
   "execution_count": 10,
   "metadata": {},
   "outputs": [
    {
     "name": "stdout",
     "output_type": "stream",
     "text": [
      "Process data on split: test\n",
      "Initialize response history\n"
     ]
    },
    {
     "name": "stderr",
     "output_type": "stream",
     "text": [
      "  0%|          | 0/236 [00:00<?, ?it/s]"
     ]
    },
    {
     "name": "stderr",
     "output_type": "stream",
     "text": [
      "  1%|          | 2/236 [00:04<08:18,  2.13s/it]"
     ]
    },
    {
     "name": "stdout",
     "output_type": "stream",
     "text": [
      "Caught exception, wait for 1 min...\n"
     ]
    },
    {
     "name": "stderr",
     "output_type": "stream",
     "text": [
      "  2%|▏         | 5/236 [02:07<1:36:51, 25.16s/it]"
     ]
    },
    {
     "name": "stdout",
     "output_type": "stream",
     "text": [
      "Caught exception, wait for 1 min...\n"
     ]
    },
    {
     "name": "stderr",
     "output_type": "stream",
     "text": [
      " 11%|█         | 25/236 [04:34<03:39,  1.04s/it] "
     ]
    },
    {
     "name": "stdout",
     "output_type": "stream",
     "text": [
      "Caught exception, wait for 1 min...\n"
     ]
    },
    {
     "name": "stderr",
     "output_type": "stream",
     "text": [
      " 12%|█▏        | 28/236 [06:38<59:53, 17.28s/it]  "
     ]
    },
    {
     "name": "stdout",
     "output_type": "stream",
     "text": [
      "Caught exception, wait for 1 min...\n"
     ]
    },
    {
     "name": "stderr",
     "output_type": "stream",
     "text": [
      " 16%|█▌        | 38/236 [08:44<24:55,  7.55s/it]  "
     ]
    },
    {
     "name": "stdout",
     "output_type": "stream",
     "text": [
      "Caught exception, wait for 1 min...\n"
     ]
    },
    {
     "name": "stderr",
     "output_type": "stream",
     "text": [
      " 19%|█▊        | 44/236 [10:47<43:08, 13.48s/it]"
     ]
    },
    {
     "name": "stdout",
     "output_type": "stream",
     "text": [
      "Caught exception, wait for 1 min...\n"
     ]
    },
    {
     "name": "stderr",
     "output_type": "stream",
     "text": [
      " 21%|██        | 49/236 [12:55<43:32, 13.97s/it]  "
     ]
    },
    {
     "name": "stdout",
     "output_type": "stream",
     "text": [
      "Caught exception, wait for 1 min...\n"
     ]
    },
    {
     "name": "stderr",
     "output_type": "stream",
     "text": [
      " 36%|███▌      | 85/236 [15:46<04:13,  1.68s/it]  "
     ]
    },
    {
     "name": "stdout",
     "output_type": "stream",
     "text": [
      "Caught exception, wait for 1 min...\n"
     ]
    },
    {
     "name": "stderr",
     "output_type": "stream",
     "text": [
      " 50%|████▉     | 117/236 [18:19<02:12,  1.12s/it] "
     ]
    },
    {
     "name": "stdout",
     "output_type": "stream",
     "text": [
      "Caught exception, wait for 1 min...\n"
     ]
    },
    {
     "name": "stderr",
     "output_type": "stream",
     "text": [
      " 53%|█████▎    | 125/236 [20:33<09:30,  5.14s/it]"
     ]
    },
    {
     "name": "stdout",
     "output_type": "stream",
     "text": [
      "Caught exception, wait for 1 min...\n"
     ]
    },
    {
     "name": "stderr",
     "output_type": "stream",
     "text": [
      " 63%|██████▎   | 148/236 [23:05<02:06,  1.44s/it]  "
     ]
    },
    {
     "name": "stdout",
     "output_type": "stream",
     "text": [
      "Caught exception, wait for 1 min...\n"
     ]
    },
    {
     "name": "stderr",
     "output_type": "stream",
     "text": [
      " 64%|██████▎   | 150/236 [25:08<28:01, 19.56s/it]"
     ]
    },
    {
     "name": "stdout",
     "output_type": "stream",
     "text": [
      "Caught exception, wait for 1 min...\n"
     ]
    },
    {
     "name": "stderr",
     "output_type": "stream",
     "text": [
      " 67%|██████▋   | 157/236 [27:17<13:22, 10.16s/it]"
     ]
    },
    {
     "name": "stdout",
     "output_type": "stream",
     "text": [
      "Caught exception, wait for 1 min...\n"
     ]
    },
    {
     "name": "stderr",
     "output_type": "stream",
     "text": [
      " 73%|███████▎  | 173/236 [29:34<04:51,  4.62s/it]"
     ]
    },
    {
     "name": "stdout",
     "output_type": "stream",
     "text": [
      "Caught exception, wait for 1 min...\n"
     ]
    },
    {
     "name": "stderr",
     "output_type": "stream",
     "text": [
      " 81%|████████  | 190/236 [32:02<01:44,  2.27s/it]"
     ]
    },
    {
     "name": "stdout",
     "output_type": "stream",
     "text": [
      "Caught exception, wait for 1 min...\n"
     ]
    },
    {
     "name": "stderr",
     "output_type": "stream",
     "text": [
      " 94%|█████████▎| 221/236 [34:56<00:30,  2.00s/it]"
     ]
    },
    {
     "name": "stdout",
     "output_type": "stream",
     "text": [
      "Caught exception, wait for 1 min...\n"
     ]
    },
    {
     "name": "stderr",
     "output_type": "stream",
     "text": [
      "100%|██████████| 236/236 [37:08<00:00,  9.44s/it]"
     ]
    },
    {
     "name": "stdout",
     "output_type": "stream",
     "text": [
      "CSV file \"v3-gpt3_5-1106/test_rephrased_v3-gpt3_5-1106.csv\" has been created with the data.\n"
     ]
    },
    {
     "name": "stderr",
     "output_type": "stream",
     "text": [
      "\n"
     ]
    }
   ],
   "source": [
    "for s in [\"test\"]:\n",
    "    print(f\"Process data on split: {s}\")\n",
    "    \n",
    "    history_path = f\"{snapshot}/{s}_history_{snapshot}.csv\"\n",
    "    if os.path.exists(history_path):\n",
    "        print(f\"Load response history from file {history_path}\")\n",
    "        resp_history_df = pd.read_csv(history_path, converters={'response': lambda x: ast.literal_eval(x)})\n",
    "        response_history = dict(zip(resp_history_df.prompt, resp_history_df.response))\n",
    "    else:\n",
    "        print(f\"Initialize response history\")\n",
    "        response_history = {}\n",
    "\n",
    "    rephrased_results = []\n",
    "    for data in tqdm(all_data[s]):\n",
    "        rephrased_data = data.copy()\n",
    "\n",
    "        if data[\"concept\"] or data[\"option\"]:\n",
    "            prompt, response = rephrase_csv_data(data, model_name, response_history, api_type=\"chat\")\n",
    "            response_history[prompt] = {\"response\": response}\n",
    "            \n",
    "            resp_history_df = pd.DataFrame({'prompt': response_history.keys(), 'response': response_history.values()})\n",
    "            resp_history_df.to_csv(history_path, index=False)\n",
    "\n",
    "            result = postprocess_result(data, response)\n",
    "            \n",
    "            rephrased_data[\"question\"] = result[\"question\"]\n",
    "            rephrased_data[\"choices\"] = {\n",
    "                \"label\": list(result[\"options\"].keys()),\n",
    "                \"text\": [text.lower() for text in list(result[\"options\"].values())],\n",
    "            }\n",
    "            \n",
    "            if \"concept\" in list(result.keys()):\n",
    "                rephrased_data[\"question_concept\"] = result[\"concept\"]\n",
    "            \n",
    "            rephrased_data[\"answerKey\"] = result[\"question_answer\"]\n",
    "        \n",
    "        rephrased_results.append(clean_data(rephrased_data))\n",
    "\n",
    "    # Specify the path to the CSV file\n",
    "    rephrased_file_path = f'{snapshot}/{s}_rephrased_{snapshot}.csv'\n",
    "\n",
    "    # Get the keys from the first dictionary\n",
    "    header = rephrased_results[0].keys()\n",
    "\n",
    "    # Write the data to the CSV file\n",
    "    with open(rephrased_file_path, 'w', newline='') as csvfile:\n",
    "        writer = csv.DictWriter(csvfile, fieldnames=header)\n",
    "        \n",
    "        # Write the header\n",
    "        writer.writeheader()\n",
    "        \n",
    "        # Write the data\n",
    "        for row in rephrased_results:\n",
    "            writer.writerow(row)\n",
    "\n",
    "    print(f'CSV file \"{rephrased_file_path}\" has been created with the data.')"
   ]
  },
  {
   "cell_type": "code",
   "execution_count": 8,
   "metadata": {},
   "outputs": [
    {
     "name": "stdout",
     "output_type": "stream",
     "text": [
      "{'id': '90b30172e645ff91f7171a048582eb8b', 'question': 'The townhouse was a hard sell for the realtor, it was right next to a high rise what?', 'question_concept': 'townhouse', 'choices': {'label': ['A', 'B', 'C', 'D', 'E'], 'text': ['suburban development', 'apartment building', 'bus stop', 'michigan', 'suburbs']}, 'answerKey': '', 'concept': False, 'name': False, 'option': True}\n",
      "Caught exception, wait for 1 min...\n",
      "{\n",
      "  \"question\": \"What is the most common type of housing in Jakarta?\",\n",
      "  \"concept\": \"townhouse\",\n",
      "  \"options\": {\n",
      "    \"A\": \"apartment building\",\n",
      "    \"B\": \"traditional house\",\n",
      "    \"C\": \"office building\",\n",
      "    \"D\": \"shopping mall\",\n",
      "    \"E\": \"suburban development\"\n",
      "  },\n",
      "  \"question_answer\": \"E\"\n",
      "}\n"
     ]
    }
   ],
   "source": [
    "test = all_data[\"test\"]\n",
    "data = [test[0]]\n",
    "\n",
    "model_name = \"gpt-3.5-turbo-1106\"\n",
    "for d in data:\n",
    "    print(d)\n",
    "    prompt, response = rephrase_csv_data(d, model_name, {}, api_type=\"chat\")\n",
    "    print(response)"
   ]
  },
  {
   "cell_type": "code",
   "execution_count": 24,
   "metadata": {},
   "outputs": [
    {
     "name": "stdout",
     "output_type": "stream",
     "text": [
      "{'question': \"Siti couldn't maintain her grip on Budi during the Pencak Silat match. He kept slipping away. With the bout extending for an extended period, she decided to do what?\", 'concept': 'grip', 'options': {'A': 'release', 'B': 'tighten', 'C': 'surrender', 'D': 'maintain', 'E': 'lower'}, 'question_answer': 'A'}\n"
     ]
    }
   ],
   "source": [
    "result = postprocess_result(d, response)\n",
    "print(result)"
   ]
  },
  {
   "cell_type": "code",
   "execution_count": null,
   "metadata": {},
   "outputs": [],
   "source": []
  }
 ],
 "metadata": {
  "kernelspec": {
   "display_name": "Python 3",
   "language": "python",
   "name": "python3"
  },
  "language_info": {
   "codemirror_mode": {
    "name": "ipython",
    "version": 3
   },
   "file_extension": ".py",
   "mimetype": "text/x-python",
   "name": "python",
   "nbconvert_exporter": "python",
   "pygments_lexer": "ipython3",
   "version": "3.9.9"
  },
  "orig_nbformat": 4
 },
 "nbformat": 4,
 "nbformat_minor": 2
}
