{
 "cells": [
  {
   "cell_type": "code",
   "execution_count": 1,
   "metadata": {},
   "outputs": [],
   "source": [
    "import pandas as pd"
   ]
  },
  {
   "cell_type": "markdown",
   "metadata": {},
   "source": [
    "### Calculate accuracy"
   ]
  },
  {
   "cell_type": "code",
   "execution_count": 2,
   "metadata": {},
   "outputs": [],
   "source": [
    "file_path = '../../evaluation/eval_results/evaluation_metrics.csv'\n",
    "df = pd.read_csv(file_path)"
   ]
  },
  {
   "cell_type": "code",
   "execution_count": 3,
   "metadata": {},
   "outputs": [
    {
     "data": {
      "text/plain": [
       "Model                           Dataset Name  Lang\n",
       "DAMO-NLP-MT/polylm-chat-13b     v3_synthetic  ind     39.314642\n",
       "                                              sun     23.048746\n",
       "SeaLLMs/SeaLLM-7B-Chat          v3_synthetic  ind     79.127726\n",
       "                                              sun     49.563257\n",
       "bigscience/bloomz-7b1           v3_synthetic  ind     76.261682\n",
       "                                              sun     50.267681\n",
       "gpt-3.5-turbo                   v3_synthetic  ind     87.850467\n",
       "                                              sun     70.667794\n",
       "gpt-4                           v3_synthetic  ind     93.395639\n",
       "                                              sun     80.050719\n",
       "gpt-4-1106-preview              v3_synthetic  ind     94.330218\n",
       "                                              sun     85.714286\n",
       "meta-llama/Llama-2-13b-chat-hf  v3_synthetic  ind     76.012461\n",
       "                                              sun     51.197520\n",
       "meta-llama/Llama-2-7b-chat-hf   v3_synthetic  ind     69.968847\n",
       "                                              sun     46.407439\n",
       "Name: Accuracy, dtype: float64"
      ]
     },
     "execution_count": 3,
     "metadata": {},
     "output_type": "execute_result"
    }
   ],
   "source": [
    "# Grouping by Model, Dataset, Language and calculating average accuracy based on prompts\n",
    "average_accuracy_model_dataset_lang = df.groupby(['Model', 'Dataset Name', 'Lang'])['Accuracy'].mean()\n",
    "average_accuracy_model_dataset_lang"
   ]
  },
  {
   "cell_type": "code",
   "execution_count": 4,
   "metadata": {},
   "outputs": [
    {
     "data": {
      "text/html": [
       "<div>\n",
       "<style scoped>\n",
       "    .dataframe tbody tr th:only-of-type {\n",
       "        vertical-align: middle;\n",
       "    }\n",
       "\n",
       "    .dataframe tbody tr th {\n",
       "        vertical-align: top;\n",
       "    }\n",
       "\n",
       "    .dataframe thead th {\n",
       "        text-align: right;\n",
       "    }\n",
       "</style>\n",
       "<table border=\"1\" class=\"dataframe\">\n",
       "  <thead>\n",
       "    <tr style=\"text-align: right;\">\n",
       "      <th></th>\n",
       "      <th>Lang</th>\n",
       "      <th>ind</th>\n",
       "      <th>sun</th>\n",
       "    </tr>\n",
       "    <tr>\n",
       "      <th>Model</th>\n",
       "      <th>Dataset Name</th>\n",
       "      <th></th>\n",
       "      <th></th>\n",
       "    </tr>\n",
       "  </thead>\n",
       "  <tbody>\n",
       "    <tr>\n",
       "      <th>DAMO-NLP-MT/polylm-chat-13b</th>\n",
       "      <th>v3_synthetic</th>\n",
       "      <td>39.314642</td>\n",
       "      <td>23.048746</td>\n",
       "    </tr>\n",
       "    <tr>\n",
       "      <th>SeaLLMs/SeaLLM-7B-Chat</th>\n",
       "      <th>v3_synthetic</th>\n",
       "      <td>79.127726</td>\n",
       "      <td>49.563257</td>\n",
       "    </tr>\n",
       "    <tr>\n",
       "      <th>bigscience/bloomz-7b1</th>\n",
       "      <th>v3_synthetic</th>\n",
       "      <td>76.261682</td>\n",
       "      <td>50.267681</td>\n",
       "    </tr>\n",
       "    <tr>\n",
       "      <th>gpt-3.5-turbo</th>\n",
       "      <th>v3_synthetic</th>\n",
       "      <td>87.850467</td>\n",
       "      <td>70.667794</td>\n",
       "    </tr>\n",
       "    <tr>\n",
       "      <th>gpt-4</th>\n",
       "      <th>v3_synthetic</th>\n",
       "      <td>93.395639</td>\n",
       "      <td>80.050719</td>\n",
       "    </tr>\n",
       "    <tr>\n",
       "      <th>gpt-4-1106-preview</th>\n",
       "      <th>v3_synthetic</th>\n",
       "      <td>94.330218</td>\n",
       "      <td>85.714286</td>\n",
       "    </tr>\n",
       "    <tr>\n",
       "      <th>meta-llama/Llama-2-13b-chat-hf</th>\n",
       "      <th>v3_synthetic</th>\n",
       "      <td>76.012461</td>\n",
       "      <td>51.197520</td>\n",
       "    </tr>\n",
       "    <tr>\n",
       "      <th>meta-llama/Llama-2-7b-chat-hf</th>\n",
       "      <th>v3_synthetic</th>\n",
       "      <td>69.968847</td>\n",
       "      <td>46.407439</td>\n",
       "    </tr>\n",
       "  </tbody>\n",
       "</table>\n",
       "</div>"
      ],
      "text/plain": [
       "Lang                                               ind        sun\n",
       "Model                          Dataset Name                      \n",
       "DAMO-NLP-MT/polylm-chat-13b    v3_synthetic  39.314642  23.048746\n",
       "SeaLLMs/SeaLLM-7B-Chat         v3_synthetic  79.127726  49.563257\n",
       "bigscience/bloomz-7b1          v3_synthetic  76.261682  50.267681\n",
       "gpt-3.5-turbo                  v3_synthetic  87.850467  70.667794\n",
       "gpt-4                          v3_synthetic  93.395639  80.050719\n",
       "gpt-4-1106-preview             v3_synthetic  94.330218  85.714286\n",
       "meta-llama/Llama-2-13b-chat-hf v3_synthetic  76.012461  51.197520\n",
       "meta-llama/Llama-2-7b-chat-hf  v3_synthetic  69.968847  46.407439"
      ]
     },
     "execution_count": 4,
     "metadata": {},
     "output_type": "execute_result"
    }
   ],
   "source": [
    "# Pivot the table to make the 'Lang' column horizontal\n",
    "pivot_df = average_accuracy_model_dataset_lang.unstack(level='Lang')\n",
    "pivot_df"
   ]
  },
  {
   "cell_type": "code",
   "execution_count": 5,
   "metadata": {},
   "outputs": [
    {
     "data": {
      "text/html": [
       "<div>\n",
       "<style scoped>\n",
       "    .dataframe tbody tr th:only-of-type {\n",
       "        vertical-align: middle;\n",
       "    }\n",
       "\n",
       "    .dataframe tbody tr th {\n",
       "        vertical-align: top;\n",
       "    }\n",
       "\n",
       "    .dataframe thead th {\n",
       "        text-align: right;\n",
       "    }\n",
       "</style>\n",
       "<table border=\"1\" class=\"dataframe\">\n",
       "  <thead>\n",
       "    <tr style=\"text-align: right;\">\n",
       "      <th>Lang</th>\n",
       "      <th>Dataset Name</th>\n",
       "      <th>Model</th>\n",
       "      <th>ind</th>\n",
       "      <th>sun</th>\n",
       "    </tr>\n",
       "  </thead>\n",
       "  <tbody>\n",
       "    <tr>\n",
       "      <th>0</th>\n",
       "      <td>v3_synthetic</td>\n",
       "      <td>DAMO-NLP-MT/polylm-chat-13b</td>\n",
       "      <td>39.314642</td>\n",
       "      <td>23.048746</td>\n",
       "    </tr>\n",
       "    <tr>\n",
       "      <th>1</th>\n",
       "      <td>v3_synthetic</td>\n",
       "      <td>SeaLLMs/SeaLLM-7B-Chat</td>\n",
       "      <td>79.127726</td>\n",
       "      <td>49.563257</td>\n",
       "    </tr>\n",
       "    <tr>\n",
       "      <th>2</th>\n",
       "      <td>v3_synthetic</td>\n",
       "      <td>bigscience/bloomz-7b1</td>\n",
       "      <td>76.261682</td>\n",
       "      <td>50.267681</td>\n",
       "    </tr>\n",
       "    <tr>\n",
       "      <th>3</th>\n",
       "      <td>v3_synthetic</td>\n",
       "      <td>gpt-3.5-turbo</td>\n",
       "      <td>87.850467</td>\n",
       "      <td>70.667794</td>\n",
       "    </tr>\n",
       "    <tr>\n",
       "      <th>4</th>\n",
       "      <td>v3_synthetic</td>\n",
       "      <td>gpt-4</td>\n",
       "      <td>93.395639</td>\n",
       "      <td>80.050719</td>\n",
       "    </tr>\n",
       "    <tr>\n",
       "      <th>5</th>\n",
       "      <td>v3_synthetic</td>\n",
       "      <td>gpt-4-1106-preview</td>\n",
       "      <td>94.330218</td>\n",
       "      <td>85.714286</td>\n",
       "    </tr>\n",
       "    <tr>\n",
       "      <th>6</th>\n",
       "      <td>v3_synthetic</td>\n",
       "      <td>meta-llama/Llama-2-13b-chat-hf</td>\n",
       "      <td>76.012461</td>\n",
       "      <td>51.197520</td>\n",
       "    </tr>\n",
       "    <tr>\n",
       "      <th>7</th>\n",
       "      <td>v3_synthetic</td>\n",
       "      <td>meta-llama/Llama-2-7b-chat-hf</td>\n",
       "      <td>69.968847</td>\n",
       "      <td>46.407439</td>\n",
       "    </tr>\n",
       "  </tbody>\n",
       "</table>\n",
       "</div>"
      ],
      "text/plain": [
       "Lang  Dataset Name                           Model        ind        sun\n",
       "0     v3_synthetic     DAMO-NLP-MT/polylm-chat-13b  39.314642  23.048746\n",
       "1     v3_synthetic          SeaLLMs/SeaLLM-7B-Chat  79.127726  49.563257\n",
       "2     v3_synthetic           bigscience/bloomz-7b1  76.261682  50.267681\n",
       "3     v3_synthetic                   gpt-3.5-turbo  87.850467  70.667794\n",
       "4     v3_synthetic                           gpt-4  93.395639  80.050719\n",
       "5     v3_synthetic              gpt-4-1106-preview  94.330218  85.714286\n",
       "6     v3_synthetic  meta-llama/Llama-2-13b-chat-hf  76.012461  51.197520\n",
       "7     v3_synthetic   meta-llama/Llama-2-7b-chat-hf  69.968847  46.407439"
      ]
     },
     "execution_count": 5,
     "metadata": {},
     "output_type": "execute_result"
    }
   ],
   "source": [
    "pivot_df = pivot_df.reset_index()\n",
    "pivot_df = pivot_df[['Dataset Name', 'Model', 'ind', 'sun']].sort_values(by='Dataset Name')\n",
    "pivot_df"
   ]
  },
  {
   "cell_type": "code",
   "execution_count": null,
   "metadata": {},
   "outputs": [],
   "source": []
  }
 ],
 "metadata": {
  "kernelspec": {
   "display_name": "csqa",
   "language": "python",
   "name": "python3"
  },
  "language_info": {
   "codemirror_mode": {
    "name": "ipython",
    "version": 3
   },
   "file_extension": ".py",
   "mimetype": "text/x-python",
   "name": "python",
   "nbconvert_exporter": "python",
   "pygments_lexer": "ipython3",
   "version": "3.8.16"
  }
 },
 "nbformat": 4,
 "nbformat_minor": 2
}
