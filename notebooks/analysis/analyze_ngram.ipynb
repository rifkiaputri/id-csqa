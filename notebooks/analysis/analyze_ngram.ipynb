{
 "cells": [
  {
   "cell_type": "code",
   "execution_count": null,
   "metadata": {},
   "outputs": [],
   "source": [
    "import json\n",
    "from collections import Counter\n",
    "from nltk.util import ngrams\n",
    "\n",
    "# Load the json file\n",
    "file_path = '/mnt/data/raw_ind.json'\n",
    "with open(file_path, 'r') as file:\n",
    "    data = json.load(file)\n",
    "\n",
    "# Extract questions from the complex JSON structure\n",
    "questions = [entry['question'] for key in data.keys() for entry in data[key] if 'question' in entry]\n",
    "\n",
    "# Function to get n-grams\n",
    "def get_top_ngrams(text, n=1, top=10):\n",
    "    # Tokenize the text into words\n",
    "    words = text.split()\n",
    "    # Generate ngrams\n",
    "    n_grams = ngrams(words, n)\n",
    "    # Count and return the most common ngrams\n",
    "    return Counter(n_grams).most_common(top)\n",
    "\n",
    "# Join all questions into a single string for ngram analysis\n",
    "all_questions_text = ' '.join(questions)\n",
    "\n",
    "# Get the top 10 1-grams, 2-grams, and 3-grams\n",
    "top_1grams = get_top_ngrams(all_questions_text, n=1)\n",
    "top_2grams = get_top_ngrams(all_questions_text, n=2)\n",
    "top_3grams = get_top_ngrams(all_questions_text, n=3)\n",
    "\n",
    "# Print the results\n",
    "print(\"Top 10 1-grams:\", top_1grams)\n",
    "print(\"Top 10 2-grams:\", top_2grams)\n",
    "print(\"Top 10 3-grams:\", top_3grams)"
   ]
  }
 ],
 "metadata": {
  "language_info": {
   "name": "python"
  }
 },
 "nbformat": 4,
 "nbformat_minor": 2
}
