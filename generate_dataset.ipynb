{
 "cells": [
  {
   "cell_type": "code",
   "execution_count": 1,
   "metadata": {},
   "outputs": [],
   "source": [
    "%load_ext dotenv\n",
    "%dotenv"
   ]
  },
  {
   "cell_type": "code",
   "execution_count": 2,
   "metadata": {},
   "outputs": [],
   "source": [
    "import openai\n",
    "import os\n",
    "import requests\n",
    "import pandas as pd\n",
    "import stanza\n",
    "import time\n",
    "from datasets import load_dataset\n",
    "from tqdm import tqdm"
   ]
  },
  {
   "cell_type": "code",
   "execution_count": 3,
   "metadata": {},
   "outputs": [],
   "source": [
    "# Only needs to be run one time\n",
    "# stanza.download('en', model_dir=os.environ['HF_HOME'])"
   ]
  },
  {
   "cell_type": "code",
   "execution_count": 61,
   "metadata": {},
   "outputs": [
    {
     "name": "stderr",
     "output_type": "stream",
     "text": [
      "Found cached dataset commonsense_qa (/mnt/nas2/kikiputri/cache/commonsense_qa/default/1.0.0/28d68f56649a7f0c23bc68eae850af914aa03f95f810011ae8cf58cc5ff5051b)\n"
     ]
    }
   ],
   "source": [
    "split_name = 'train'\n",
    "en_csqa = load_dataset('commonsense_qa', split=split_name)"
   ]
  },
  {
   "attachments": {},
   "cell_type": "markdown",
   "metadata": {},
   "source": [
    "### Concept Relevancy Classifier"
   ]
  },
  {
   "cell_type": "markdown",
   "metadata": {},
   "source": [
    "#### Post-Process"
   ]
  },
  {
   "cell_type": "code",
   "execution_count": 5,
   "metadata": {},
   "outputs": [
    {
     "name": "stderr",
     "output_type": "stream",
     "text": [
      "2023-07-26 16:30:08 INFO: Loading these models for language: en (English):\n",
      "========================\n",
      "| Processor | Package  |\n",
      "------------------------\n",
      "| tokenize  | combined |\n",
      "| lemma     | combined |\n",
      "========================\n",
      "\n",
      "2023-07-26 16:30:08 INFO: Using device: 0\n",
      "2023-07-26 16:30:08 INFO: Loading: tokenize\n",
      "2023-07-26 16:30:11 INFO: Loading: lemma\n",
      "2023-07-26 16:30:11 INFO: Done loading processors!\n"
     ]
    }
   ],
   "source": [
    "nlp = stanza.Pipeline(lang='en', processors='tokenize,lemma', device=0, model_dir=os.environ['HF_HOME'], download_method=None)"
   ]
  },
  {
   "cell_type": "code",
   "execution_count": 6,
   "metadata": {},
   "outputs": [],
   "source": [
    "def get_options_lemma(text):\n",
    "    doc = nlp(text)\n",
    "    lemmas = [word.lemma for sent in doc.sentences for word in sent.words]\n",
    "    return ' '.join(lemmas)"
   ]
  },
  {
   "cell_type": "code",
   "execution_count": 62,
   "metadata": {},
   "outputs": [],
   "source": [
    "out_parent_dir = \"/mnt/nas2/kikiputri/id-csqa/dataset/relevancy_ensemble/\"\n",
    "lang_name = \"su\"\n",
    "relevancy_df = pd.read_csv(f\"{out_parent_dir}{split_name}_{lang_name}_relevancy.csv\", index_col=0, converters={'q_concept': lambda x: x[1:-1].replace(\"'\", '').split(', ')})"
   ]
  },
  {
   "cell_type": "code",
   "execution_count": 63,
   "metadata": {},
   "outputs": [
    {
     "data": {
      "text/html": [
       "<div>\n",
       "<style scoped>\n",
       "    .dataframe tbody tr th:only-of-type {\n",
       "        vertical-align: middle;\n",
       "    }\n",
       "\n",
       "    .dataframe tbody tr th {\n",
       "        vertical-align: top;\n",
       "    }\n",
       "\n",
       "    .dataframe thead th {\n",
       "        text-align: right;\n",
       "    }\n",
       "</style>\n",
       "<table border=\"1\" class=\"dataframe\">\n",
       "  <thead>\n",
       "    <tr style=\"text-align: right;\">\n",
       "      <th></th>\n",
       "      <th>question</th>\n",
       "      <th>q_concept</th>\n",
       "      <th>option_a</th>\n",
       "      <th>option_b</th>\n",
       "      <th>option_c</th>\n",
       "      <th>option_d</th>\n",
       "      <th>option_e</th>\n",
       "      <th>names</th>\n",
       "    </tr>\n",
       "    <tr>\n",
       "      <th>q_id</th>\n",
       "      <th></th>\n",
       "      <th></th>\n",
       "      <th></th>\n",
       "      <th></th>\n",
       "      <th></th>\n",
       "      <th></th>\n",
       "      <th></th>\n",
       "      <th></th>\n",
       "    </tr>\n",
       "  </thead>\n",
       "  <tbody>\n",
       "    <tr>\n",
       "      <th>075e483d21c29a511267ef62bedc0461</th>\n",
       "      <td>The sanctions against the school were a punish...</td>\n",
       "      <td>[yes, yes, yes, yes, no]</td>\n",
       "      <td>yes</td>\n",
       "      <td>yes</td>\n",
       "      <td>yes</td>\n",
       "      <td>yes</td>\n",
       "      <td>yes</td>\n",
       "      <td>[]</td>\n",
       "    </tr>\n",
       "    <tr>\n",
       "      <th>61fe6e879ff18686d7552425a36344c8</th>\n",
       "      <td>Sammy wanted to go to where the people were.  ...</td>\n",
       "      <td>[yes, no, no, yes, no]</td>\n",
       "      <td>yes</td>\n",
       "      <td>yes</td>\n",
       "      <td>yes</td>\n",
       "      <td>yes</td>\n",
       "      <td>yes</td>\n",
       "      <td>['Sammy']</td>\n",
       "    </tr>\n",
       "    <tr>\n",
       "      <th>4c1cb0e95b99f72d55c068ba0255c54d</th>\n",
       "      <td>To locate a choker not located in a jewelry bo...</td>\n",
       "      <td>[yes, yes, yes, yes, no]</td>\n",
       "      <td>yes</td>\n",
       "      <td>yes</td>\n",
       "      <td>yes</td>\n",
       "      <td>yes</td>\n",
       "      <td>yes</td>\n",
       "      <td>[]</td>\n",
       "    </tr>\n",
       "    <tr>\n",
       "      <th>02e821a3e53cb320790950aab4489e85</th>\n",
       "      <td>Google Maps and other highway and street GPS s...</td>\n",
       "      <td>[yes, yes, yes, yes, yes]</td>\n",
       "      <td>no</td>\n",
       "      <td>no</td>\n",
       "      <td>yes</td>\n",
       "      <td>yes</td>\n",
       "      <td>yes</td>\n",
       "      <td>[]</td>\n",
       "    </tr>\n",
       "    <tr>\n",
       "      <th>23505889b94e880c3e89cff4ba119860</th>\n",
       "      <td>The fox walked from the city into the forest, ...</td>\n",
       "      <td>[no, yes, yes, no, no]</td>\n",
       "      <td>yes</td>\n",
       "      <td>yes</td>\n",
       "      <td>yes</td>\n",
       "      <td>yes</td>\n",
       "      <td>yes</td>\n",
       "      <td>[]</td>\n",
       "    </tr>\n",
       "    <tr>\n",
       "      <th>...</th>\n",
       "      <td>...</td>\n",
       "      <td>...</td>\n",
       "      <td>...</td>\n",
       "      <td>...</td>\n",
       "      <td>...</td>\n",
       "      <td>...</td>\n",
       "      <td>...</td>\n",
       "      <td>...</td>\n",
       "    </tr>\n",
       "    <tr>\n",
       "      <th>f1b2a30a1facff543e055231c5f90dd0</th>\n",
       "      <td>What would someone need to do if he or she wan...</td>\n",
       "      <td>[no, no, no, no, no]</td>\n",
       "      <td>yes</td>\n",
       "      <td>yes</td>\n",
       "      <td>yes</td>\n",
       "      <td>yes</td>\n",
       "      <td>yes</td>\n",
       "      <td>[]</td>\n",
       "    </tr>\n",
       "    <tr>\n",
       "      <th>a63b4d0c0b34d6e5f5ce7b2c2c08b825</th>\n",
       "      <td>Where might you find a chair at an office?</td>\n",
       "      <td>[yes, yes, yes, no, yes]</td>\n",
       "      <td>yes</td>\n",
       "      <td>yes</td>\n",
       "      <td>yes</td>\n",
       "      <td>yes</td>\n",
       "      <td>yes</td>\n",
       "      <td>[]</td>\n",
       "    </tr>\n",
       "    <tr>\n",
       "      <th>22d0eea15e10be56024fd00bb0e4f72f</th>\n",
       "      <td>Where would you buy jeans in a place with a la...</td>\n",
       "      <td>[yes, yes, yes, yes, yes]</td>\n",
       "      <td>yes</td>\n",
       "      <td>yes</td>\n",
       "      <td>yes</td>\n",
       "      <td>yes</td>\n",
       "      <td>yes</td>\n",
       "      <td>[]</td>\n",
       "    </tr>\n",
       "    <tr>\n",
       "      <th>7c55160a4630de9690eb328b57a18dc2</th>\n",
       "      <td>John fell down the well.  he couldn't believe ...</td>\n",
       "      <td>[no, no, yes, no, no]</td>\n",
       "      <td>yes</td>\n",
       "      <td>yes</td>\n",
       "      <td>yes</td>\n",
       "      <td>no</td>\n",
       "      <td>yes</td>\n",
       "      <td>['John']</td>\n",
       "    </tr>\n",
       "    <tr>\n",
       "      <th>dd640927f9920930501fb8dc3efc196b</th>\n",
       "      <td>I forgot to pay the electricity bill, now what...</td>\n",
       "      <td>[yes, yes, yes, yes, yes]</td>\n",
       "      <td>yes</td>\n",
       "      <td>yes</td>\n",
       "      <td>yes</td>\n",
       "      <td>yes</td>\n",
       "      <td>yes</td>\n",
       "      <td>[]</td>\n",
       "    </tr>\n",
       "  </tbody>\n",
       "</table>\n",
       "<p>9741 rows × 8 columns</p>\n",
       "</div>"
      ],
      "text/plain": [
       "                                                                           question  \\\n",
       "q_id                                                                                  \n",
       "075e483d21c29a511267ef62bedc0461  The sanctions against the school were a punish...   \n",
       "61fe6e879ff18686d7552425a36344c8  Sammy wanted to go to where the people were.  ...   \n",
       "4c1cb0e95b99f72d55c068ba0255c54d  To locate a choker not located in a jewelry bo...   \n",
       "02e821a3e53cb320790950aab4489e85  Google Maps and other highway and street GPS s...   \n",
       "23505889b94e880c3e89cff4ba119860  The fox walked from the city into the forest, ...   \n",
       "...                                                                             ...   \n",
       "f1b2a30a1facff543e055231c5f90dd0  What would someone need to do if he or she wan...   \n",
       "a63b4d0c0b34d6e5f5ce7b2c2c08b825         Where might you find a chair at an office?   \n",
       "22d0eea15e10be56024fd00bb0e4f72f  Where would you buy jeans in a place with a la...   \n",
       "7c55160a4630de9690eb328b57a18dc2  John fell down the well.  he couldn't believe ...   \n",
       "dd640927f9920930501fb8dc3efc196b  I forgot to pay the electricity bill, now what...   \n",
       "\n",
       "                                                  q_concept option_a option_b  \\\n",
       "q_id                                                                            \n",
       "075e483d21c29a511267ef62bedc0461   [yes, yes, yes, yes, no]      yes      yes   \n",
       "61fe6e879ff18686d7552425a36344c8     [yes, no, no, yes, no]      yes      yes   \n",
       "4c1cb0e95b99f72d55c068ba0255c54d   [yes, yes, yes, yes, no]      yes      yes   \n",
       "02e821a3e53cb320790950aab4489e85  [yes, yes, yes, yes, yes]       no       no   \n",
       "23505889b94e880c3e89cff4ba119860     [no, yes, yes, no, no]      yes      yes   \n",
       "...                                                     ...      ...      ...   \n",
       "f1b2a30a1facff543e055231c5f90dd0       [no, no, no, no, no]      yes      yes   \n",
       "a63b4d0c0b34d6e5f5ce7b2c2c08b825   [yes, yes, yes, no, yes]      yes      yes   \n",
       "22d0eea15e10be56024fd00bb0e4f72f  [yes, yes, yes, yes, yes]      yes      yes   \n",
       "7c55160a4630de9690eb328b57a18dc2      [no, no, yes, no, no]      yes      yes   \n",
       "dd640927f9920930501fb8dc3efc196b  [yes, yes, yes, yes, yes]      yes      yes   \n",
       "\n",
       "                                 option_c option_d option_e      names  \n",
       "q_id                                                                    \n",
       "075e483d21c29a511267ef62bedc0461      yes      yes      yes         []  \n",
       "61fe6e879ff18686d7552425a36344c8      yes      yes      yes  ['Sammy']  \n",
       "4c1cb0e95b99f72d55c068ba0255c54d      yes      yes      yes         []  \n",
       "02e821a3e53cb320790950aab4489e85      yes      yes      yes         []  \n",
       "23505889b94e880c3e89cff4ba119860      yes      yes      yes         []  \n",
       "...                                   ...      ...      ...        ...  \n",
       "f1b2a30a1facff543e055231c5f90dd0      yes      yes      yes         []  \n",
       "a63b4d0c0b34d6e5f5ce7b2c2c08b825      yes      yes      yes         []  \n",
       "22d0eea15e10be56024fd00bb0e4f72f      yes      yes      yes         []  \n",
       "7c55160a4630de9690eb328b57a18dc2      yes       no      yes   ['John']  \n",
       "dd640927f9920930501fb8dc3efc196b      yes      yes      yes         []  \n",
       "\n",
       "[9741 rows x 8 columns]"
      ]
     },
     "execution_count": 63,
     "metadata": {},
     "output_type": "execute_result"
    }
   ],
   "source": [
    "relevancy_df"
   ]
  },
  {
   "cell_type": "code",
   "execution_count": 64,
   "metadata": {},
   "outputs": [],
   "source": [
    "excluded_concepts = [\n",
    "    \"sex\", \"vagina\", \"penis\", \"prostitute\", \"kiss\", \"copulating\", \"procreating\",\n",
    "    \"killing people\", \"committing murder\", \"affair\", \"drug dealer\", \"terrorists\", \"terrorist\",\n",
    "]"
   ]
  },
  {
   "cell_type": "code",
   "execution_count": 65,
   "metadata": {},
   "outputs": [
    {
     "name": "stderr",
     "output_type": "stream",
     "text": [
      "100%|██████████| 9741/9741 [02:33<00:00, 63.44it/s]\n"
     ]
    }
   ],
   "source": [
    "general_questions, rephrase_questions = [], []\n",
    "for item in tqdm(en_csqa):\n",
    "    q_id = item['id']\n",
    "\n",
    "    # Check q concept offensiveness\n",
    "    options_str = ' '.join(item['choices']['text']).lower()\n",
    "    is_offensive = any(ex in item['question'].lower() for ex in excluded_concepts) or \\\n",
    "        any(ex in options_str for ex in excluded_concepts)\n",
    "    if is_offensive:\n",
    "        continue\n",
    "\n",
    "    # Check options ambiguity\n",
    "    options_lemma = [get_options_lemma(option) for option in item['choices']['text']]\n",
    "    is_options_ambiguous = len(set(options_lemma)) != len(options_lemma)\n",
    "    if is_options_ambiguous:\n",
    "        continue\n",
    "\n",
    "    # Check name relevancy\n",
    "    is_name_irrelevant = relevancy_df.loc[q_id, 'names'] != \"[]\"\n",
    "\n",
    "    # Check options relevancy\n",
    "    options = [\n",
    "        relevancy_df.loc[q_id, 'option_a'], relevancy_df.loc[q_id, 'option_b'],\n",
    "        relevancy_df.loc[q_id, 'option_c'], relevancy_df.loc[q_id, 'option_d'],\n",
    "        relevancy_df.loc[q_id, 'option_e']\n",
    "    ]\n",
    "    is_option_irrelevant = 'no' in options\n",
    "\n",
    "    # Check q concept relevancy\n",
    "    yes_count = relevancy_df.loc[q_id, 'q_concept'].count('yes')\n",
    "    no_count = relevancy_df.loc[q_id, 'q_concept'].count('no')\n",
    "    \n",
    "    if not is_name_irrelevant and not is_option_irrelevant and yes_count >= 4:\n",
    "        general_questions.append(item)\n",
    "    else:\n",
    "        if no_count >= 4 or is_name_irrelevant or is_option_irrelevant:\n",
    "            item['concept'] = no_count >= 4\n",
    "            item['name'] = is_name_irrelevant\n",
    "            item['option'] = is_option_irrelevant\n",
    "            rephrase_questions.append(item)"
   ]
  },
  {
   "cell_type": "code",
   "execution_count": 67,
   "metadata": {},
   "outputs": [
    {
     "data": {
      "text/plain": [
       "(3121, 3416, 9741)"
      ]
     },
     "execution_count": 67,
     "metadata": {},
     "output_type": "execute_result"
    }
   ],
   "source": [
    "len(general_questions), len(rephrase_questions), len(en_csqa)"
   ]
  },
  {
   "cell_type": "code",
   "execution_count": 68,
   "metadata": {},
   "outputs": [
    {
     "data": {
      "text/plain": [
       "(32.04, 35.07)"
      ]
     },
     "execution_count": 68,
     "metadata": {},
     "output_type": "execute_result"
    }
   ],
   "source": [
    "\n",
    "round(len(general_questions)/len(en_csqa)*100,2), round(len(rephrase_questions)/len(en_csqa)*100,2)"
   ]
  },
  {
   "cell_type": "code",
   "execution_count": 69,
   "metadata": {},
   "outputs": [],
   "source": [
    "q_df_general = pd.DataFrame(general_questions)\n",
    "q_df_rephrase = pd.DataFrame(rephrase_questions)"
   ]
  },
  {
   "cell_type": "code",
   "execution_count": 70,
   "metadata": {},
   "outputs": [
    {
     "data": {
      "text/html": [
       "<div>\n",
       "<style scoped>\n",
       "    .dataframe tbody tr th:only-of-type {\n",
       "        vertical-align: middle;\n",
       "    }\n",
       "\n",
       "    .dataframe tbody tr th {\n",
       "        vertical-align: top;\n",
       "    }\n",
       "\n",
       "    .dataframe thead th {\n",
       "        text-align: right;\n",
       "    }\n",
       "</style>\n",
       "<table border=\"1\" class=\"dataframe\">\n",
       "  <thead>\n",
       "    <tr style=\"text-align: right;\">\n",
       "      <th></th>\n",
       "      <th>id</th>\n",
       "      <th>question</th>\n",
       "      <th>question_concept</th>\n",
       "      <th>choices</th>\n",
       "      <th>answerKey</th>\n",
       "      <th>concept</th>\n",
       "      <th>name</th>\n",
       "      <th>option</th>\n",
       "    </tr>\n",
       "  </thead>\n",
       "  <tbody>\n",
       "    <tr>\n",
       "      <th>0</th>\n",
       "      <td>61fe6e879ff18686d7552425a36344c8</td>\n",
       "      <td>Sammy wanted to go to where the people were.  ...</td>\n",
       "      <td>people</td>\n",
       "      <td>{'label': ['A', 'B', 'C', 'D', 'E'], 'text': [...</td>\n",
       "      <td>B</td>\n",
       "      <td>False</td>\n",
       "      <td>True</td>\n",
       "      <td>False</td>\n",
       "    </tr>\n",
       "    <tr>\n",
       "      <th>1</th>\n",
       "      <td>02e821a3e53cb320790950aab4489e85</td>\n",
       "      <td>Google Maps and other highway and street GPS s...</td>\n",
       "      <td>highway</td>\n",
       "      <td>{'label': ['A', 'B', 'C', 'D', 'E'], 'text': [...</td>\n",
       "      <td>D</td>\n",
       "      <td>False</td>\n",
       "      <td>False</td>\n",
       "      <td>True</td>\n",
       "    </tr>\n",
       "    <tr>\n",
       "      <th>2</th>\n",
       "      <td>f5c9664c9930b704f2724fbd617bee9d</td>\n",
       "      <td>Johnny sat on a bench and relaxed after doing ...</td>\n",
       "      <td>bench</td>\n",
       "      <td>{'label': ['A', 'B', 'C', 'D', 'E'], 'text': [...</td>\n",
       "      <td>C</td>\n",
       "      <td>False</td>\n",
       "      <td>True</td>\n",
       "      <td>False</td>\n",
       "    </tr>\n",
       "    <tr>\n",
       "      <th>3</th>\n",
       "      <td>b63b9809c203321d6659ddf8551894bf</td>\n",
       "      <td>James was cooling off two quickly.  He would d...</td>\n",
       "      <td>cooling off</td>\n",
       "      <td>{'label': ['A', 'B', 'C', 'D', 'E'], 'text': [...</td>\n",
       "      <td>A</td>\n",
       "      <td>False</td>\n",
       "      <td>True</td>\n",
       "      <td>False</td>\n",
       "    </tr>\n",
       "    <tr>\n",
       "      <th>4</th>\n",
       "      <td>e6766a66f8d326bf00fbf628a0e4ef24</td>\n",
       "      <td>Bill is stuck in marsh when a man comes up to ...</td>\n",
       "      <td>marsh</td>\n",
       "      <td>{'label': ['A', 'B', 'C', 'D', 'E'], 'text': [...</td>\n",
       "      <td>D</td>\n",
       "      <td>False</td>\n",
       "      <td>True</td>\n",
       "      <td>True</td>\n",
       "    </tr>\n",
       "    <tr>\n",
       "      <th>...</th>\n",
       "      <td>...</td>\n",
       "      <td>...</td>\n",
       "      <td>...</td>\n",
       "      <td>...</td>\n",
       "      <td>...</td>\n",
       "      <td>...</td>\n",
       "      <td>...</td>\n",
       "      <td>...</td>\n",
       "    </tr>\n",
       "    <tr>\n",
       "      <th>3411</th>\n",
       "      <td>017024cafd984c091f3c09fed540afaf</td>\n",
       "      <td>What will happen to someone writing a term pap...</td>\n",
       "      <td>writing term paper</td>\n",
       "      <td>{'label': ['A', 'B', 'C', 'D', 'E'], 'text': [...</td>\n",
       "      <td>B</td>\n",
       "      <td>True</td>\n",
       "      <td>False</td>\n",
       "      <td>False</td>\n",
       "    </tr>\n",
       "    <tr>\n",
       "      <th>3412</th>\n",
       "      <td>3e792834df2aa7ae2a9070b494e37c26</td>\n",
       "      <td>John cooled the steam. What did the steam become?</td>\n",
       "      <td>steam</td>\n",
       "      <td>{'label': ['A', 'B', 'C', 'D', 'E'], 'text': [...</td>\n",
       "      <td>D</td>\n",
       "      <td>False</td>\n",
       "      <td>True</td>\n",
       "      <td>False</td>\n",
       "    </tr>\n",
       "    <tr>\n",
       "      <th>3413</th>\n",
       "      <td>47011436a95298809c57ce5f59ebf1d1</td>\n",
       "      <td>What type of homes are likely to have an attic?</td>\n",
       "      <td>attic</td>\n",
       "      <td>{'label': ['A', 'B', 'C', 'D', 'E'], 'text': [...</td>\n",
       "      <td>C</td>\n",
       "      <td>True</td>\n",
       "      <td>False</td>\n",
       "      <td>False</td>\n",
       "    </tr>\n",
       "    <tr>\n",
       "      <th>3414</th>\n",
       "      <td>f1b2a30a1facff543e055231c5f90dd0</td>\n",
       "      <td>What would someone need to do if he or she wan...</td>\n",
       "      <td>going public</td>\n",
       "      <td>{'label': ['A', 'B', 'C', 'D', 'E'], 'text': [...</td>\n",
       "      <td>E</td>\n",
       "      <td>True</td>\n",
       "      <td>False</td>\n",
       "      <td>False</td>\n",
       "    </tr>\n",
       "    <tr>\n",
       "      <th>3415</th>\n",
       "      <td>7c55160a4630de9690eb328b57a18dc2</td>\n",
       "      <td>John fell down the well.  he couldn't believe ...</td>\n",
       "      <td>well</td>\n",
       "      <td>{'label': ['A', 'B', 'C', 'D', 'E'], 'text': [...</td>\n",
       "      <td>A</td>\n",
       "      <td>True</td>\n",
       "      <td>True</td>\n",
       "      <td>True</td>\n",
       "    </tr>\n",
       "  </tbody>\n",
       "</table>\n",
       "<p>3416 rows × 8 columns</p>\n",
       "</div>"
      ],
      "text/plain": [
       "                                    id  \\\n",
       "0     61fe6e879ff18686d7552425a36344c8   \n",
       "1     02e821a3e53cb320790950aab4489e85   \n",
       "2     f5c9664c9930b704f2724fbd617bee9d   \n",
       "3     b63b9809c203321d6659ddf8551894bf   \n",
       "4     e6766a66f8d326bf00fbf628a0e4ef24   \n",
       "...                                ...   \n",
       "3411  017024cafd984c091f3c09fed540afaf   \n",
       "3412  3e792834df2aa7ae2a9070b494e37c26   \n",
       "3413  47011436a95298809c57ce5f59ebf1d1   \n",
       "3414  f1b2a30a1facff543e055231c5f90dd0   \n",
       "3415  7c55160a4630de9690eb328b57a18dc2   \n",
       "\n",
       "                                               question    question_concept  \\\n",
       "0     Sammy wanted to go to where the people were.  ...              people   \n",
       "1     Google Maps and other highway and street GPS s...             highway   \n",
       "2     Johnny sat on a bench and relaxed after doing ...               bench   \n",
       "3     James was cooling off two quickly.  He would d...         cooling off   \n",
       "4     Bill is stuck in marsh when a man comes up to ...               marsh   \n",
       "...                                                 ...                 ...   \n",
       "3411  What will happen to someone writing a term pap...  writing term paper   \n",
       "3412  John cooled the steam. What did the steam become?               steam   \n",
       "3413    What type of homes are likely to have an attic?               attic   \n",
       "3414  What would someone need to do if he or she wan...        going public   \n",
       "3415  John fell down the well.  he couldn't believe ...                well   \n",
       "\n",
       "                                                choices answerKey  concept  \\\n",
       "0     {'label': ['A', 'B', 'C', 'D', 'E'], 'text': [...         B    False   \n",
       "1     {'label': ['A', 'B', 'C', 'D', 'E'], 'text': [...         D    False   \n",
       "2     {'label': ['A', 'B', 'C', 'D', 'E'], 'text': [...         C    False   \n",
       "3     {'label': ['A', 'B', 'C', 'D', 'E'], 'text': [...         A    False   \n",
       "4     {'label': ['A', 'B', 'C', 'D', 'E'], 'text': [...         D    False   \n",
       "...                                                 ...       ...      ...   \n",
       "3411  {'label': ['A', 'B', 'C', 'D', 'E'], 'text': [...         B     True   \n",
       "3412  {'label': ['A', 'B', 'C', 'D', 'E'], 'text': [...         D    False   \n",
       "3413  {'label': ['A', 'B', 'C', 'D', 'E'], 'text': [...         C     True   \n",
       "3414  {'label': ['A', 'B', 'C', 'D', 'E'], 'text': [...         E     True   \n",
       "3415  {'label': ['A', 'B', 'C', 'D', 'E'], 'text': [...         A     True   \n",
       "\n",
       "       name  option  \n",
       "0      True   False  \n",
       "1     False    True  \n",
       "2      True   False  \n",
       "3      True   False  \n",
       "4      True    True  \n",
       "...     ...     ...  \n",
       "3411  False   False  \n",
       "3412   True   False  \n",
       "3413  False   False  \n",
       "3414  False   False  \n",
       "3415   True    True  \n",
       "\n",
       "[3416 rows x 8 columns]"
      ]
     },
     "execution_count": 70,
     "metadata": {},
     "output_type": "execute_result"
    }
   ],
   "source": [
    "q_df_rephrase"
   ]
  },
  {
   "cell_type": "code",
   "execution_count": 71,
   "metadata": {},
   "outputs": [],
   "source": [
    "out_parent_dir = \"/mnt/nas2/kikiputri/id-csqa/dataset/relevancy_ensemble/data_result/\"\n",
    "q_df_general.to_csv(f\"{out_parent_dir}{split_name}_general_{lang_name}.csv\", index=False)\n",
    "q_df_rephrase.to_csv(f\"{out_parent_dir}{split_name}_rephrase_{lang_name}.csv\", index=False)"
   ]
  },
  {
   "cell_type": "code",
   "execution_count": null,
   "metadata": {},
   "outputs": [],
   "source": []
  },
  {
   "cell_type": "markdown",
   "metadata": {},
   "source": [
    "#### Stats"
   ]
  },
  {
   "cell_type": "code",
   "execution_count": 76,
   "metadata": {},
   "outputs": [],
   "source": [
    "import os\n",
    "import numpy as np"
   ]
  },
  {
   "cell_type": "code",
   "execution_count": 79,
   "metadata": {},
   "outputs": [],
   "source": [
    "split_index, lang_index = [], []\n",
    "for lang in ['id', 'su']:\n",
    "    for split in ['train', 'validation', 'test']:\n",
    "        lang_index.append(lang)\n",
    "        split_index.append(split)\n",
    "data_stat = pd.DataFrame(index=[np.array(lang_index), np.array(split_index)], columns=['general', 'rephrase', 'irr_concept', 'irr_location', 'irr_names'])"
   ]
  },
  {
   "cell_type": "code",
   "execution_count": 80,
   "metadata": {},
   "outputs": [
    {
     "data": {
      "text/html": [
       "<div>\n",
       "<style scoped>\n",
       "    .dataframe tbody tr th:only-of-type {\n",
       "        vertical-align: middle;\n",
       "    }\n",
       "\n",
       "    .dataframe tbody tr th {\n",
       "        vertical-align: top;\n",
       "    }\n",
       "\n",
       "    .dataframe thead th {\n",
       "        text-align: right;\n",
       "    }\n",
       "</style>\n",
       "<table border=\"1\" class=\"dataframe\">\n",
       "  <thead>\n",
       "    <tr style=\"text-align: right;\">\n",
       "      <th></th>\n",
       "      <th></th>\n",
       "      <th>general</th>\n",
       "      <th>rephrase</th>\n",
       "      <th>irr_concept</th>\n",
       "      <th>irr_location</th>\n",
       "      <th>irr_names</th>\n",
       "    </tr>\n",
       "  </thead>\n",
       "  <tbody>\n",
       "    <tr>\n",
       "      <th rowspan=\"3\" valign=\"top\">id</th>\n",
       "      <th>train</th>\n",
       "      <td>NaN</td>\n",
       "      <td>NaN</td>\n",
       "      <td>NaN</td>\n",
       "      <td>NaN</td>\n",
       "      <td>NaN</td>\n",
       "    </tr>\n",
       "    <tr>\n",
       "      <th>validation</th>\n",
       "      <td>NaN</td>\n",
       "      <td>NaN</td>\n",
       "      <td>NaN</td>\n",
       "      <td>NaN</td>\n",
       "      <td>NaN</td>\n",
       "    </tr>\n",
       "    <tr>\n",
       "      <th>test</th>\n",
       "      <td>NaN</td>\n",
       "      <td>NaN</td>\n",
       "      <td>NaN</td>\n",
       "      <td>NaN</td>\n",
       "      <td>NaN</td>\n",
       "    </tr>\n",
       "    <tr>\n",
       "      <th rowspan=\"3\" valign=\"top\">su</th>\n",
       "      <th>train</th>\n",
       "      <td>NaN</td>\n",
       "      <td>NaN</td>\n",
       "      <td>NaN</td>\n",
       "      <td>NaN</td>\n",
       "      <td>NaN</td>\n",
       "    </tr>\n",
       "    <tr>\n",
       "      <th>validation</th>\n",
       "      <td>NaN</td>\n",
       "      <td>NaN</td>\n",
       "      <td>NaN</td>\n",
       "      <td>NaN</td>\n",
       "      <td>NaN</td>\n",
       "    </tr>\n",
       "    <tr>\n",
       "      <th>test</th>\n",
       "      <td>NaN</td>\n",
       "      <td>NaN</td>\n",
       "      <td>NaN</td>\n",
       "      <td>NaN</td>\n",
       "      <td>NaN</td>\n",
       "    </tr>\n",
       "  </tbody>\n",
       "</table>\n",
       "</div>"
      ],
      "text/plain": [
       "              general rephrase irr_concept irr_location irr_names\n",
       "id train          NaN      NaN         NaN          NaN       NaN\n",
       "   validation     NaN      NaN         NaN          NaN       NaN\n",
       "   test           NaN      NaN         NaN          NaN       NaN\n",
       "su train          NaN      NaN         NaN          NaN       NaN\n",
       "   validation     NaN      NaN         NaN          NaN       NaN\n",
       "   test           NaN      NaN         NaN          NaN       NaN"
      ]
     },
     "execution_count": 80,
     "metadata": {},
     "output_type": "execute_result"
    }
   ],
   "source": [
    "data_stat"
   ]
  },
  {
   "cell_type": "code",
   "execution_count": 83,
   "metadata": {},
   "outputs": [
    {
     "name": "stderr",
     "output_type": "stream",
     "text": [
      "  0%|          | 0/12 [00:00<?, ?it/s]"
     ]
    },
    {
     "name": "stderr",
     "output_type": "stream",
     "text": [
      "100%|██████████| 12/12 [00:00<00:00, 22.23it/s]\n"
     ]
    }
   ],
   "source": [
    "out_parent_dir = \"/mnt/nas2/kikiputri/id-csqa/dataset/relevancy_ensemble/data_result/\"\n",
    "for file_name in tqdm(os.listdir(out_parent_dir)):\n",
    "    name_only = file_name.replace('.csv', '')\n",
    "    split, q_type, lang = name_only.split('_')\n",
    "    \n",
    "    dat = pd.read_csv(out_parent_dir + file_name)\n",
    "    data_stat.loc[lang,split][q_type] = len(dat)\n",
    "\n",
    "    if q_type == 'rephrase':\n",
    "        dat['concept'].tolist()\n",
    "        dat['name'].tolist()\n",
    "        dat['option'].tolist()\n",
    "        data_stat.loc[lang,split]['irr_concept'] = dat['concept'].tolist().count(True)\n",
    "        data_stat.loc[lang,split]['irr_location'] = dat['option'].tolist().count(True)\n",
    "        data_stat.loc[lang,split]['irr_names'] = dat['name'].tolist().count(True)"
   ]
  },
  {
   "cell_type": "code",
   "execution_count": 89,
   "metadata": {},
   "outputs": [
    {
     "data": {
      "text/html": [
       "<div>\n",
       "<style scoped>\n",
       "    .dataframe tbody tr th:only-of-type {\n",
       "        vertical-align: middle;\n",
       "    }\n",
       "\n",
       "    .dataframe tbody tr th {\n",
       "        vertical-align: top;\n",
       "    }\n",
       "\n",
       "    .dataframe thead th {\n",
       "        text-align: right;\n",
       "    }\n",
       "</style>\n",
       "<table border=\"1\" class=\"dataframe\">\n",
       "  <thead>\n",
       "    <tr style=\"text-align: right;\">\n",
       "      <th></th>\n",
       "      <th></th>\n",
       "      <th>general</th>\n",
       "      <th>rephrase</th>\n",
       "      <th>irr_concept</th>\n",
       "      <th>irr_location</th>\n",
       "      <th>irr_names</th>\n",
       "    </tr>\n",
       "  </thead>\n",
       "  <tbody>\n",
       "    <tr>\n",
       "      <th rowspan=\"3\" valign=\"top\">id</th>\n",
       "      <th>train</th>\n",
       "      <td>4632</td>\n",
       "      <td>2481</td>\n",
       "      <td>838</td>\n",
       "      <td>984</td>\n",
       "      <td>1035</td>\n",
       "    </tr>\n",
       "    <tr>\n",
       "      <th>validation</th>\n",
       "      <td>568</td>\n",
       "      <td>316</td>\n",
       "      <td>119</td>\n",
       "      <td>125</td>\n",
       "      <td>126</td>\n",
       "    </tr>\n",
       "    <tr>\n",
       "      <th>test</th>\n",
       "      <td>579</td>\n",
       "      <td>274</td>\n",
       "      <td>102</td>\n",
       "      <td>108</td>\n",
       "      <td>109</td>\n",
       "    </tr>\n",
       "    <tr>\n",
       "      <th rowspan=\"3\" valign=\"top\">su</th>\n",
       "      <th>train</th>\n",
       "      <td>3121</td>\n",
       "      <td>3416</td>\n",
       "      <td>1957</td>\n",
       "      <td>984</td>\n",
       "      <td>1035</td>\n",
       "    </tr>\n",
       "    <tr>\n",
       "      <th>validation</th>\n",
       "      <td>385</td>\n",
       "      <td>410</td>\n",
       "      <td>233</td>\n",
       "      <td>125</td>\n",
       "      <td>126</td>\n",
       "    </tr>\n",
       "    <tr>\n",
       "      <th>test</th>\n",
       "      <td>392</td>\n",
       "      <td>373</td>\n",
       "      <td>211</td>\n",
       "      <td>108</td>\n",
       "      <td>109</td>\n",
       "    </tr>\n",
       "  </tbody>\n",
       "</table>\n",
       "</div>"
      ],
      "text/plain": [
       "              general rephrase irr_concept irr_location irr_names\n",
       "id train         4632     2481         838          984      1035\n",
       "   validation     568      316         119          125       126\n",
       "   test           579      274         102          108       109\n",
       "su train         3121     3416        1957          984      1035\n",
       "   validation     385      410         233          125       126\n",
       "   test           392      373         211          108       109"
      ]
     },
     "execution_count": 89,
     "metadata": {},
     "output_type": "execute_result"
    }
   ],
   "source": [
    "data_stat"
   ]
  },
  {
   "cell_type": "code",
   "execution_count": 88,
   "metadata": {},
   "outputs": [
    {
     "data": {
      "text/plain": [
       "general         5779\n",
       "rephrase        3071\n",
       "irr_concept     1059\n",
       "irr_location    1217\n",
       "irr_names       1270\n",
       "dtype: object"
      ]
     },
     "execution_count": 88,
     "metadata": {},
     "output_type": "execute_result"
    }
   ],
   "source": [
    "data_stat.loc['id'].sum(axis=0)"
   ]
  },
  {
   "cell_type": "code",
   "execution_count": 90,
   "metadata": {},
   "outputs": [
    {
     "data": {
      "text/plain": [
       "general         3898\n",
       "rephrase        4199\n",
       "irr_concept     2401\n",
       "irr_location    1217\n",
       "irr_names       1270\n",
       "dtype: object"
      ]
     },
     "execution_count": 90,
     "metadata": {},
     "output_type": "execute_result"
    }
   ],
   "source": [
    "data_stat.loc['su'].sum(axis=0)"
   ]
  },
  {
   "cell_type": "code",
   "execution_count": null,
   "metadata": {},
   "outputs": [],
   "source": []
  },
  {
   "cell_type": "markdown",
   "metadata": {},
   "source": [
    "#### Model Predict"
   ]
  },
  {
   "cell_type": "code",
   "execution_count": null,
   "metadata": {},
   "outputs": [],
   "source": [
    "out_parent_dir = \"/mnt/nas2/kikiputri/id-csqa/dataset/relevancy_ensemble/\"\n",
    "lang_name = \"su\"\n",
    "location_context = \"West Java\"\n",
    "\n",
    "loc_history_df = pd.read_csv(out_parent_dir + \"conceptnet-api-history-id-230718-25.csv\")\n",
    "loc_response_history = dict((k, v) for k, v in zip(loc_history_df.prompt, loc_history_df.response) if ' ' not in k)\n",
    "\n",
    "location_concepts = ['administrative_region', 'country', 'city', 'province']\n",
    "excluded = ['city', 'town', 'park', 'country', 'province', 'countryside', 'village']\n",
    "\n",
    "def is_conceptnet_location(option):\n",
    "    option = '_'.join(option.split())\n",
    "\n",
    "    if option in excluded:\n",
    "        return False\n",
    "\n",
    "    if option in loc_response_history:\n",
    "        return loc_response_history[option]\n",
    "    \n",
    "    res = requests.get(f\"https://api.conceptnet.io/query?node=/c/en/{option}&rel=/r/IsA\")\n",
    "    obj = res.json()\n",
    "    is_location = False\n",
    "    for edge in obj['edges']:\n",
    "        end_edge = edge['end']['@id'].split('/')\n",
    "        if any([e in end_edge for e in location_concepts]):\n",
    "            is_location = True\n",
    "            break\n",
    "    loc_response_history[option] = is_location\n",
    "    return is_location"
   ]
  },
  {
   "cell_type": "code",
   "execution_count": null,
   "metadata": {},
   "outputs": [],
   "source": [
    "ner_pipeline = stanza.Pipeline('en', processors='tokenize,ner', device=0, model_dir=os.environ['HF_HOME'], download_method=None)"
   ]
  },
  {
   "cell_type": "code",
   "execution_count": null,
   "metadata": {},
   "outputs": [],
   "source": [
    "def extract_names(sentence):\n",
    "    ner_results = ner_pipeline(sentence)\n",
    "    return [ent.text for ent in ner_results.ents if ent.type == 'PERSON']\n",
    "\n",
    "\n",
    "def extract_locations(sentence):\n",
    "    ner_results = ner_pipeline(sentence)\n",
    "    return [ent.text for ent in ner_results.ents if ent.type in ['GPE', 'LOC']]"
   ]
  },
  {
   "cell_type": "code",
   "execution_count": null,
   "metadata": {},
   "outputs": [],
   "source": [
    "openai.api_key = os.environ['OPENAI_API_KEY']\n",
    "openai.organization = os.environ['OPENAI_UILAB_KEY']\n",
    "resp_history_df = pd.read_csv(out_parent_dir + \"gpt-3.5-history-\"+ lang_name +\"-230718-25.csv\")\n",
    "response_history = dict(zip(resp_history_df.prompt, resp_history_df.response))"
   ]
  },
  {
   "cell_type": "code",
   "execution_count": null,
   "metadata": {},
   "outputs": [],
   "source": [
    "def get_input_prompts(concept, concept_type, location_name):\n",
    "    end_prompt = \"Answer with only 'yes' or 'no'.\"\n",
    "\n",
    "    return [\n",
    "        f\"Does {concept} commonly found in {location_name}? {end_prompt}\",\n",
    "        f\"Does people in {location_name} familiar with {concept}? {end_prompt}\",\n",
    "        f\"Can you find {concept} in {location_name}? {end_prompt}\",\n",
    "        f\"Is {concept} culturally relevant in {location_name}? {end_prompt}\",\n",
    "        f\"Suppose you are a person who live in {location_name}. Are you familiar with {concept}? {end_prompt}\",\n",
    "    ]\n",
    "\n",
    "\n",
    "def get_openai_chat_completion(input_prompt, model_name, temp=0.2):\n",
    "    return openai.ChatCompletion.create(\n",
    "        model=model_name,\n",
    "        messages=[\n",
    "            {\n",
    "                'role': 'user',\n",
    "                'content': input_prompt\n",
    "            }\n",
    "        ],\n",
    "        temperature=temp\n",
    "    )\n",
    "\n",
    "\n",
    "def get_openai_relevancy(input_prompt, model_name):\n",
    "    if input_prompt in response_history:\n",
    "        return response_history[input_prompt]\n",
    "    \n",
    "    try:\n",
    "        completion = get_openai_chat_completion(input_prompt, model_name)\n",
    "    except Exception:\n",
    "        time.sleep(60)\n",
    "        completion = get_openai_chat_completion(input_prompt, model_name)\n",
    "\n",
    "    response = completion.choices[0].message.content.strip().lower()\n",
    "    \n",
    "    if response in [\"yes.\", \"no.\"]:\n",
    "        response = response.replace(\".\", \"\")\n",
    "    \n",
    "    response_history[input_prompt] = response\n",
    "\n",
    "    return response"
   ]
  },
  {
   "cell_type": "code",
   "execution_count": null,
   "metadata": {},
   "outputs": [],
   "source": [
    "en_csqa[0]"
   ]
  },
  {
   "cell_type": "code",
   "execution_count": null,
   "metadata": {},
   "outputs": [],
   "source": [
    "model_name = \"gpt-3.5-turbo\"\n",
    "relevancy_data = {\n",
    "    'q_id': [], 'question': [], 'q_concept': [],\n",
    "    'option_a': [], 'option_b': [], 'option_c': [], 'option_d': [], 'option_e': [],\n",
    "    'names': []\n",
    "}\n",
    "option_idxs = ['option_a', 'option_b', 'option_c', 'option_d', 'option_e']\n",
    "for item in tqdm(en_csqa):\n",
    "    relevancy_data['q_id'].append(item['id'])\n",
    "    relevancy_data['question'].append(item['question'])\n",
    "\n",
    "    input_prompts = get_input_prompts(item['question_concept'], \"other\", location_context)\n",
    "    rels = [get_openai_relevancy(input_prompt, model_name) for input_prompt in input_prompts]\n",
    "    relevancy_data['q_concept'].append(rels)\n",
    "\n",
    "    for option_idx, choice in zip(option_idxs, item['choices']['text']):\n",
    "        locations = extract_locations(choice)\n",
    "        if len(locations) > 0 or is_conceptnet_location(choice):\n",
    "            relevancy_data[option_idx].append(\"no\") # means irrelevant, has location\n",
    "        else:\n",
    "            relevancy_data[option_idx].append(\"yes\")\n",
    "        \n",
    "    names = extract_names(item['question'])\n",
    "    relevancy_data['names'].append(names)"
   ]
  },
  {
   "cell_type": "code",
   "execution_count": null,
   "metadata": {},
   "outputs": [],
   "source": [
    "relevancy_df = pd.DataFrame(relevancy_data)"
   ]
  },
  {
   "cell_type": "code",
   "execution_count": null,
   "metadata": {},
   "outputs": [],
   "source": [
    "relevancy_df"
   ]
  },
  {
   "cell_type": "code",
   "execution_count": null,
   "metadata": {},
   "outputs": [],
   "source": [
    "out_parent_dir = \"/mnt/nas2/kikiputri/id-csqa/dataset/relevancy_ensemble/\"\n",
    "relevancy_df.to_csv(out_parent_dir + split_name + \"_\" + lang_name + \"_relevancy.csv\", index=False)"
   ]
  },
  {
   "cell_type": "code",
   "execution_count": null,
   "metadata": {},
   "outputs": [],
   "source": [
    "resp_history_df = pd.DataFrame({'prompt': response_history.keys(), 'response': response_history.values()})\n",
    "loc_history_df = pd.DataFrame({'prompt': loc_response_history.keys(), 'response': loc_response_history.values()})"
   ]
  },
  {
   "cell_type": "code",
   "execution_count": null,
   "metadata": {},
   "outputs": [],
   "source": [
    "resp_history_df"
   ]
  },
  {
   "cell_type": "code",
   "execution_count": null,
   "metadata": {},
   "outputs": [],
   "source": [
    "loc_history_df"
   ]
  },
  {
   "cell_type": "code",
   "execution_count": null,
   "metadata": {},
   "outputs": [],
   "source": [
    "resp_history_df.to_csv(out_parent_dir + \"gpt-3.5-history-\"+ lang_name +\"-230718-25.csv\", index=False)\n",
    "loc_history_df.to_csv(out_parent_dir + \"conceptnet-api-history-\"+ lang_name +\"-230718-25.csv\", index=False)"
   ]
  },
  {
   "cell_type": "code",
   "execution_count": null,
   "metadata": {},
   "outputs": [],
   "source": []
  },
  {
   "cell_type": "code",
   "execution_count": null,
   "metadata": {},
   "outputs": [],
   "source": [
    "name = input('What is your name?')\n",
    "print(\"Hello\", name)"
   ]
  },
  {
   "cell_type": "code",
   "execution_count": null,
   "metadata": {},
   "outputs": [],
   "source": []
  }
 ],
 "metadata": {
  "kernelspec": {
   "display_name": "csqa",
   "language": "python",
   "name": "python3"
  },
  "language_info": {
   "codemirror_mode": {
    "name": "ipython",
    "version": 3
   },
   "file_extension": ".py",
   "mimetype": "text/x-python",
   "name": "python",
   "nbconvert_exporter": "python",
   "pygments_lexer": "ipython3",
   "version": "3.8.16"
  },
  "orig_nbformat": 4
 },
 "nbformat": 4,
 "nbformat_minor": 2
}
