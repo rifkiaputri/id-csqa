{
 "cells": [
  {
   "cell_type": "code",
   "execution_count": 1,
   "metadata": {},
   "outputs": [],
   "source": [
    "%load_ext dotenv\n",
    "%dotenv"
   ]
  },
  {
   "cell_type": "code",
   "execution_count": 2,
   "metadata": {},
   "outputs": [],
   "source": [
    "import openai\n",
    "import os\n",
    "import requests\n",
    "import pandas as pd\n",
    "import stanza\n",
    "import time\n",
    "from datasets import load_dataset\n",
    "from tqdm import tqdm"
   ]
  },
  {
   "cell_type": "code",
   "execution_count": 3,
   "metadata": {},
   "outputs": [],
   "source": [
    "# Only needs to be run one time\n",
    "# stanza.download('en', model_dir=os.environ['HF_HOME'])"
   ]
  },
  {
   "cell_type": "code",
   "execution_count": 4,
   "metadata": {},
   "outputs": [],
   "source": [
    "split_name = 'test'\n",
    "en_csqa = load_dataset('commonsense_qa', split=split_name)"
   ]
  },
  {
   "attachments": {},
   "cell_type": "markdown",
   "metadata": {},
   "source": [
    "### Concept Relevancy Classifier"
   ]
  },
  {
   "cell_type": "markdown",
   "metadata": {},
   "source": [
    "#### Post-Process"
   ]
  },
  {
   "cell_type": "code",
   "execution_count": null,
   "metadata": {},
   "outputs": [],
   "source": [
    "nlp = stanza.Pipeline(lang='en', processors='tokenize,lemma', device=0, model_dir=os.environ['HF_HOME'], download_method=None)"
   ]
  },
  {
   "cell_type": "code",
   "execution_count": null,
   "metadata": {},
   "outputs": [],
   "source": [
    "def get_options_lemma(text):\n",
    "    doc = nlp(text)\n",
    "    lemmas = [word.lemma for sent in doc.sentences for word in sent.words]\n",
    "    return ' '.join(lemmas)"
   ]
  },
  {
   "cell_type": "code",
   "execution_count": null,
   "metadata": {},
   "outputs": [],
   "source": [
    "out_parent_dir = \"/mnt/nas2/kikiputri/id-csqa/dataset/relevancy_ensemble/\"\n",
    "lang_name = \"su\"\n",
    "relevancy_df = pd.read_csv(f\"{out_parent_dir}{split_name}_{lang_name}_relevancy.csv\", index_col=0, converters={'q_concept': lambda x: x[1:-1].replace(\"'\", '').split(', ')})"
   ]
  },
  {
   "cell_type": "code",
   "execution_count": null,
   "metadata": {},
   "outputs": [],
   "source": [
    "relevancy_df"
   ]
  },
  {
   "cell_type": "code",
   "execution_count": null,
   "metadata": {},
   "outputs": [],
   "source": [
    "excluded_concepts = [\n",
    "    \"sex\", \"vagina\", \"penis\", \"prostitute\", \"kiss\", \"copulating\", \"procreating\",\n",
    "    \"killing people\", \"committing murder\", \"affair\", \"drug dealer\", \"terrorists\", \"terrorist\",\n",
    "]"
   ]
  },
  {
   "cell_type": "code",
   "execution_count": null,
   "metadata": {},
   "outputs": [],
   "source": [
    "general_questions, rephrase_questions = [], []\n",
    "for item in tqdm(en_csqa):\n",
    "    q_id = item['id']\n",
    "\n",
    "    # Check q concept offensiveness\n",
    "    options_str = ' '.join(item['choices']['text']).lower()\n",
    "    is_offensive = any(ex in item['question'].lower() for ex in excluded_concepts) or \\\n",
    "        any(ex in options_str for ex in excluded_concepts)\n",
    "    if is_offensive:\n",
    "        continue\n",
    "\n",
    "    # Check options ambiguity\n",
    "    options_lemma = [get_options_lemma(option) for option in item['choices']['text']]\n",
    "    is_options_ambiguous = len(set(options_lemma)) != len(options_lemma)\n",
    "    if is_options_ambiguous:\n",
    "        continue\n",
    "\n",
    "    # Check name relevancy\n",
    "    is_name_irrelevant = relevancy_df.loc[q_id, 'names'] != \"[]\"\n",
    "\n",
    "    # Check options relevancy\n",
    "    options = [\n",
    "        relevancy_df.loc[q_id, 'option_a'], relevancy_df.loc[q_id, 'option_b'],\n",
    "        relevancy_df.loc[q_id, 'option_c'], relevancy_df.loc[q_id, 'option_d'],\n",
    "        relevancy_df.loc[q_id, 'option_e']\n",
    "    ]\n",
    "    is_option_irrelevant = 'no' in options\n",
    "\n",
    "    # Check q concept relevancy\n",
    "    yes_count = relevancy_df.loc[q_id, 'q_concept'].count('yes')\n",
    "    no_count = relevancy_df.loc[q_id, 'q_concept'].count('no')\n",
    "    \n",
    "    if not is_name_irrelevant and not is_option_irrelevant and yes_count >= 4:\n",
    "        general_questions.append(item)\n",
    "    else:\n",
    "        if no_count >= 4 or is_name_irrelevant or is_option_irrelevant:\n",
    "            item['concept'] = no_count >= 4\n",
    "            item['name'] = is_name_irrelevant\n",
    "            item['option'] = is_option_irrelevant\n",
    "            rephrase_questions.append(item)"
   ]
  },
  {
   "cell_type": "code",
   "execution_count": null,
   "metadata": {},
   "outputs": [],
   "source": [
    "len(general_questions), len(rephrase_questions), len(en_csqa)"
   ]
  },
  {
   "cell_type": "code",
   "execution_count": null,
   "metadata": {},
   "outputs": [],
   "source": [
    "\n",
    "round(len(general_questions)/len(en_csqa)*100,2), round(len(rephrase_questions)/len(en_csqa)*100,2)"
   ]
  },
  {
   "cell_type": "code",
   "execution_count": null,
   "metadata": {},
   "outputs": [],
   "source": [
    "q_df_general = pd.DataFrame(general_questions)\n",
    "q_df_rephrase = pd.DataFrame(rephrase_questions)"
   ]
  },
  {
   "cell_type": "code",
   "execution_count": null,
   "metadata": {},
   "outputs": [],
   "source": [
    "q_df_rephrase"
   ]
  },
  {
   "cell_type": "code",
   "execution_count": null,
   "metadata": {},
   "outputs": [],
   "source": [
    "out_parent_dir = \"/mnt/nas2/kikiputri/id-csqa/dataset/relevancy_ensemble/data_result/\"\n",
    "q_df_general.to_csv(f\"{out_parent_dir}{split_name}_general_{lang_name}.csv\", index=False)\n",
    "q_df_rephrase.to_csv(f\"{out_parent_dir}{split_name}_rephrase_{lang_name}.csv\", index=False)"
   ]
  },
  {
   "cell_type": "code",
   "execution_count": null,
   "metadata": {},
   "outputs": [],
   "source": []
  },
  {
   "cell_type": "markdown",
   "metadata": {},
   "source": [
    "#### Stats"
   ]
  },
  {
   "cell_type": "code",
   "execution_count": null,
   "metadata": {},
   "outputs": [],
   "source": [
    "import os\n",
    "import numpy as np"
   ]
  },
  {
   "cell_type": "code",
   "execution_count": null,
   "metadata": {},
   "outputs": [],
   "source": [
    "split_index, lang_index = [], []\n",
    "for lang in ['id', 'su']:\n",
    "    for split in ['train', 'validation', 'test']:\n",
    "        lang_index.append(lang)\n",
    "        split_index.append(split)\n",
    "data_stat = pd.DataFrame(index=[np.array(lang_index), np.array(split_index)], columns=['general', 'rephrase', 'irr_concept', 'irr_location', 'irr_names'])"
   ]
  },
  {
   "cell_type": "code",
   "execution_count": null,
   "metadata": {},
   "outputs": [],
   "source": [
    "data_stat"
   ]
  },
  {
   "cell_type": "code",
   "execution_count": null,
   "metadata": {},
   "outputs": [],
   "source": [
    "out_parent_dir = \"/mnt/nas2/kikiputri/id-csqa/dataset/relevancy_ensemble/data_result/\"\n",
    "for file_name in tqdm(os.listdir(out_parent_dir)):\n",
    "    name_only = file_name.replace('.csv', '')\n",
    "    split, q_type, lang = name_only.split('_')\n",
    "    \n",
    "    dat = pd.read_csv(out_parent_dir + file_name)\n",
    "    data_stat.loc[lang,split][q_type] = len(dat)\n",
    "\n",
    "    if q_type == 'rephrase':\n",
    "        dat['concept'].tolist()\n",
    "        dat['name'].tolist()\n",
    "        dat['option'].tolist()\n",
    "        data_stat.loc[lang,split]['irr_concept'] = dat['concept'].tolist().count(True)\n",
    "        data_stat.loc[lang,split]['irr_location'] = dat['option'].tolist().count(True)\n",
    "        data_stat.loc[lang,split]['irr_names'] = dat['name'].tolist().count(True)"
   ]
  },
  {
   "cell_type": "code",
   "execution_count": null,
   "metadata": {},
   "outputs": [],
   "source": [
    "data_stat"
   ]
  },
  {
   "cell_type": "code",
   "execution_count": null,
   "metadata": {},
   "outputs": [],
   "source": [
    "data_stat.loc['id'].sum(axis=0)"
   ]
  },
  {
   "cell_type": "code",
   "execution_count": null,
   "metadata": {},
   "outputs": [],
   "source": [
    "data_stat.loc['su'].sum(axis=0)"
   ]
  },
  {
   "cell_type": "code",
   "execution_count": null,
   "metadata": {},
   "outputs": [],
   "source": []
  },
  {
   "cell_type": "markdown",
   "metadata": {},
   "source": [
    "#### Model Predict"
   ]
  },
  {
   "cell_type": "code",
   "execution_count": null,
   "metadata": {},
   "outputs": [],
   "source": [
    "out_parent_dir = \"/mnt/nas2/kikiputri/id-csqa/dataset/relevancy_ensemble/\"\n",
    "lang_name = \"su\"\n",
    "location_context = \"West Java\"\n",
    "\n",
    "loc_history_df = pd.read_csv(out_parent_dir + \"conceptnet-api-history-id-230718-25.csv\")\n",
    "loc_response_history = dict((k, v) for k, v in zip(loc_history_df.prompt, loc_history_df.response) if ' ' not in k)\n",
    "\n",
    "location_concepts = ['administrative_region', 'country', 'city', 'province']\n",
    "excluded = ['city', 'town', 'park', 'country', 'province', 'countryside', 'village']\n",
    "\n",
    "def is_conceptnet_location(option):\n",
    "    option = '_'.join(option.split())\n",
    "\n",
    "    if option in excluded:\n",
    "        return False\n",
    "\n",
    "    if option in loc_response_history:\n",
    "        return loc_response_history[option]\n",
    "    \n",
    "    res = requests.get(f\"https://api.conceptnet.io/query?node=/c/en/{option}&rel=/r/IsA\")\n",
    "    obj = res.json()\n",
    "    is_location = False\n",
    "    for edge in obj['edges']:\n",
    "        end_edge = edge['end']['@id'].split('/')\n",
    "        if any([e in end_edge for e in location_concepts]):\n",
    "            is_location = True\n",
    "            break\n",
    "    loc_response_history[option] = is_location\n",
    "    return is_location"
   ]
  },
  {
   "cell_type": "code",
   "execution_count": null,
   "metadata": {},
   "outputs": [],
   "source": [
    "ner_pipeline = stanza.Pipeline('en', processors='tokenize,ner', device=0, model_dir=os.environ['HF_HOME'], download_method=None)"
   ]
  },
  {
   "cell_type": "code",
   "execution_count": null,
   "metadata": {},
   "outputs": [],
   "source": [
    "def extract_names(sentence):\n",
    "    ner_results = ner_pipeline(sentence)\n",
    "    return [ent.text for ent in ner_results.ents if ent.type == 'PERSON']\n",
    "\n",
    "\n",
    "def extract_locations(sentence):\n",
    "    ner_results = ner_pipeline(sentence)\n",
    "    return [ent.text for ent in ner_results.ents if ent.type in ['GPE', 'LOC']]"
   ]
  },
  {
   "cell_type": "code",
   "execution_count": null,
   "metadata": {},
   "outputs": [],
   "source": [
    "openai.api_key = os.environ['OPENAI_API_KEY']\n",
    "openai.organization = os.environ['OPENAI_UILAB_KEY']\n",
    "resp_history_df = pd.read_csv(out_parent_dir + \"gpt-3.5-history-\"+ lang_name +\"-230718-25.csv\")\n",
    "response_history = dict(zip(resp_history_df.prompt, resp_history_df.response))"
   ]
  },
  {
   "cell_type": "code",
   "execution_count": null,
   "metadata": {},
   "outputs": [],
   "source": [
    "def get_input_prompts(concept, concept_type, location_name):\n",
    "    end_prompt = \"Answer with only 'yes' or 'no'.\"\n",
    "\n",
    "    return [\n",
    "        f\"Does {concept} commonly found in {location_name}? {end_prompt}\",\n",
    "        f\"Does people in {location_name} familiar with {concept}? {end_prompt}\",\n",
    "        f\"Can you find {concept} in {location_name}? {end_prompt}\",\n",
    "        f\"Is {concept} culturally relevant in {location_name}? {end_prompt}\",\n",
    "        f\"Suppose you are a person who live in {location_name}. Are you familiar with {concept}? {end_prompt}\",\n",
    "    ]\n",
    "\n",
    "\n",
    "def get_openai_chat_completion(input_prompt, model_name, temp=0.2):\n",
    "    return openai.ChatCompletion.create(\n",
    "        model=model_name,\n",
    "        messages=[\n",
    "            {\n",
    "                'role': 'user',\n",
    "                'content': input_prompt\n",
    "            }\n",
    "        ],\n",
    "        temperature=temp\n",
    "    )\n",
    "\n",
    "\n",
    "def get_openai_relevancy(input_prompt, model_name):\n",
    "    if input_prompt in response_history:\n",
    "        return response_history[input_prompt]\n",
    "    \n",
    "    try:\n",
    "        completion = get_openai_chat_completion(input_prompt, model_name)\n",
    "    except Exception:\n",
    "        time.sleep(60)\n",
    "        completion = get_openai_chat_completion(input_prompt, model_name)\n",
    "\n",
    "    response = completion.choices[0].message.content.strip().lower()\n",
    "    \n",
    "    if response in [\"yes.\", \"no.\"]:\n",
    "        response = response.replace(\".\", \"\")\n",
    "    \n",
    "    response_history[input_prompt] = response\n",
    "\n",
    "    return response"
   ]
  },
  {
   "cell_type": "code",
   "execution_count": null,
   "metadata": {},
   "outputs": [],
   "source": [
    "en_csqa[0]"
   ]
  },
  {
   "cell_type": "code",
   "execution_count": null,
   "metadata": {},
   "outputs": [],
   "source": [
    "model_name = \"gpt-3.5-turbo\"\n",
    "relevancy_data = {\n",
    "    'q_id': [], 'question': [], 'q_concept': [],\n",
    "    'option_a': [], 'option_b': [], 'option_c': [], 'option_d': [], 'option_e': [],\n",
    "    'names': []\n",
    "}\n",
    "option_idxs = ['option_a', 'option_b', 'option_c', 'option_d', 'option_e']\n",
    "for item in tqdm(en_csqa):\n",
    "    relevancy_data['q_id'].append(item['id'])\n",
    "    relevancy_data['question'].append(item['question'])\n",
    "\n",
    "    input_prompts = get_input_prompts(item['question_concept'], \"other\", location_context)\n",
    "    rels = [get_openai_relevancy(input_prompt, model_name) for input_prompt in input_prompts]\n",
    "    relevancy_data['q_concept'].append(rels)\n",
    "\n",
    "    for option_idx, choice in zip(option_idxs, item['choices']['text']):\n",
    "        locations = extract_locations(choice)\n",
    "        if len(locations) > 0 or is_conceptnet_location(choice):\n",
    "            relevancy_data[option_idx].append(\"no\") # means irrelevant, has location\n",
    "        else:\n",
    "            relevancy_data[option_idx].append(\"yes\")\n",
    "        \n",
    "    names = extract_names(item['question'])\n",
    "    relevancy_data['names'].append(names)"
   ]
  },
  {
   "cell_type": "code",
   "execution_count": null,
   "metadata": {},
   "outputs": [],
   "source": [
    "relevancy_df = pd.DataFrame(relevancy_data)"
   ]
  },
  {
   "cell_type": "code",
   "execution_count": null,
   "metadata": {},
   "outputs": [],
   "source": [
    "relevancy_df"
   ]
  },
  {
   "cell_type": "code",
   "execution_count": null,
   "metadata": {},
   "outputs": [],
   "source": [
    "out_parent_dir = \"/mnt/nas2/kikiputri/id-csqa/dataset/relevancy_ensemble/\"\n",
    "relevancy_df.to_csv(out_parent_dir + split_name + \"_\" + lang_name + \"_relevancy.csv\", index=False)"
   ]
  },
  {
   "cell_type": "code",
   "execution_count": null,
   "metadata": {},
   "outputs": [],
   "source": [
    "resp_history_df = pd.DataFrame({'prompt': response_history.keys(), 'response': response_history.values()})\n",
    "loc_history_df = pd.DataFrame({'prompt': loc_response_history.keys(), 'response': loc_response_history.values()})"
   ]
  },
  {
   "cell_type": "code",
   "execution_count": null,
   "metadata": {},
   "outputs": [],
   "source": [
    "resp_history_df"
   ]
  },
  {
   "cell_type": "code",
   "execution_count": null,
   "metadata": {},
   "outputs": [],
   "source": [
    "loc_history_df"
   ]
  },
  {
   "cell_type": "code",
   "execution_count": null,
   "metadata": {},
   "outputs": [],
   "source": [
    "resp_history_df.to_csv(out_parent_dir + \"gpt-3.5-history-\"+ lang_name +\"-230718-25.csv\", index=False)\n",
    "loc_history_df.to_csv(out_parent_dir + \"conceptnet-api-history-\"+ lang_name +\"-230718-25.csv\", index=False)"
   ]
  },
  {
   "cell_type": "code",
   "execution_count": null,
   "metadata": {},
   "outputs": [],
   "source": []
  },
  {
   "cell_type": "code",
   "execution_count": null,
   "metadata": {},
   "outputs": [],
   "source": [
    "name = input('What is your name?')\n",
    "print(\"Hello\", name)"
   ]
  },
  {
   "cell_type": "code",
   "execution_count": null,
   "metadata": {},
   "outputs": [],
   "source": []
  }
 ],
 "metadata": {
  "kernelspec": {
   "display_name": "csqa",
   "language": "python",
   "name": "python3"
  },
  "language_info": {
   "codemirror_mode": {
    "name": "ipython",
    "version": 3
   },
   "file_extension": ".py",
   "mimetype": "text/x-python",
   "name": "python",
   "nbconvert_exporter": "python",
   "pygments_lexer": "ipython3",
   "version": "3.8.16"
  },
  "orig_nbformat": 4
 },
 "nbformat": 4,
 "nbformat_minor": 2
}
