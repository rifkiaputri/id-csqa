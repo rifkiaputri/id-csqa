{
 "cells": [
  {
   "cell_type": "code",
   "execution_count": 1,
   "metadata": {},
   "outputs": [],
   "source": [
    "%load_ext dotenv\n",
    "%dotenv"
   ]
  },
  {
   "cell_type": "code",
   "execution_count": 2,
   "metadata": {},
   "outputs": [],
   "source": [
    "import openai\n",
    "import os\n",
    "import pandas as pd\n",
    "import stanza\n",
    "import time\n",
    "from datasets import load_dataset\n",
    "from tqdm import tqdm"
   ]
  },
  {
   "cell_type": "code",
   "execution_count": 3,
   "metadata": {},
   "outputs": [],
   "source": [
    "# Only needs to be run one time\n",
    "# stanza.download('en')"
   ]
  },
  {
   "cell_type": "code",
   "execution_count": 42,
   "metadata": {},
   "outputs": [
    {
     "name": "stderr",
     "output_type": "stream",
     "text": [
      "Found cached dataset commonsense_qa (/mnt/nas2/kikiputri/cache/commonsense_qa/default/1.0.0/28d68f56649a7f0c23bc68eae850af914aa03f95f810011ae8cf58cc5ff5051b)\n"
     ]
    }
   ],
   "source": [
    "split_name = 'test'\n",
    "en_csqa = load_dataset('commonsense_qa', split=split_name)"
   ]
  },
  {
   "attachments": {},
   "cell_type": "markdown",
   "metadata": {},
   "source": [
    "### Concept Relevancy Classifier"
   ]
  },
  {
   "cell_type": "markdown",
   "metadata": {},
   "source": [
    "#### Post-Process"
   ]
  },
  {
   "cell_type": "code",
   "execution_count": 61,
   "metadata": {},
   "outputs": [
    {
     "name": "stderr",
     "output_type": "stream",
     "text": [
      "2023-07-07 17:28:20 INFO: Checking for updates to resources.json in case models have been updated.  Note: this behavior can be turned off with download_method=None or download_method=DownloadMethod.REUSE_RESOURCES\n"
     ]
    },
    {
     "data": {
      "application/vnd.jupyter.widget-view+json": {
       "model_id": "b0b78a4c0afc41cdbdd6bdeead03f2c1",
       "version_major": 2,
       "version_minor": 0
      },
      "text/plain": [
       "Downloading https://raw.githubusercontent.com/stanfordnlp/stanza-resources/main/resources_1.5.0.json:   0%|   …"
      ]
     },
     "metadata": {},
     "output_type": "display_data"
    },
    {
     "name": "stderr",
     "output_type": "stream",
     "text": [
      "2023-07-07 17:28:20 INFO: Loading these models for language: en (English):\n",
      "========================\n",
      "| Processor | Package  |\n",
      "------------------------\n",
      "| tokenize  | combined |\n",
      "| lemma     | combined |\n",
      "========================\n",
      "\n",
      "2023-07-07 17:28:20 INFO: Using device: 7\n",
      "2023-07-07 17:28:20 INFO: Loading: tokenize\n",
      "2023-07-07 17:28:20 INFO: Loading: lemma\n",
      "2023-07-07 17:28:20 INFO: Done loading processors!\n"
     ]
    }
   ],
   "source": [
    "nlp = stanza.Pipeline(lang='en', processors='tokenize,lemma', device=7)"
   ]
  },
  {
   "cell_type": "code",
   "execution_count": 9,
   "metadata": {},
   "outputs": [],
   "source": [
    "def get_options_lemma(text):\n",
    "    doc = nlp(text)\n",
    "    lemmas = [word.lemma for sent in doc.sentences for word in sent.words]\n",
    "    return ' '.join(lemmas)"
   ]
  },
  {
   "cell_type": "code",
   "execution_count": 51,
   "metadata": {},
   "outputs": [],
   "source": [
    "out_parent_dir = \"/mnt/nas2/kikiputri/id-csqa/dataset/relevancy/\"\n",
    "lang_name = \"su\"\n",
    "relevancy_df = pd.read_csv(f\"{out_parent_dir}{split_name}_{lang_name}_step1.csv\", index_col=0)"
   ]
  },
  {
   "cell_type": "code",
   "execution_count": 52,
   "metadata": {},
   "outputs": [
    {
     "data": {
      "text/html": [
       "<div>\n",
       "<style scoped>\n",
       "    .dataframe tbody tr th:only-of-type {\n",
       "        vertical-align: middle;\n",
       "    }\n",
       "\n",
       "    .dataframe tbody tr th {\n",
       "        vertical-align: top;\n",
       "    }\n",
       "\n",
       "    .dataframe thead th {\n",
       "        text-align: right;\n",
       "    }\n",
       "</style>\n",
       "<table border=\"1\" class=\"dataframe\">\n",
       "  <thead>\n",
       "    <tr style=\"text-align: right;\">\n",
       "      <th></th>\n",
       "      <th>q_concept</th>\n",
       "      <th>option_a</th>\n",
       "      <th>option_b</th>\n",
       "      <th>option_c</th>\n",
       "      <th>option_d</th>\n",
       "      <th>option_e</th>\n",
       "      <th>names</th>\n",
       "      <th>answer</th>\n",
       "    </tr>\n",
       "    <tr>\n",
       "      <th>q_id</th>\n",
       "      <th></th>\n",
       "      <th></th>\n",
       "      <th></th>\n",
       "      <th></th>\n",
       "      <th></th>\n",
       "      <th></th>\n",
       "      <th></th>\n",
       "      <th></th>\n",
       "    </tr>\n",
       "  </thead>\n",
       "  <tbody>\n",
       "    <tr>\n",
       "      <th>90b30172e645ff91f7171a048582eb8b</th>\n",
       "      <td>yes</td>\n",
       "      <td>NaN</td>\n",
       "      <td>NaN</td>\n",
       "      <td>NaN</td>\n",
       "      <td>NaN</td>\n",
       "      <td>NaN</td>\n",
       "      <td>[]</td>\n",
       "      <td>NaN</td>\n",
       "    </tr>\n",
       "    <tr>\n",
       "      <th>000990552527b1353f98f1e1a7dfc643</th>\n",
       "      <td>no</td>\n",
       "      <td>NaN</td>\n",
       "      <td>NaN</td>\n",
       "      <td>NaN</td>\n",
       "      <td>NaN</td>\n",
       "      <td>NaN</td>\n",
       "      <td>[]</td>\n",
       "      <td>NaN</td>\n",
       "    </tr>\n",
       "    <tr>\n",
       "      <th>dca0f2859f3c3dd43a9b2bfeff4936a8</th>\n",
       "      <td>yes</td>\n",
       "      <td>NaN</td>\n",
       "      <td>NaN</td>\n",
       "      <td>NaN</td>\n",
       "      <td>NaN</td>\n",
       "      <td>NaN</td>\n",
       "      <td>[]</td>\n",
       "      <td>NaN</td>\n",
       "    </tr>\n",
       "    <tr>\n",
       "      <th>8795a949b39702af0e452c9e1229046d</th>\n",
       "      <td>yes</td>\n",
       "      <td>NaN</td>\n",
       "      <td>NaN</td>\n",
       "      <td>NaN</td>\n",
       "      <td>NaN</td>\n",
       "      <td>NaN</td>\n",
       "      <td>[]</td>\n",
       "      <td>NaN</td>\n",
       "    </tr>\n",
       "    <tr>\n",
       "      <th>1f74ea1f73b9f5d91a665b4d90218a6e</th>\n",
       "      <td>yes</td>\n",
       "      <td>NaN</td>\n",
       "      <td>NaN</td>\n",
       "      <td>NaN</td>\n",
       "      <td>NaN</td>\n",
       "      <td>NaN</td>\n",
       "      <td>[]</td>\n",
       "      <td>NaN</td>\n",
       "    </tr>\n",
       "    <tr>\n",
       "      <th>...</th>\n",
       "      <td>...</td>\n",
       "      <td>...</td>\n",
       "      <td>...</td>\n",
       "      <td>...</td>\n",
       "      <td>...</td>\n",
       "      <td>...</td>\n",
       "      <td>...</td>\n",
       "      <td>...</td>\n",
       "    </tr>\n",
       "    <tr>\n",
       "      <th>3abf430c8338c3a4cdaa3e26b96bcae2</th>\n",
       "      <td>yes</td>\n",
       "      <td>NaN</td>\n",
       "      <td>NaN</td>\n",
       "      <td>NaN</td>\n",
       "      <td>NaN</td>\n",
       "      <td>NaN</td>\n",
       "      <td>[]</td>\n",
       "      <td>NaN</td>\n",
       "    </tr>\n",
       "    <tr>\n",
       "      <th>fb46652b6016be675e301fafe03222f3</th>\n",
       "      <td>yes</td>\n",
       "      <td>NaN</td>\n",
       "      <td>NaN</td>\n",
       "      <td>NaN</td>\n",
       "      <td>NaN</td>\n",
       "      <td>NaN</td>\n",
       "      <td>[]</td>\n",
       "      <td>NaN</td>\n",
       "    </tr>\n",
       "    <tr>\n",
       "      <th>27a3f39930a7383a9723897eb0e88f20</th>\n",
       "      <td>no</td>\n",
       "      <td>NaN</td>\n",
       "      <td>NaN</td>\n",
       "      <td>NaN</td>\n",
       "      <td>NaN</td>\n",
       "      <td>NaN</td>\n",
       "      <td>[('John', 'no'), ('Johnson', 'no'), ('Johnson'...</td>\n",
       "      <td>NaN</td>\n",
       "    </tr>\n",
       "    <tr>\n",
       "      <th>c9a82c294ae81ca5f2b4dd7f4c031310</th>\n",
       "      <td>yes</td>\n",
       "      <td>NaN</td>\n",
       "      <td>NaN</td>\n",
       "      <td>NaN</td>\n",
       "      <td>NaN</td>\n",
       "      <td>NaN</td>\n",
       "      <td>[]</td>\n",
       "      <td>NaN</td>\n",
       "    </tr>\n",
       "    <tr>\n",
       "      <th>c96f53d1a064f277d805dd00f3d9402d</th>\n",
       "      <td>no</td>\n",
       "      <td>NaN</td>\n",
       "      <td>NaN</td>\n",
       "      <td>NaN</td>\n",
       "      <td>NaN</td>\n",
       "      <td>NaN</td>\n",
       "      <td>[]</td>\n",
       "      <td>NaN</td>\n",
       "    </tr>\n",
       "  </tbody>\n",
       "</table>\n",
       "<p>1140 rows × 8 columns</p>\n",
       "</div>"
      ],
      "text/plain": [
       "                                 q_concept option_a option_b option_c  \\\n",
       "q_id                                                                    \n",
       "90b30172e645ff91f7171a048582eb8b       yes      NaN      NaN      NaN   \n",
       "000990552527b1353f98f1e1a7dfc643        no      NaN      NaN      NaN   \n",
       "dca0f2859f3c3dd43a9b2bfeff4936a8       yes      NaN      NaN      NaN   \n",
       "8795a949b39702af0e452c9e1229046d       yes      NaN      NaN      NaN   \n",
       "1f74ea1f73b9f5d91a665b4d90218a6e       yes      NaN      NaN      NaN   \n",
       "...                                    ...      ...      ...      ...   \n",
       "3abf430c8338c3a4cdaa3e26b96bcae2       yes      NaN      NaN      NaN   \n",
       "fb46652b6016be675e301fafe03222f3       yes      NaN      NaN      NaN   \n",
       "27a3f39930a7383a9723897eb0e88f20        no      NaN      NaN      NaN   \n",
       "c9a82c294ae81ca5f2b4dd7f4c031310       yes      NaN      NaN      NaN   \n",
       "c96f53d1a064f277d805dd00f3d9402d        no      NaN      NaN      NaN   \n",
       "\n",
       "                                 option_d option_e  \\\n",
       "q_id                                                 \n",
       "90b30172e645ff91f7171a048582eb8b      NaN      NaN   \n",
       "000990552527b1353f98f1e1a7dfc643      NaN      NaN   \n",
       "dca0f2859f3c3dd43a9b2bfeff4936a8      NaN      NaN   \n",
       "8795a949b39702af0e452c9e1229046d      NaN      NaN   \n",
       "1f74ea1f73b9f5d91a665b4d90218a6e      NaN      NaN   \n",
       "...                                   ...      ...   \n",
       "3abf430c8338c3a4cdaa3e26b96bcae2      NaN      NaN   \n",
       "fb46652b6016be675e301fafe03222f3      NaN      NaN   \n",
       "27a3f39930a7383a9723897eb0e88f20      NaN      NaN   \n",
       "c9a82c294ae81ca5f2b4dd7f4c031310      NaN      NaN   \n",
       "c96f53d1a064f277d805dd00f3d9402d      NaN      NaN   \n",
       "\n",
       "                                                                              names  \\\n",
       "q_id                                                                                  \n",
       "90b30172e645ff91f7171a048582eb8b                                                 []   \n",
       "000990552527b1353f98f1e1a7dfc643                                                 []   \n",
       "dca0f2859f3c3dd43a9b2bfeff4936a8                                                 []   \n",
       "8795a949b39702af0e452c9e1229046d                                                 []   \n",
       "1f74ea1f73b9f5d91a665b4d90218a6e                                                 []   \n",
       "...                                                                             ...   \n",
       "3abf430c8338c3a4cdaa3e26b96bcae2                                                 []   \n",
       "fb46652b6016be675e301fafe03222f3                                                 []   \n",
       "27a3f39930a7383a9723897eb0e88f20  [('John', 'no'), ('Johnson', 'no'), ('Johnson'...   \n",
       "c9a82c294ae81ca5f2b4dd7f4c031310                                                 []   \n",
       "c96f53d1a064f277d805dd00f3d9402d                                                 []   \n",
       "\n",
       "                                  answer  \n",
       "q_id                                      \n",
       "90b30172e645ff91f7171a048582eb8b     NaN  \n",
       "000990552527b1353f98f1e1a7dfc643     NaN  \n",
       "dca0f2859f3c3dd43a9b2bfeff4936a8     NaN  \n",
       "8795a949b39702af0e452c9e1229046d     NaN  \n",
       "1f74ea1f73b9f5d91a665b4d90218a6e     NaN  \n",
       "...                                  ...  \n",
       "3abf430c8338c3a4cdaa3e26b96bcae2     NaN  \n",
       "fb46652b6016be675e301fafe03222f3     NaN  \n",
       "27a3f39930a7383a9723897eb0e88f20     NaN  \n",
       "c9a82c294ae81ca5f2b4dd7f4c031310     NaN  \n",
       "c96f53d1a064f277d805dd00f3d9402d     NaN  \n",
       "\n",
       "[1140 rows x 8 columns]"
      ]
     },
     "execution_count": 52,
     "metadata": {},
     "output_type": "execute_result"
    }
   ],
   "source": [
    "relevancy_df"
   ]
  },
  {
   "cell_type": "code",
   "execution_count": 53,
   "metadata": {},
   "outputs": [],
   "source": [
    "excluded_concepts = [\n",
    "    \"sex\", \"vagina\", \"penis\", \"prostitute\", \"kiss\", \"killing people\", \"christian\", \"islam\",\n",
    "    \"committing murder\", \"affair\", \"alcohol\", \"church\", \"mosque\", \"drug dealer\", \"gay\",\n",
    "    \"lesbian\", \"lgbt\", \"lgbtq\"\n",
    "]"
   ]
  },
  {
   "cell_type": "code",
   "execution_count": 54,
   "metadata": {},
   "outputs": [
    {
     "name": "stderr",
     "output_type": "stream",
     "text": [
      "100%|██████████| 1140/1140 [00:36<00:00, 30.84it/s]\n"
     ]
    }
   ],
   "source": [
    "general_questions = []\n",
    "for item in tqdm(en_csqa):\n",
    "    q_id = item['id']\n",
    "\n",
    "    # Check name relevancy\n",
    "    is_name_irrelevant = \"'no'\" in relevancy_df.loc[q_id, 'names']\n",
    "\n",
    "    # Check options relevancy\n",
    "    options = [\n",
    "        relevancy_df.loc[q_id, 'option_a'], relevancy_df.loc[q_id, 'option_b'],\n",
    "        relevancy_df.loc[q_id, 'option_c'], relevancy_df.loc[q_id, 'option_d'],\n",
    "        relevancy_df.loc[q_id, 'option_e']\n",
    "    ]\n",
    "    is_option_irrelevant = 'no' in options\n",
    "\n",
    "    # Check q concept relevancy\n",
    "    is_concept_relevant = relevancy_df.loc[q_id, 'q_concept'] == 'yes'\n",
    "\n",
    "    # Check q concept offensiveness\n",
    "    options_str = ' '.join(item['choices']['text']).lower()\n",
    "    is_offensive = any(ex in item['question'].lower() for ex in excluded_concepts) or \\\n",
    "        any(ex in options_str for ex in excluded_concepts)\n",
    "    \n",
    "    # Check options ambiguity\n",
    "    options_lemma = [get_options_lemma(option) for option in item['choices']['text']]\n",
    "    is_options_ambiguous = len(set(options_lemma)) != len(options_lemma)\n",
    "\n",
    "    if not is_name_irrelevant and not is_option_irrelevant and is_concept_relevant \\\n",
    "            and not is_offensive and not is_options_ambiguous:\n",
    "        general_questions.append(item)"
   ]
  },
  {
   "cell_type": "code",
   "execution_count": 55,
   "metadata": {},
   "outputs": [
    {
     "data": {
      "text/plain": [
       "621"
      ]
     },
     "execution_count": 55,
     "metadata": {},
     "output_type": "execute_result"
    }
   ],
   "source": [
    "len(general_questions)"
   ]
  },
  {
   "cell_type": "code",
   "execution_count": 56,
   "metadata": {},
   "outputs": [],
   "source": [
    "general_q_df = pd.DataFrame(general_questions)"
   ]
  },
  {
   "cell_type": "code",
   "execution_count": 57,
   "metadata": {},
   "outputs": [
    {
     "data": {
      "text/html": [
       "<div>\n",
       "<style scoped>\n",
       "    .dataframe tbody tr th:only-of-type {\n",
       "        vertical-align: middle;\n",
       "    }\n",
       "\n",
       "    .dataframe tbody tr th {\n",
       "        vertical-align: top;\n",
       "    }\n",
       "\n",
       "    .dataframe thead th {\n",
       "        text-align: right;\n",
       "    }\n",
       "</style>\n",
       "<table border=\"1\" class=\"dataframe\">\n",
       "  <thead>\n",
       "    <tr style=\"text-align: right;\">\n",
       "      <th></th>\n",
       "      <th>id</th>\n",
       "      <th>question</th>\n",
       "      <th>question_concept</th>\n",
       "      <th>choices</th>\n",
       "      <th>answerKey</th>\n",
       "    </tr>\n",
       "  </thead>\n",
       "  <tbody>\n",
       "    <tr>\n",
       "      <th>0</th>\n",
       "      <td>90b30172e645ff91f7171a048582eb8b</td>\n",
       "      <td>The townhouse was a hard sell for the realtor,...</td>\n",
       "      <td>townhouse</td>\n",
       "      <td>{'label': ['A', 'B', 'C', 'D', 'E'], 'text': [...</td>\n",
       "      <td></td>\n",
       "    </tr>\n",
       "    <tr>\n",
       "      <th>1</th>\n",
       "      <td>dca0f2859f3c3dd43a9b2bfeff4936a8</td>\n",
       "      <td>What were the kids doing as they looked up at ...</td>\n",
       "      <td>kids</td>\n",
       "      <td>{'label': ['A', 'B', 'C', 'D', 'E'], 'text': [...</td>\n",
       "      <td></td>\n",
       "    </tr>\n",
       "    <tr>\n",
       "      <th>2</th>\n",
       "      <td>8795a949b39702af0e452c9e1229046d</td>\n",
       "      <td>The person taught an advanced class only for who?</td>\n",
       "      <td>person</td>\n",
       "      <td>{'label': ['A', 'B', 'C', 'D', 'E'], 'text': [...</td>\n",
       "      <td></td>\n",
       "    </tr>\n",
       "    <tr>\n",
       "      <th>3</th>\n",
       "      <td>1f74ea1f73b9f5d91a665b4d90218a6e</td>\n",
       "      <td>What is a likely consequence of ignorance of r...</td>\n",
       "      <td>ignorance</td>\n",
       "      <td>{'label': ['A', 'B', 'C', 'D', 'E'], 'text': [...</td>\n",
       "      <td></td>\n",
       "    </tr>\n",
       "    <tr>\n",
       "      <th>4</th>\n",
       "      <td>0b7734f608c188350573247e3ef2a00d</td>\n",
       "      <td>After graduating the dentist set up his dental...</td>\n",
       "      <td>dental office</td>\n",
       "      <td>{'label': ['A', 'B', 'C', 'D', 'E'], 'text': [...</td>\n",
       "      <td></td>\n",
       "    </tr>\n",
       "    <tr>\n",
       "      <th>...</th>\n",
       "      <td>...</td>\n",
       "      <td>...</td>\n",
       "      <td>...</td>\n",
       "      <td>...</td>\n",
       "      <td>...</td>\n",
       "    </tr>\n",
       "    <tr>\n",
       "      <th>616</th>\n",
       "      <td>815a8367d08a14f150a6c777ad7f789a</td>\n",
       "      <td>Where would you put a laptop computer if you w...</td>\n",
       "      <td>computer</td>\n",
       "      <td>{'label': ['A', 'B', 'C', 'D', 'E'], 'text': [...</td>\n",
       "      <td></td>\n",
       "    </tr>\n",
       "    <tr>\n",
       "      <th>617</th>\n",
       "      <td>9082b65f2bc5328ea991f734f930ddb5</td>\n",
       "      <td>If children were in a gym, would they be doing?</td>\n",
       "      <td>children</td>\n",
       "      <td>{'label': ['A', 'B', 'C', 'D', 'E'], 'text': [...</td>\n",
       "      <td></td>\n",
       "    </tr>\n",
       "    <tr>\n",
       "      <th>618</th>\n",
       "      <td>3abf430c8338c3a4cdaa3e26b96bcae2</td>\n",
       "      <td>What is a place where people live that has dis...</td>\n",
       "      <td>dishes</td>\n",
       "      <td>{'label': ['A', 'B', 'C', 'D', 'E'], 'text': [...</td>\n",
       "      <td></td>\n",
       "    </tr>\n",
       "    <tr>\n",
       "      <th>619</th>\n",
       "      <td>fb46652b6016be675e301fafe03222f3</td>\n",
       "      <td>The situation was causing anger, but his wife ...</td>\n",
       "      <td>anger</td>\n",
       "      <td>{'label': ['A', 'B', 'C', 'D', 'E'], 'text': [...</td>\n",
       "      <td></td>\n",
       "    </tr>\n",
       "    <tr>\n",
       "      <th>620</th>\n",
       "      <td>c9a82c294ae81ca5f2b4dd7f4c031310</td>\n",
       "      <td>What does a person do at the end of every month?</td>\n",
       "      <td>person</td>\n",
       "      <td>{'label': ['A', 'B', 'C', 'D', 'E'], 'text': [...</td>\n",
       "      <td></td>\n",
       "    </tr>\n",
       "  </tbody>\n",
       "</table>\n",
       "<p>621 rows × 5 columns</p>\n",
       "</div>"
      ],
      "text/plain": [
       "                                   id  \\\n",
       "0    90b30172e645ff91f7171a048582eb8b   \n",
       "1    dca0f2859f3c3dd43a9b2bfeff4936a8   \n",
       "2    8795a949b39702af0e452c9e1229046d   \n",
       "3    1f74ea1f73b9f5d91a665b4d90218a6e   \n",
       "4    0b7734f608c188350573247e3ef2a00d   \n",
       "..                                ...   \n",
       "616  815a8367d08a14f150a6c777ad7f789a   \n",
       "617  9082b65f2bc5328ea991f734f930ddb5   \n",
       "618  3abf430c8338c3a4cdaa3e26b96bcae2   \n",
       "619  fb46652b6016be675e301fafe03222f3   \n",
       "620  c9a82c294ae81ca5f2b4dd7f4c031310   \n",
       "\n",
       "                                              question question_concept  \\\n",
       "0    The townhouse was a hard sell for the realtor,...        townhouse   \n",
       "1    What were the kids doing as they looked up at ...             kids   \n",
       "2    The person taught an advanced class only for who?           person   \n",
       "3    What is a likely consequence of ignorance of r...        ignorance   \n",
       "4    After graduating the dentist set up his dental...    dental office   \n",
       "..                                                 ...              ...   \n",
       "616  Where would you put a laptop computer if you w...         computer   \n",
       "617    If children were in a gym, would they be doing?         children   \n",
       "618  What is a place where people live that has dis...           dishes   \n",
       "619  The situation was causing anger, but his wife ...            anger   \n",
       "620   What does a person do at the end of every month?           person   \n",
       "\n",
       "                                               choices answerKey  \n",
       "0    {'label': ['A', 'B', 'C', 'D', 'E'], 'text': [...            \n",
       "1    {'label': ['A', 'B', 'C', 'D', 'E'], 'text': [...            \n",
       "2    {'label': ['A', 'B', 'C', 'D', 'E'], 'text': [...            \n",
       "3    {'label': ['A', 'B', 'C', 'D', 'E'], 'text': [...            \n",
       "4    {'label': ['A', 'B', 'C', 'D', 'E'], 'text': [...            \n",
       "..                                                 ...       ...  \n",
       "616  {'label': ['A', 'B', 'C', 'D', 'E'], 'text': [...            \n",
       "617  {'label': ['A', 'B', 'C', 'D', 'E'], 'text': [...            \n",
       "618  {'label': ['A', 'B', 'C', 'D', 'E'], 'text': [...            \n",
       "619  {'label': ['A', 'B', 'C', 'D', 'E'], 'text': [...            \n",
       "620  {'label': ['A', 'B', 'C', 'D', 'E'], 'text': [...            \n",
       "\n",
       "[621 rows x 5 columns]"
      ]
     },
     "execution_count": 57,
     "metadata": {},
     "output_type": "execute_result"
    }
   ],
   "source": [
    "general_q_df"
   ]
  },
  {
   "cell_type": "code",
   "execution_count": 58,
   "metadata": {},
   "outputs": [],
   "source": [
    "out_parent_dir = \"/mnt/nas2/kikiputri/id-csqa/dataset/relevancy/data_result/\"\n",
    "general_q_df.to_csv(f\"{out_parent_dir}{split_name}_general_{lang_name}.csv\", index=False)"
   ]
  },
  {
   "cell_type": "code",
   "execution_count": null,
   "metadata": {},
   "outputs": [],
   "source": []
  },
  {
   "cell_type": "markdown",
   "metadata": {},
   "source": [
    "#### Model Predict"
   ]
  },
  {
   "cell_type": "code",
   "execution_count": null,
   "metadata": {},
   "outputs": [],
   "source": [
    "ner_pipeline = stanza.Pipeline('en', processors='tokenize,ner', device=7)"
   ]
  },
  {
   "cell_type": "code",
   "execution_count": null,
   "metadata": {},
   "outputs": [],
   "source": [
    "def extract_names(sentence):\n",
    "    ner_results = ner_pipeline(sentence)\n",
    "    return [ent.text for ent in ner_results.ents if ent.type == 'PERSON']\n",
    "\n",
    "\n",
    "def extract_locations(sentence):\n",
    "    ner_results = ner_pipeline(sentence)\n",
    "    return [ent.text for ent in ner_results.ents if ent.type in ['GPE', 'LOC']]"
   ]
  },
  {
   "cell_type": "code",
   "execution_count": null,
   "metadata": {},
   "outputs": [],
   "source": [
    "openai.api_key = os.environ['OPENAI_API_KEY']\n",
    "openai.organization = os.environ['OPENAI_UILAB_KEY']\n",
    "# response_history = {}"
   ]
  },
  {
   "cell_type": "code",
   "execution_count": null,
   "metadata": {},
   "outputs": [],
   "source": [
    "def get_input_prompt(concept, concept_type, location_name):\n",
    "    end_prompt = \"Answer with only 'yes' or 'no'.\"\n",
    "    \n",
    "    if concept_type == 'location':\n",
    "        return f\"Is {concept} located in {location_name}? {end_prompt}\"\n",
    "    \n",
    "    if concept_type == 'name':\n",
    "        return f\"Is the name \\\"{concept}\\\" common in {location_name}? {end_prompt}\"\n",
    "\n",
    "    return f\"Does {concept} commonly found in {location_name}? {end_prompt}\"\n",
    "\n",
    "\n",
    "def get_openai_chat_completion(input_prompt, model_name, temp=0.2):\n",
    "    return openai.ChatCompletion.create(\n",
    "        model=model_name,\n",
    "        messages=[\n",
    "            {\n",
    "                'role': 'user',\n",
    "                'content': input_prompt\n",
    "            }\n",
    "        ],\n",
    "        temperature=temp\n",
    "    )\n",
    "\n",
    "\n",
    "def get_openai_relevancy(input_prompt, model_name):\n",
    "    if input_prompt in response_history:\n",
    "        return response_history[input_prompt]\n",
    "    \n",
    "    try:\n",
    "        completion = get_openai_chat_completion(input_prompt, model_name)\n",
    "    except openai.error.RateLimitError:\n",
    "        # print(\"OpenAI RateLimitError, wait for 1 minute...\")\n",
    "        time.sleep(60)\n",
    "        completion = get_openai_chat_completion(input_prompt, model_name)\n",
    "    except openai.error.ServiceUnavailableError:\n",
    "        # print(\"OpenAI ServiceUnavailableError, wait for 1 minute...\")\n",
    "        time.sleep(60)\n",
    "        completion = get_openai_chat_completion(input_prompt, model_name)\n",
    "\n",
    "    response = completion.choices[0].message.content.strip().lower()\n",
    "    \n",
    "    if response in [\"yes.\", \"no.\"]:\n",
    "        response = response.replace(\".\", \"\")\n",
    "    \n",
    "    response_history[input_prompt] = response\n",
    "\n",
    "    return response"
   ]
  },
  {
   "cell_type": "code",
   "execution_count": null,
   "metadata": {},
   "outputs": [],
   "source": [
    "en_csqa[0]"
   ]
  },
  {
   "cell_type": "code",
   "execution_count": null,
   "metadata": {},
   "outputs": [],
   "source": [
    "model_name = \"gpt-3.5-turbo\"\n",
    "relevancy_data = {\n",
    "    'q_id': [], 'q_concept': [],\n",
    "    'option_a': [], 'option_b': [], 'option_c': [], 'option_d': [], 'option_e': [],\n",
    "    'names': [], 'answer': []\n",
    "}\n",
    "option_idxs = ['option_a', 'option_b', 'option_c', 'option_d', 'option_e']\n",
    "for item in tqdm(en_csqa):\n",
    "    relevancy_data['q_id'].append(item['id'])\n",
    "\n",
    "    input_prompt = get_input_prompt(item['question_concept'], \"other\", \"West Java\")\n",
    "    rel = get_openai_relevancy(input_prompt, model_name)\n",
    "    relevancy_data['q_concept'].append(rel)\n",
    "\n",
    "    for option_idx, choice in zip(option_idxs, item['choices']['text']):\n",
    "        locations = extract_locations(choice)\n",
    "        if len(locations) > 0:\n",
    "            input_prompt = get_input_prompt(choice, \"location\", \"West Java\")\n",
    "            rel = get_openai_relevancy(input_prompt, model_name)\n",
    "            relevancy_data[option_idx].append(rel)\n",
    "        else:\n",
    "            relevancy_data[option_idx].append(None)\n",
    "        \n",
    "    names = extract_names(item['question'])\n",
    "    names_rel = []\n",
    "    for name in names:\n",
    "        input_prompt = get_input_prompt(name, \"name\", \"West Java\")\n",
    "        rel = get_openai_relevancy(input_prompt, model_name)\n",
    "        names_rel.append((name, rel))\n",
    "    relevancy_data['names'].append(names_rel)\n",
    "\n",
    "    relevancy_data['answer'].append(item['answerKey'])"
   ]
  },
  {
   "cell_type": "code",
   "execution_count": null,
   "metadata": {},
   "outputs": [],
   "source": [
    "relevancy_df = pd.DataFrame(relevancy_data)"
   ]
  },
  {
   "cell_type": "code",
   "execution_count": null,
   "metadata": {},
   "outputs": [],
   "source": [
    "relevancy_df"
   ]
  },
  {
   "cell_type": "code",
   "execution_count": null,
   "metadata": {},
   "outputs": [],
   "source": [
    "out_parent_dir = \"/mnt/nas2/kikiputri/id-csqa/dataset/relevancy/\"\n",
    "relevancy_df.to_csv(out_parent_dir + split_name + \"_su_step1.csv\", index=False)"
   ]
  },
  {
   "cell_type": "code",
   "execution_count": null,
   "metadata": {},
   "outputs": [],
   "source": [
    "resp_history_df = pd.DataFrame({'prompt': response_history.keys(), 'response': response_history.values()})"
   ]
  },
  {
   "cell_type": "code",
   "execution_count": null,
   "metadata": {},
   "outputs": [],
   "source": [
    "resp_history_df"
   ]
  },
  {
   "cell_type": "code",
   "execution_count": null,
   "metadata": {},
   "outputs": [],
   "source": [
    "resp_history_df.to_csv(out_parent_dir + \"gpt-3.5-history-su-230704.csv\", index=False)"
   ]
  },
  {
   "cell_type": "code",
   "execution_count": null,
   "metadata": {},
   "outputs": [],
   "source": []
  }
 ],
 "metadata": {
  "kernelspec": {
   "display_name": "csqa",
   "language": "python",
   "name": "python3"
  },
  "language_info": {
   "codemirror_mode": {
    "name": "ipython",
    "version": 3
   },
   "file_extension": ".py",
   "mimetype": "text/x-python",
   "name": "python",
   "nbconvert_exporter": "python",
   "pygments_lexer": "ipython3",
   "version": "3.8.16"
  },
  "orig_nbformat": 4
 },
 "nbformat": 4,
 "nbformat_minor": 2
}
