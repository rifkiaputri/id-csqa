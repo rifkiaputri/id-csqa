{
 "cells": [
  {
   "cell_type": "code",
   "execution_count": 32,
   "metadata": {},
   "outputs": [],
   "source": [
    "import os\n",
    "import csv\n",
    "import ast\n",
    "import time\n",
    "import pandas as pd\n",
    "\n",
    "from datasets import load_dataset\n",
    "from google.cloud import translate\n",
    "from tqdm import tqdm"
   ]
  },
  {
   "cell_type": "markdown",
   "metadata": {},
   "source": [
    "### CSV Functions"
   ]
  },
  {
   "cell_type": "code",
   "execution_count": 41,
   "metadata": {},
   "outputs": [],
   "source": [
    "def load_csv_data(file_path, bool_params):\n",
    "    # Initialize an empty list to store the data\n",
    "    data_list = []\n",
    "\n",
    "    # Open the CSV file for reading\n",
    "    with open(file_path, newline='') as csvfile:\n",
    "        # Create a CSV reader object\n",
    "        csv_reader = csv.DictReader(csvfile)\n",
    "        \n",
    "        # Iterate through each row in the CSV file\n",
    "        for row in csv_reader:\n",
    "            # Append the row (as a dictionary) to the data_list\n",
    "            row[\"choices\"] = ast.literal_eval(row[\"choices\"])\n",
    "\n",
    "            for param in bool_params:\n",
    "                if row[param].lower() == \"true\":\n",
    "                    row[param] = True\n",
    "                elif row[param].lower() == \"false\":\n",
    "                    row[param] = False\n",
    "                else:\n",
    "                    raise TypeError(f\"{param} data cannot be recognized\")\n",
    "\n",
    "            data_list.append(row)\n",
    "    \n",
    "    return data_list\n",
    "\n",
    "def load_all_rephrase_data(split, dir_path, file_name):\n",
    "    data = {}\n",
    "    \n",
    "    for s in split:\n",
    "        file_path = f\"{dir_path}/{s}{file_name}\"\n",
    "        data[s] = load_csv_data(file_path, [])\n",
    "        # data[s] = load_csv_data(file_path, [\"concept\", \"name\", \"option\"])\n",
    "    \n",
    "    return data\n",
    "\n",
    "def save_data(samples, file_path):\n",
    "    # Get the keys from the first dictionary\n",
    "    header = samples[0].keys()\n",
    "\n",
    "    # Write the data to the CSV file\n",
    "    with open(file_path, 'w', newline='', encoding=\"utf-8\") as csvfile:\n",
    "        writer = csv.DictWriter(csvfile, fieldnames=header)\n",
    "        \n",
    "        # Write the header\n",
    "        writer.writeheader()\n",
    "        \n",
    "        # Write the data\n",
    "        for row in samples:\n",
    "            writer.writerow(row)\n",
    "\n",
    "    print(f'CSV file \"{file_path}\" has been created with the data.')"
   ]
  },
  {
   "cell_type": "markdown",
   "metadata": {},
   "source": [
    "### Google Translate Functions"
   ]
  },
  {
   "cell_type": "code",
   "execution_count": 34,
   "metadata": {},
   "outputs": [],
   "source": [
    "def translate_texts(texts, project_id=\"radiant-math-403602\", src_lang=\"en\", tgt_lang=\"id\"):\n",
    "\n",
    "    client = translate.TranslationServiceClient()\n",
    "    location = \"global\"\n",
    "    parent = f\"projects/{project_id}/locations/{location}\"\n",
    "\n",
    "    response = client.translate_text(\n",
    "        request={\n",
    "            \"parent\": parent,\n",
    "            \"contents\": texts,\n",
    "            \"mime_type\": \"text/plain\",\n",
    "            \"source_language_code\": src_lang,\n",
    "            \"target_language_code\": tgt_lang,\n",
    "        }\n",
    "    )\n",
    "\n",
    "    return [t.translated_text for t in response.translations]"
   ]
  },
  {
   "cell_type": "markdown",
   "metadata": {},
   "source": [
    "### Run Translation"
   ]
  },
  {
   "cell_type": "code",
   "execution_count": 35,
   "metadata": {},
   "outputs": [],
   "source": [
    "split = [\"validation\", \"test\", \"train\"]\n",
    "# v3_data = load_all_rephrase_data(split, \"92123\", \"_rephrased_name_92123.csv\")\n",
    "v3_data = load_all_rephrase_data(split, \"translated_data/id\", \".csv\")"
   ]
  },
  {
   "cell_type": "code",
   "execution_count": 37,
   "metadata": {},
   "outputs": [
    {
     "data": {
      "text/plain": [
       "{'id': '6917399ea434e6c484459f895c72ef90',\n",
       " 'question': 'Jenis sumur apa yang mungkin menimbulkan kontroversi?',\n",
       " 'question_concept': 'Sehat',\n",
       " 'choices': {'label': ['A', 'B', 'C', 'D', 'E'],\n",
       "  'text': ['panas bumi',\n",
       "   'air tanah',\n",
       "   'minyak dan gas',\n",
       "   'pertanian',\n",
       "   'artesis']},\n",
       " 'answerKey': 'C'}"
      ]
     },
     "execution_count": 37,
     "metadata": {},
     "output_type": "execute_result"
    }
   ],
   "source": [
    "v3_data[\"test\"][5]"
   ]
  },
  {
   "cell_type": "code",
   "execution_count": 38,
   "metadata": {},
   "outputs": [
    {
     "name": "stdout",
     "output_type": "stream",
     "text": [
      "Translating data split validation\n"
     ]
    },
    {
     "name": "stderr",
     "output_type": "stream",
     "text": [
      "100%|██████████| 274/274 [08:08<00:00,  1.78s/it]\n"
     ]
    },
    {
     "name": "stdout",
     "output_type": "stream",
     "text": [
      "Translating data split test\n"
     ]
    },
    {
     "name": "stderr",
     "output_type": "stream",
     "text": [
      "100%|██████████| 236/236 [07:01<00:00,  1.79s/it]\n"
     ]
    },
    {
     "name": "stdout",
     "output_type": "stream",
     "text": [
      "Translating data split train\n"
     ]
    },
    {
     "name": "stderr",
     "output_type": "stream",
     "text": [
      " 13%|█▎        | 280/2162 [08:20<53:47,  1.71s/it]  "
     ]
    },
    {
     "name": "stdout",
     "output_type": "stream",
     "text": [
      "Caught exception, wait for 1 min...\n"
     ]
    },
    {
     "name": "stderr",
     "output_type": "stream",
     "text": [
      "100%|██████████| 2162/2162 [1:08:08<00:00,  1.89s/it]\n"
     ]
    }
   ],
   "source": [
    "src_lang = \"id\"\n",
    "tgt_lang = \"su\"\n",
    "\n",
    "results = {}\n",
    "for s in split:\n",
    "    print(f\"Translating data split {s}\")\n",
    "    if s not in results.keys():\n",
    "        results[s] = []\n",
    "    for item in tqdm(v3_data[s]):\n",
    "        trans_items = [item['question'], item['question_concept']] + item['choices']['text']\n",
    "\n",
    "        try:\n",
    "            trans_texts = translate_texts(trans_items, src_lang=src_lang, tgt_lang=tgt_lang)\n",
    "        except Exception:\n",
    "            print('Caught exception, wait for 1 min...')\n",
    "            time.sleep(60)\n",
    "            trans_texts = translate_texts(trans_items, src_lang=src_lang, tgt_lang=tgt_lang)\n",
    "\n",
    "        results[s].append({\n",
    "            'id': item['id'],\n",
    "            'question': trans_texts[0],\n",
    "            'question_concept': trans_texts[1],\n",
    "            'choices': {\n",
    "                'label': item['choices']['label'],\n",
    "                'text': trans_texts[2:]\n",
    "            },\n",
    "            'answerKey': item['answerKey']\n",
    "        })"
   ]
  },
  {
   "cell_type": "code",
   "execution_count": 39,
   "metadata": {},
   "outputs": [
    {
     "name": "stdout",
     "output_type": "stream",
     "text": [
      "{'id': '6917399ea434e6c484459f895c72ef90', 'question': 'Jenis sumur apa yang mungkin menimbulkan kontroversi?', 'question_concept': 'Sehat', 'choices': {'label': ['A', 'B', 'C', 'D', 'E'], 'text': ['panas bumi', 'air tanah', 'minyak dan gas', 'pertanian', 'artesis']}, 'answerKey': 'C'}\n",
      "{'id': '6917399ea434e6c484459f895c72ef90', 'question': 'Jenis sumur naon waé anu tiasa nyababkeun kontrovérsi?', 'question_concept': 'Sehat', 'choices': {'label': ['A', 'B', 'C', 'D', 'E'], 'text': ['panasbumi', 'cai taneuh', 'minyak jeung gas', 'tatanén', 'artesian']}, 'answerKey': 'C'}\n"
     ]
    }
   ],
   "source": [
    "print(v3_data[\"test\"][5])\n",
    "print(results[\"test\"][5])"
   ]
  },
  {
   "cell_type": "code",
   "execution_count": 42,
   "metadata": {},
   "outputs": [
    {
     "name": "stdout",
     "output_type": "stream",
     "text": [
      "CSV file \"./translated_data/su/validation.csv\" has been created with the data.\n",
      "CSV file \"./translated_data/su/test.csv\" has been created with the data.\n",
      "CSV file \"./translated_data/su/train.csv\" has been created with the data.\n"
     ]
    }
   ],
   "source": [
    "for s in split:\n",
    "    save_data(results[s], f\"./translated_data/su/{s}.csv\")"
   ]
  },
  {
   "cell_type": "code",
   "execution_count": null,
   "metadata": {},
   "outputs": [],
   "source": []
  }
 ],
 "metadata": {
  "kernelspec": {
   "display_name": "idlocal",
   "language": "python",
   "name": "python3"
  },
  "language_info": {
   "codemirror_mode": {
    "name": "ipython",
    "version": 3
   },
   "file_extension": ".py",
   "mimetype": "text/x-python",
   "name": "python",
   "nbconvert_exporter": "python",
   "pygments_lexer": "ipython3",
   "version": "3.9.9"
  },
  "orig_nbformat": 4
 },
 "nbformat": 4,
 "nbformat_minor": 2
}
