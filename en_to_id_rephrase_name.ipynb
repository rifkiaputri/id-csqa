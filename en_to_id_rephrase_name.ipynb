{
 "cells": [
  {
   "cell_type": "markdown",
   "metadata": {},
   "source": [
    "### Import Libraries"
   ]
  },
  {
   "cell_type": "code",
   "execution_count": 9,
   "metadata": {},
   "outputs": [],
   "source": [
    "import os\n",
    "import ast\n",
    "import csv\n",
    "import time\n",
    "import openai\n",
    "import pandas as pd\n",
    "\n",
    "from dotenv import load_dotenv\n",
    "from tqdm import tqdm"
   ]
  },
  {
   "cell_type": "markdown",
   "metadata": {},
   "source": [
    "### Load Environment Variables"
   ]
  },
  {
   "cell_type": "code",
   "execution_count": 10,
   "metadata": {},
   "outputs": [],
   "source": [
    "load_dotenv()\n",
    "\n",
    "api_key = os.environ.get(\"API_KEY\")\n",
    "org_key = os.environ.get(\"ORG_KEY\")"
   ]
  },
  {
   "cell_type": "markdown",
   "metadata": {},
   "source": [
    "### Load CSV Rephrase Data"
   ]
  },
  {
   "cell_type": "code",
   "execution_count": 11,
   "metadata": {},
   "outputs": [],
   "source": [
    "# Specify the path to your CSV file\n",
    "split = [\"validation\", \"test\", \"train\"]\n",
    "\n",
    "all_data = {}\n",
    "\n",
    "for s in split:\n",
    "    csv_file_path = f'./91123/{s}_rephrased_clean_91123.csv'\n",
    "\n",
    "    # Initialize an empty list to store the data\n",
    "    data_list = []\n",
    "\n",
    "    # Open the CSV file for reading\n",
    "    with open(csv_file_path, newline='') as csvfile:\n",
    "        # Create a CSV reader object\n",
    "        csv_reader = csv.DictReader(csvfile)\n",
    "        \n",
    "        # Iterate through each row in the CSV file\n",
    "        for row in csv_reader:\n",
    "            # Append the row (as a dictionary) to the data_list\n",
    "            row[\"choices\"] = ast.literal_eval(row[\"choices\"])\n",
    "\n",
    "            rephrase_params = [\"concept\", \"name\", \"option\"]\n",
    "            for param in rephrase_params:\n",
    "                if row[param] == \"True\":\n",
    "                    row[param] = True\n",
    "                elif row[param] == \"False\":\n",
    "                    row[param] = False\n",
    "                else:\n",
    "                    raise TypeError(f\"{param} data cannot be recognized\")\n",
    "\n",
    "            data_list.append(row)\n",
    "    \n",
    "    all_data[s] = data_list"
   ]
  },
  {
   "cell_type": "markdown",
   "metadata": {},
   "source": [
    "### Generate Prompt"
   ]
  },
  {
   "cell_type": "code",
   "execution_count": 12,
   "metadata": {},
   "outputs": [],
   "source": [
    "# Function to generate choice text\n",
    "def generate_choices_text(choices):\n",
    "    labels = choices[\"label\"]\n",
    "    texts = choices[\"text\"]\n",
    "\n",
    "    choice_text = \"\"\n",
    "    for idx, label in enumerate(labels):\n",
    "        choice_text += f'{label}. \"{texts[idx]}\"\\n'\n",
    "    \n",
    "    return choice_text\n",
    "\n",
    "# Function to generate answer text\n",
    "def generate_answer_text(choices, answerKey):\n",
    "    idx = choices[\"label\"].index(answerKey)\n",
    "    answer_text = f'{answerKey}. \"{choices[\"text\"][idx]}\"'\n",
    "    \n",
    "    return answer_text\n",
    "\n",
    "# Function to generate prompts based on the conditions\n",
    "def generate_rephrase_name_prompt(row):\n",
    "    return f\"\"\"Change all names in the given question to Indonesian names. Change only the names, keep all other phrases in the question the same and keep it all in english.\n",
    "\n",
    "Question: {row['question']}\n",
    "Changed Question:\"\"\""
   ]
  },
  {
   "cell_type": "markdown",
   "metadata": {},
   "source": [
    "### Rephrase Function"
   ]
  },
  {
   "cell_type": "code",
   "execution_count": 13,
   "metadata": {},
   "outputs": [],
   "source": [
    "def get_openai_chat_completion(input_prompt, model_name):\n",
    "    completion = openai.ChatCompletion.create(\n",
    "        model=model_name,\n",
    "        messages=[\n",
    "            {\n",
    "                'role': 'user',\n",
    "                'content': input_prompt \n",
    "            }\n",
    "        ],\n",
    "        temperature=0.3,\n",
    "        request_timeout=60,\n",
    "    )\n",
    "    return completion\n",
    "\n",
    "# Define a function to rephrase the CSV data using OpenAI GPT-3.5-Turbo\n",
    "def rephrase_csv_data(row, model_name, history):\n",
    "    input_prompt = generate_rephrase_name_prompt(row)\n",
    "\n",
    "    if input_prompt in history.keys():\n",
    "        return input_prompt, history[input_prompt][\"response\"]\n",
    "\n",
    "    try:\n",
    "        completion = get_openai_chat_completion(input_prompt, model_name)\n",
    "    except Exception:\n",
    "        print('Caught exception, wait for 1 min...')\n",
    "        time.sleep(60)\n",
    "        completion = get_openai_chat_completion(input_prompt, model_name)\n",
    "    \n",
    "    response = completion.choices[0].message.content.strip()\n",
    "            \n",
    "    return input_prompt, response\n",
    "\n",
    "def postprocess_result(response):\n",
    "    if \"Question: \" in response:\n",
    "        rephrased_result = response.split(\"Question: \")[-1]\n",
    "    else:\n",
    "        rephrased_result = response\n",
    "    \n",
    "    return rephrased_result"
   ]
  },
  {
   "cell_type": "markdown",
   "metadata": {},
   "source": [
    "### Run Rephrase"
   ]
  },
  {
   "cell_type": "code",
   "execution_count": 14,
   "metadata": {},
   "outputs": [],
   "source": [
    "openai.api_key = api_key\n",
    "openai.organization = org_key\n",
    "\n",
    "model_name = \"gpt-3.5-turbo\""
   ]
  },
  {
   "cell_type": "code",
   "execution_count": 15,
   "metadata": {},
   "outputs": [
    {
     "name": "stdout",
     "output_type": "stream",
     "text": [
      "Process data on split: validation\n",
      "Initialize response history\n"
     ]
    },
    {
     "name": "stderr",
     "output_type": "stream",
     "text": [
      "100%|██████████| 274/274 [03:08<00:00,  1.45it/s]\n"
     ]
    },
    {
     "name": "stdout",
     "output_type": "stream",
     "text": [
      "CSV file \"./91123/validation_rephrased_clean_name_2_91123.csv\" has been created with the data.\n",
      "Process data on split: test\n",
      "Initialize response history\n"
     ]
    },
    {
     "name": "stderr",
     "output_type": "stream",
     "text": [
      "100%|██████████| 236/236 [02:38<00:00,  1.49it/s]\n"
     ]
    },
    {
     "name": "stdout",
     "output_type": "stream",
     "text": [
      "CSV file \"./91123/test_rephrased_clean_name_2_91123.csv\" has been created with the data.\n",
      "Process data on split: train\n",
      "Initialize response history\n"
     ]
    },
    {
     "name": "stderr",
     "output_type": "stream",
     "text": [
      "  3%|▎         | 57/2162 [00:44<19:28,  1.80it/s]"
     ]
    },
    {
     "name": "stdout",
     "output_type": "stream",
     "text": [
      "Caught exception, wait for 1 min...\n"
     ]
    },
    {
     "name": "stderr",
     "output_type": "stream",
     "text": [
      " 35%|███▍      | 754/2162 [10:03<13:19,  1.76it/s] "
     ]
    },
    {
     "name": "stdout",
     "output_type": "stream",
     "text": [
      "Caught exception, wait for 1 min...\n"
     ]
    },
    {
     "name": "stderr",
     "output_type": "stream",
     "text": [
      " 58%|█████▊    | 1261/2162 [17:47<14:59,  1.00it/s] "
     ]
    },
    {
     "name": "stdout",
     "output_type": "stream",
     "text": [
      "Caught exception, wait for 1 min...\n"
     ]
    },
    {
     "name": "stderr",
     "output_type": "stream",
     "text": [
      "100%|██████████| 2162/2162 [30:03<00:00,  1.20it/s]  "
     ]
    },
    {
     "name": "stdout",
     "output_type": "stream",
     "text": [
      "CSV file \"./91123/train_rephrased_clean_name_2_91123.csv\" has been created with the data.\n"
     ]
    },
    {
     "name": "stderr",
     "output_type": "stream",
     "text": [
      "\n"
     ]
    }
   ],
   "source": [
    "for s in split:\n",
    "    print(f\"Process data on split: {s}\")\n",
    "    \n",
    "    history_path = f\"./91123/{s}_name_2_history_91123.csv\"\n",
    "    if os.path.exists(history_path):\n",
    "        print(f\"Load response history from file {history_path}\")\n",
    "        resp_history_df = pd.read_csv(history_path, converters={'response': lambda x: ast.literal_eval(x)})\n",
    "        response_history = dict(zip(resp_history_df.prompt, resp_history_df.response))\n",
    "    else:\n",
    "        print(f\"Initialize response history\")\n",
    "        response_history = {}\n",
    "\n",
    "    rephrased_results = []\n",
    "    for data in tqdm(all_data[s]):\n",
    "        rephrased_data = data.copy()\n",
    "\n",
    "        if data[\"name\"]:\n",
    "            prompt, response = rephrase_csv_data(data, model_name, response_history)\n",
    "            response_history[prompt] = {\"response\": response}\n",
    "        \n",
    "            resp_history_df = pd.DataFrame({'prompt': response_history.keys(), 'response': response_history.values()})\n",
    "            resp_history_df.to_csv(history_path, index=False)\n",
    "\n",
    "            result = postprocess_result(response)\n",
    "            if isinstance(result, str):\n",
    "                rephrased_data[\"question\"] = result\n",
    "\n",
    "        rephrased_results.append(rephrased_data)\n",
    "\n",
    "    # Specify the path to the CSV file\n",
    "    rephrased_file_path = f'./91123/{s}_rephrased_clean_name_2_91123.csv'\n",
    "\n",
    "    # Get the keys from the first dictionary\n",
    "    header = rephrased_results[0].keys()\n",
    "\n",
    "    # Write the data to the CSV file\n",
    "    with open(rephrased_file_path, 'w', newline='') as csvfile:\n",
    "        writer = csv.DictWriter(csvfile, fieldnames=header)\n",
    "        \n",
    "        # Write the header\n",
    "        writer.writeheader()\n",
    "        \n",
    "        # Write the data\n",
    "        for row in rephrased_results:\n",
    "            writer.writerow(row)\n",
    "\n",
    "    print(f'CSV file \"{rephrased_file_path}\" has been created with the data.')\n"
   ]
  },
  {
   "cell_type": "code",
   "execution_count": null,
   "metadata": {},
   "outputs": [],
   "source": []
  }
 ],
 "metadata": {
  "kernelspec": {
   "display_name": "Python 3",
   "language": "python",
   "name": "python3"
  },
  "language_info": {
   "codemirror_mode": {
    "name": "ipython",
    "version": 3
   },
   "file_extension": ".py",
   "mimetype": "text/x-python",
   "name": "python",
   "nbconvert_exporter": "python",
   "pygments_lexer": "ipython3",
   "version": "3.9.9"
  },
  "orig_nbformat": 4
 },
 "nbformat": 4,
 "nbformat_minor": 2
}
