{
 "cells": [
  {
   "cell_type": "markdown",
   "metadata": {},
   "source": [
    "### Import Libraries"
   ]
  },
  {
   "cell_type": "code",
   "execution_count": 5,
   "metadata": {},
   "outputs": [],
   "source": [
    "import os\n",
    "import csv\n",
    "import json\n",
    "import openai\n",
    "\n",
    "from dotenv import load_dotenv"
   ]
  },
  {
   "cell_type": "markdown",
   "metadata": {},
   "source": [
    "### Load Environment Variables"
   ]
  },
  {
   "cell_type": "code",
   "execution_count": 7,
   "metadata": {},
   "outputs": [],
   "source": [
    "load_dotenv()\n",
    "\n",
    "api_key = os.environ.get(\"API_KEY\")\n",
    "org_key = os.environ.get(\"ORG_KEY\")"
   ]
  },
  {
   "cell_type": "markdown",
   "metadata": {},
   "source": [
    "### Load CSV Rephrase Data"
   ]
  },
  {
   "cell_type": "code",
   "execution_count": null,
   "metadata": {},
   "outputs": [],
   "source": [
    "import csv\n",
    "\n",
    "# Specify the path to your CSV file\n",
    "csv_file_path = 'your_file.csv'\n",
    "\n",
    "# Initialize an empty list to store the data\n",
    "data_list = []\n",
    "\n",
    "# Open the CSV file for reading\n",
    "with open(csv_file_path, newline='') as csvfile:\n",
    "    # Create a CSV reader object\n",
    "    csv_reader = csv.DictReader(csvfile)\n",
    "    \n",
    "    # Iterate through each row in the CSV file\n",
    "    for row in csv_reader:\n",
    "        # Append the row (as a dictionary) to the data_list\n",
    "        data_list.append(row)\n",
    "\n",
    "# Now, data_list contains a list of dictionaries where each dictionary represents a row of data\n",
    "# The keys in each dictionary are taken from the CSV header\n",
    "\n",
    "# You can access the data like this:\n",
    "for item in data_list:\n",
    "    print(item['attribute1'])  # Replace 'attribute1' with the actual attribute name\n",
    "    print(item['attribute2'])  # Replace 'attribute2' with the actual attribute name\n",
    "    # ...\n",
    "\n",
    "# You can access the data in any way you like using the keys from the header\n"
   ]
  },
  {
   "cell_type": "code",
   "execution_count": null,
   "metadata": {},
   "outputs": [],
   "source": [
    "# Define your OpenAI API key\n",
    "api_key = 'YOUR_API_KEY_HERE'\n",
    "\n",
    "# Define a function to generate prompts based on the conditions\n",
    "def generate_prompt(row):\n",
    "    if row['name'] == 'True' and row['concept'] == 'False' and row['option'] == 'False':\n",
    "        return f\"Change all names in the given phrases to Indonesian names. Change only the name and keep the remaining phrases in English. Reply with only your answer, do not repeat the given phrase.\\n\\nPhrase: {row['question']}\\nAnswer:\"\n",
    "    else:\n",
    "        return f\"Given a commonsense question, a concept, options, and the question answer, change them to become relevant to Indonesia. If an aspect is flagged to be changed, then you need to change it completely. If it's flagged as keep, then keep as it is. Make sure your changes are still in the same domain/topic with the given data, and there is only one clear answer in the options. Reply with only your changed data in a JSON format.\\n\\nData:\\n###\\nQuestion: {row['question']} -> Change\\nConcept: {row['question_concept']} -> {'Keep' if row['concept'] == 'True' else 'Change'}\\nOptions: -> {'Keep' if row['option'] == 'True' else 'Change'}\\n{row['choices']}Question Answer: {row['answerKey']} + {row['choices']}###\\n\\nChanged data:\"\n",
    "\n",
    "# Define a function to rephrase the CSV data using OpenAI GPT-3.5-Turbo\n",
    "def rephrase_csv_data(input_csv, api_key):\n",
    "    openai.api_key = api_key\n",
    "\n",
    "    with open(input_csv, 'r') as file:\n",
    "        lines = file.readlines()\n",
    "\n",
    "    # Remove the header line\n",
    "    header = lines[0]\n",
    "    lines = lines[1:]\n",
    "\n",
    "    rephrased_data = []\n",
    "\n",
    "    for line in lines:\n",
    "        parts = line.strip().split(',')\n",
    "        if len(parts) == 7:\n",
    "            row = {\n",
    "                'question': parts[0],\n",
    "                'question_concept': parts[1],\n",
    "                'choices': parts[2],\n",
    "                'answerKey': parts[3],\n",
    "                'concept': parts[4],\n",
    "                'name': parts[5],\n",
    "                'option': parts[6]\n",
    "            }\n",
    "\n",
    "            prompt = generate_prompt(row)\n",
    "\n",
    "            response = openai.Completion.create(\n",
    "                engine=\"text-davinci-002\",  # You can also use \"davinci\" instead of \"text-davinci-002\"\n",
    "                prompt=prompt,\n",
    "                max_tokens=100  # Adjust as needed\n",
    "            )\n",
    "\n",
    "            rephrased_data.append({\n",
    "                'original_data': row,\n",
    "                'rephrased_response': response.choices[0].text.strip()\n",
    "            })\n",
    "\n",
    "    return rephrased_data\n",
    "\n",
    "# Specify the path to your input CSV file\n",
    "input_csv_file = 'input.csv'\n",
    "\n",
    "# Call the function to rephrase the CSV data\n",
    "rephrased_data = rephrase_csv_data(input_csv_file, api_key)\n",
    "\n",
    "# Print or save the rephrased data as needed\n",
    "for item in rephrased_data:\n",
    "    print(f'Original Data: {item[\"original_data\"]}')\n",
    "    print(f'Rephrased Response: {item[\"rephrased_response\"]}')\n",
    "    print('\\n')\n",
    "\n",
    "# Optionally, you can save the rephrased data to a JSON file\n",
    "with open('rephrased_data.json', 'w') as json_file:\n",
    "    json.dump(rephrased_data, json_file, indent=4)\n"
   ]
  }
 ],
 "metadata": {
  "kernelspec": {
   "display_name": "Python 3",
   "language": "python",
   "name": "python3"
  },
  "language_info": {
   "codemirror_mode": {
    "name": "ipython",
    "version": 3
   },
   "file_extension": ".py",
   "mimetype": "text/x-python",
   "name": "python",
   "nbconvert_exporter": "python",
   "pygments_lexer": "ipython3",
   "version": "3.9.9"
  },
  "orig_nbformat": 4
 },
 "nbformat": 4,
 "nbformat_minor": 2
}
