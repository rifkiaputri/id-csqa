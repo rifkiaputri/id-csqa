{
 "cells": [
  {
   "cell_type": "code",
   "execution_count": 1,
   "metadata": {},
   "outputs": [],
   "source": [
    "import pygsheets\n",
    "from tqdm import tqdm"
   ]
  },
  {
   "cell_type": "code",
   "execution_count": 2,
   "metadata": {},
   "outputs": [],
   "source": [
    "client = pygsheets.authorize()"
   ]
  },
  {
   "cell_type": "markdown",
   "metadata": {},
   "source": [
    "### Indonesian Data"
   ]
  },
  {
   "cell_type": "code",
   "execution_count": 26,
   "metadata": {},
   "outputs": [],
   "source": [
    "id_to_key_ref_ind = {\n",
    "    'W1': ''\n",
    "}\n",
    "id_to_key_pred_ind = {\n",
    "}"
   ]
  },
  {
   "cell_type": "code",
   "execution_count": 27,
   "metadata": {},
   "outputs": [
    {
     "name": "stderr",
     "output_type": "stream",
     "text": [
      "1250it [00:00, 309698.15it/s]\n"
     ]
    }
   ],
   "source": [
    "# Open worksheet\n",
    "sh_ref = client.open_by_key(id_to_key_ref_ind['W1'])\n",
    "wks_ref = sh_ref[1]\n",
    "sh_pred = client.open_by_key(id_to_key_pred_ind['W6'])\n",
    "wks_pred = sh_pred[0]\n",
    "\n",
    "# Get answers\n",
    "ref_ans = wks_ref.get_col(6)[1:]\n",
    "pred_ans = wks_pred.get_col(6)[1:]\n",
    "\n",
    "# Check answer consistency\n",
    "is_consistent = []\n",
    "const_temp = []\n",
    "rows_idx = []\n",
    "idx = 1\n",
    "for pred, ref in tqdm(zip(pred_ans, ref_ans)):\n",
    "    idx += 1\n",
    "    consistency = 'TRUE' if pred == ref else 'FALSE'\n",
    "    const_temp.append(consistency)\n",
    "\n",
    "    if len(const_temp) == 5:\n",
    "        if 'FALSE' in const_temp:\n",
    "            const_temp[0] = 'FALSE'\n",
    "        for const in const_temp:\n",
    "            is_consistent.append(const)\n",
    "        const_temp = []\n",
    "        rows_idx.append(('H' + str(idx-4), 'H' + str(idx)))\n",
    "\n",
    "# Add new colomn & update its values\n",
    "wks_pred.insert_cols(6, 2)\n",
    "wks_pred.adjust_column_width(7, 8, pixel_size=100)\n",
    "wks_pred.set_data_validation('G2', 'G1251', condition_type='BOOLEAN')\n",
    "wks_pred.set_data_validation('H2', 'H1251')\n",
    "wks_pred.update_col(7, ['Gold Answer'] + ref_ans)\n",
    "wks_pred.update_col(8, ['Is Consistent'] + is_consistent)"
   ]
  },
  {
   "cell_type": "code",
   "execution_count": 24,
   "metadata": {},
   "outputs": [
    {
     "name": "stderr",
     "output_type": "stream",
     "text": [
      "  0%|          | 0/157 [00:00<?, ?it/s]"
     ]
    },
    {
     "name": "stderr",
     "output_type": "stream",
     "text": [
      "100%|██████████| 157/157 [04:02<00:00,  1.55s/it]\n"
     ]
    }
   ],
   "source": [
    "for idx_start, idx_end in tqdm(rows_idx[93:]):\n",
    "    rng = wks_pred.get_values(idx_start, idx_end, returnas='range')\n",
    "    rng.merge_cells()"
   ]
  },
  {
   "cell_type": "code",
   "execution_count": 25,
   "metadata": {},
   "outputs": [],
   "source": [
    "wks_pred.add_conditional_formatting(start='H2', \n",
    "                                     end='H1251', \n",
    "                                     condition_type='TEXT_CONTAINS', \n",
    "                                     format={'backgroundColor': {'red': 0.957, 'green': 0.8, 'blue': 0.8, 'alpha': 1}}, \n",
    "                                     condition_values=['FALSE'])"
   ]
  },
  {
   "cell_type": "markdown",
   "metadata": {},
   "source": [
    "### Sundanese Data"
   ]
  },
  {
   "cell_type": "code",
   "execution_count": 62,
   "metadata": {},
   "outputs": [],
   "source": [
    "id_to_key_ref_sun = {\n",
    "    'W1': '',\n",
    "    'W2': ''\n",
    "}\n",
    "id_to_key_pred_sun = {\n",
    "    'W1': '',\n",
    "    'W2': '',\n",
    "    'W3': '',\n",
    "    'W4': '',\n",
    "    'W5': '',\n",
    "    'W6': '',\n",
    "}"
   ]
  },
  {
   "cell_type": "code",
   "execution_count": 63,
   "metadata": {},
   "outputs": [
    {
     "name": "stderr",
     "output_type": "stream",
     "text": [
      "1250it [00:00, 305867.80it/s]\n"
     ]
    }
   ],
   "source": [
    "# Open worksheet\n",
    "sh_ref = client.open_by_key(id_to_key_ref_sun['W1'])\n",
    "wks_ref = sh_ref[1]\n",
    "sh_pred = client.open_by_key(id_to_key_pred_sun['W6'])\n",
    "wks_pred = sh_pred[0]\n",
    "\n",
    "# Get answers\n",
    "ref_ans = wks_ref.get_col(7)[1:]\n",
    "pred_ans = wks_pred.get_col(7)[1:]\n",
    "\n",
    "# Check answer consistency\n",
    "is_consistent = []\n",
    "const_temp = []\n",
    "rows_idx = []\n",
    "idx = 1\n",
    "for pred, ref in tqdm(zip(pred_ans, ref_ans)):\n",
    "    idx += 1\n",
    "    consistency = 'TRUE' if pred == ref else 'FALSE'\n",
    "    const_temp.append(consistency)\n",
    "\n",
    "    if len(const_temp) == 5:\n",
    "        if 'FALSE' in const_temp:\n",
    "            const_temp[0] = 'FALSE'\n",
    "        for const in const_temp:\n",
    "            is_consistent.append(const)\n",
    "        const_temp = []\n",
    "        rows_idx.append(('I' + str(idx-4), 'I' + str(idx)))\n",
    "\n",
    "# Add new colomn & update its values\n",
    "wks_pred.insert_cols(7, 2)\n",
    "wks_pred.adjust_column_width(8, 9, pixel_size=100)\n",
    "wks_pred.set_data_validation('H2', 'H1251', condition_type='BOOLEAN')\n",
    "wks_pred.set_data_validation('I2', 'I1251')\n",
    "wks_pred.update_col(8, ['Gold Answer'] + ref_ans)\n",
    "wks_pred.update_col(9, ['Is Consistent'] + is_consistent)"
   ]
  },
  {
   "cell_type": "code",
   "execution_count": 64,
   "metadata": {},
   "outputs": [
    {
     "name": "stderr",
     "output_type": "stream",
     "text": [
      "100%|██████████| 250/250 [04:11<00:00,  1.01s/it]\n"
     ]
    }
   ],
   "source": [
    "for idx_start, idx_end in tqdm(rows_idx):\n",
    "    rng = wks_pred.get_values(idx_start, idx_end, returnas='range')\n",
    "    rng.merge_cells()"
   ]
  },
  {
   "cell_type": "code",
   "execution_count": 65,
   "metadata": {},
   "outputs": [],
   "source": [
    "wks_pred.add_conditional_formatting(start='I2', \n",
    "                                     end='I1251', \n",
    "                                     condition_type='TEXT_CONTAINS', \n",
    "                                     format={'backgroundColor': {'red': 0.957, 'green': 0.8, 'blue': 0.8, 'alpha': 1}}, \n",
    "                                     condition_values=['FALSE'])"
   ]
  },
  {
   "cell_type": "code",
   "execution_count": null,
   "metadata": {},
   "outputs": [],
   "source": []
  }
 ],
 "metadata": {
  "kernelspec": {
   "display_name": "csqa",
   "language": "python",
   "name": "python3"
  },
  "language_info": {
   "codemirror_mode": {
    "name": "ipython",
    "version": 3
   },
   "file_extension": ".py",
   "mimetype": "text/x-python",
   "name": "python",
   "nbconvert_exporter": "python",
   "pygments_lexer": "ipython3",
   "version": "3.8.16"
  }
 },
 "nbformat": 4,
 "nbformat_minor": 2
}
