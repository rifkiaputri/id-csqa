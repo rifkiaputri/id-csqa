{
 "cells": [
  {
   "cell_type": "code",
   "execution_count": 1,
   "metadata": {},
   "outputs": [],
   "source": [
    "import pygsheets\n",
    "from tqdm import tqdm"
   ]
  },
  {
   "cell_type": "code",
   "execution_count": 2,
   "metadata": {},
   "outputs": [],
   "source": [
    "client = pygsheets.authorize()"
   ]
  },
  {
   "cell_type": "markdown",
   "metadata": {},
   "source": [
    "### Indonesian Data"
   ]
  },
  {
   "cell_type": "code",
   "execution_count": 44,
   "metadata": {},
   "outputs": [],
   "source": [
    "id_to_key_ref_ind = {\n",
    "    'W1': '14dAiIsBLxBUHzXgFDznMjSXCJmFY6qnIWOADqITWx9E',\n",
    "    'W2': '1jHWRjwkahxpA5T_BWBRaMQ4q9kyg1l0gGz42pC6-dxI',\n",
    "    'W3': '1C-Yyc17WFWScC5eu5WttQc8P8vCFuLvh8MqlBKiwF8c',\n",
    "    'W4': '1J0xqeC05H1RVPSERi8fCXWUTGJ4iH3SI0w59BoFh_KU',\n",
    "    'W5': '1T9jbfP1iapNLS94QZMiYw5K6LrZoP01Qf1jvTWpvdkU',\n",
    "    'W6': '1G0chmXUmWC-lrZLg9ToQTGCdQmnbP0DA204bIKJn9yc',\n",
    "}\n",
    "id_to_key_pred_ind = {\n",
    "    'W1': '1LIVvmdGV6LHEZDxJjYVre9EkMwJ48tp6mpBPaz7LWoE',\n",
    "    'W2': '1noJV_ViNfUGabWyWwGChEsVhfPc4ctxh2oVY9kcUaO4',\n",
    "    'W3': '1M9QwUbbiHkZl_13Y-CNrfzNYN9No5hp_u6KWYhZdi1k',\n",
    "    'W4': '1gz9l9wsY84cgtKJcYRCCuto7piBpv0DWY2jUDxsndI0',\n",
    "    'W5': '1iPZV_yL3qwKmSi4mtDwhZNZlB90a63SoFRs2bChVeYc',\n",
    "    'W6': '1YrprgKaeWU0L4jq78ioL40TyxEC0_nwGroEJVLqhjcg',\n",
    "}\n",
    "id_to_key_pred_orig_ind = {\n",
    "    'W1': '1Wa33qUjeB0pq1QI87jUqHTXlQ88ADCxAFp77vFAhSVU',\n",
    "    'W2': '1FbYeTu3ZK4vBLoPVpJqCFB8Rj6yzazYRpxRtmPXXf-k',\n",
    "    'W3': '1UysOeI1QnU8sNXqwQ7FGnULvKCjt8Tm6eoFEdYeQ0xY',\n",
    "    'W4': '1lKIAWvs9D8JoyNrZJzB6pU4KVtfWstH3tOEfM9dZMDc',\n",
    "    'W5': '1nQsQPAoxeRr9QzybjrkpTn5-IuBBCByMNN8txkUVV4w',\n",
    "    'W6': '1SCV9OBxvHwxQ31t6GFirO6et-raMbMpJdfLjn1_HsgU',\n",
    "}"
   ]
  },
  {
   "cell_type": "code",
   "execution_count": 45,
   "metadata": {},
   "outputs": [
    {
     "name": "stdout",
     "output_type": "stream",
     "text": [
      "Reading W1...\n"
     ]
    },
    {
     "name": "stderr",
     "output_type": "stream",
     "text": [
      "100%|██████████| 1250/1250 [00:00<00:00, 445671.54it/s]\n",
      "100%|██████████| 250/250 [00:00<00:00, 135878.71it/s]\n"
     ]
    },
    {
     "name": "stdout",
     "output_type": "stream",
     "text": [
      "Reading W2...\n"
     ]
    },
    {
     "name": "stderr",
     "output_type": "stream",
     "text": [
      "100%|██████████| 1250/1250 [00:00<00:00, 442997.89it/s]\n",
      "100%|██████████| 250/250 [00:00<00:00, 149689.65it/s]\n"
     ]
    },
    {
     "name": "stdout",
     "output_type": "stream",
     "text": [
      "Reading W3...\n"
     ]
    },
    {
     "name": "stderr",
     "output_type": "stream",
     "text": [
      "100%|██████████| 1250/1250 [00:00<00:00, 446164.58it/s]\n",
      "100%|██████████| 250/250 [00:00<00:00, 139940.74it/s]\n"
     ]
    },
    {
     "name": "stdout",
     "output_type": "stream",
     "text": [
      "Reading W4...\n"
     ]
    },
    {
     "name": "stderr",
     "output_type": "stream",
     "text": [
      "100%|██████████| 1250/1250 [00:00<00:00, 441134.20it/s]\n",
      "100%|██████████| 250/250 [00:00<00:00, 126593.75it/s]\n"
     ]
    },
    {
     "name": "stdout",
     "output_type": "stream",
     "text": [
      "Reading W5...\n"
     ]
    },
    {
     "name": "stderr",
     "output_type": "stream",
     "text": [
      "100%|██████████| 1250/1250 [00:00<00:00, 450032.62it/s]\n",
      "100%|██████████| 250/250 [00:00<00:00, 146224.52it/s]\n"
     ]
    }
   ],
   "source": [
    "orig_id = 'W6'\n",
    "pack_ids = ['W1', 'W2', 'W3', 'W4', 'W5']\n",
    "\n",
    "sh_orig = client.open_by_key(id_to_key_pred_orig_ind[orig_id])\n",
    "\n",
    "for pack_id in pack_ids:\n",
    "    print(f'Reading {pack_id}...')\n",
    "    wks_orig = sh_orig.worksheet('title', pack_id)\n",
    "    sh_pack = client.open_by_key(id_to_key_pred_ind[orig_id])\n",
    "    wks_pack = sh_pack.worksheet('title', pack_id)\n",
    "\n",
    "    # Get answers\n",
    "    conflict_stats = wks_pack.get_col(8)[1:]\n",
    "\n",
    "    # Check answer consistency\n",
    "    conflict_stats_formatted = []\n",
    "    const_temp = []\n",
    "    rows_idx = []\n",
    "    idx = 1\n",
    "    for stat in tqdm(conflict_stats):\n",
    "        idx += 1\n",
    "        conflict_stat = 'OK' if stat == 'TRUE' else 'CONFLICT'\n",
    "        const_temp.append(conflict_stat)\n",
    "        conflict_stats_formatted.append(conflict_stat)\n",
    "        if len(const_temp) == 5:\n",
    "            const_temp = []\n",
    "            rows_idx.append(('G' + str(idx-4), 'G' + str(idx)))\n",
    "\n",
    "    # Add new colomn & update its values\n",
    "    wks_orig.insert_cols(6, 1)\n",
    "    wks_orig.adjust_column_width(7, pixel_size=100)\n",
    "    wks_orig.set_data_validation('G2', 'G1251')\n",
    "    wks_orig.update_col(7, ['Answer Status'] + conflict_stats_formatted)\n",
    "\n",
    "    wks_orig.add_conditional_formatting(start='G2', \n",
    "                                     end='G1251', \n",
    "                                     condition_type='TEXT_CONTAINS', \n",
    "                                     format={'backgroundColor': {'red': 1, 'green': 0.894, 'blue': 0.769, 'alpha': 1}}, \n",
    "                                     condition_values=['CONFLICT'])\n",
    "\n",
    "    requests = []\n",
    "    for start, end in tqdm(rows_idx):\n",
    "        requests.append({\n",
    "            'mergeCells': {\n",
    "                'range': {\n",
    "                    'sheetId': wks_orig.id,\n",
    "                    'startRowIndex': int(start[1:]) - 1,\n",
    "                    'endRowIndex': int(end[1:]),\n",
    "                    'startColumnIndex': ord(start[0].upper()) - ord('A'),\n",
    "                    'endColumnIndex': ord(end[0].upper()) - ord('A') + 1\n",
    "                },\n",
    "                'mergeType': 'MERGE_ALL'\n",
    "            }\n",
    "        })\n",
    "\n",
    "    # Perform the batch update\n",
    "    wks_orig.client.sheet.batch_update(sh_orig.id, requests)"
   ]
  },
  {
   "cell_type": "code",
   "execution_count": null,
   "metadata": {},
   "outputs": [],
   "source": []
  },
  {
   "cell_type": "code",
   "execution_count": 62,
   "metadata": {},
   "outputs": [
    {
     "name": "stdout",
     "output_type": "stream",
     "text": [
      "Reading W4...\n"
     ]
    },
    {
     "name": "stderr",
     "output_type": "stream",
     "text": [
      "1250it [00:00, 627363.89it/s]\n",
      "100%|██████████| 250/250 [00:00<00:00, 116159.96it/s]\n"
     ]
    },
    {
     "name": "stdout",
     "output_type": "stream",
     "text": [
      "Reading W5...\n"
     ]
    },
    {
     "name": "stderr",
     "output_type": "stream",
     "text": [
      "1250it [00:00, 372363.64it/s]\n",
      "100%|██████████| 250/250 [00:00<00:00, 128156.44it/s]\n"
     ]
    },
    {
     "name": "stdout",
     "output_type": "stream",
     "text": [
      "Reading W6...\n"
     ]
    },
    {
     "name": "stderr",
     "output_type": "stream",
     "text": [
      "1250it [00:00, 367766.55it/s]\n",
      "100%|██████████| 250/250 [00:00<00:00, 115851.95it/s]\n"
     ]
    }
   ],
   "source": [
    "pred_id = 'W1'\n",
    "ref_ids = ['W4', 'W5', 'W6']\n",
    "\n",
    "sh_pred = client.open_by_key(id_to_key_pred_ind[pred_id])\n",
    "\n",
    "for ref_id in ref_ids:\n",
    "    print(f'Reading {ref_id}...')\n",
    "    wks_pred = sh_pred.worksheet('title', ref_id)\n",
    "    sh_ref = client.open_by_key(id_to_key_ref_ind[ref_id])\n",
    "    wks_ref = sh_ref.worksheet('title', 'Data')\n",
    "\n",
    "    # Get answers\n",
    "    ref_ans = wks_ref.get_col(6)[1:]\n",
    "    pred_ans = wks_pred.get_col(6)[1:]\n",
    "\n",
    "    # Check answer consistency\n",
    "    is_consistent = []\n",
    "    const_temp = []\n",
    "    rows_idx = []\n",
    "    idx = 1\n",
    "    for pred, ref in tqdm(zip(pred_ans, ref_ans)):\n",
    "        idx += 1\n",
    "        consistency = 'TRUE' if pred == ref else 'FALSE'\n",
    "        const_temp.append(consistency)\n",
    "\n",
    "        if len(const_temp) == 5:\n",
    "            if 'FALSE' in const_temp:\n",
    "                const_temp[0] = 'FALSE'\n",
    "            for const in const_temp:\n",
    "                is_consistent.append(const)\n",
    "            const_temp = []\n",
    "            rows_idx.append(('H' + str(idx-4), 'H' + str(idx)))\n",
    "\n",
    "    # Add new colomn & update its values\n",
    "    wks_pred.insert_cols(6, 2)\n",
    "    wks_pred.adjust_column_width(7, 8, pixel_size=100)\n",
    "    wks_pred.set_data_validation('G2', 'G1251', condition_type='BOOLEAN')\n",
    "    wks_pred.set_data_validation('H2', 'H1251')\n",
    "    wks_pred.update_col(7, ['Gold Answer'] + ref_ans)\n",
    "    wks_pred.update_col(8, ['Is Consistent'] + is_consistent)\n",
    "\n",
    "    wks_pred.add_conditional_formatting(start='H2', \n",
    "                                     end='H1251', \n",
    "                                     condition_type='TEXT_CONTAINS', \n",
    "                                     format={'backgroundColor': {'red': 0.957, 'green': 0.8, 'blue': 0.8, 'alpha': 1}}, \n",
    "                                     condition_values=['FALSE'])\n",
    "\n",
    "    requests = []\n",
    "    for start, end in tqdm(rows_idx):\n",
    "        requests.append({\n",
    "            'mergeCells': {\n",
    "                'range': {\n",
    "                    'sheetId': wks_pred.id,\n",
    "                    'startRowIndex': int(start[1:]) - 1,\n",
    "                    'endRowIndex': int(end[1:]),\n",
    "                    'startColumnIndex': ord(start[0].upper()) - ord('A'),\n",
    "                    'endColumnIndex': ord(end[0].upper()) - ord('A') + 1\n",
    "                },\n",
    "                'mergeType': 'MERGE_ALL'\n",
    "            }\n",
    "        })\n",
    "\n",
    "    # Perform the batch update\n",
    "    wks_pred.client.sheet.batch_update(sh_pred.id, requests)"
   ]
  },
  {
   "cell_type": "markdown",
   "metadata": {},
   "source": [
    "### Sundanese Data"
   ]
  },
  {
   "cell_type": "code",
   "execution_count": 64,
   "metadata": {},
   "outputs": [],
   "source": [
    "id_to_key_ref_sun = {\n",
    "    'W1': '1R-bT3RMu41cx-fnac3mNdb3OT_kb6vof1eMdCbU8_jM',\n",
    "    'W2': '1ugtKZhO4jLtxW_yEwrrPXZtry2pLaP-6QgiIHKldl5E',\n",
    "    'W3': '1OzP1XwzU3c-rNXyqxU3JKrrXHeXzSu3D6FIcfym4fHE',\n",
    "    'W4': '1dNwW9dL4YPBEypUHQ6_-Dse8XL851W0WUiCBb28hRBQ',\n",
    "    'W5': '16wXGP08nESdLg4am4wfngeMNbK81IJAo3p0udg_iVlU',\n",
    "    'W6': '1ZQEBOPGAlc6f2IUwavEKpPHY7dQxV4lN5iSQm1WHnX4',\n",
    "}\n",
    "id_to_key_pred_sun = {\n",
    "    'W1': '1MD7saLQYAXCLnpTA_WaV1oVv2vwbBn5hFfJ3z1s-Npg',\n",
    "    'W2': '1Tn6nttAU3wAiMaJaBb6-P39IJ2sElMNS09bXUo-vI-Q',\n",
    "    'W3': '1AQG9V74TxDkQAUt5aRs9mNa2fiyLMIML65X8nNQ-WuU',\n",
    "    'W4': '1vSIJikiPedE4GNUB-zno2SN-L7c_e0IJMcrP8nq2RFk',\n",
    "    'W5': '1b7G4c2PejzDpSqr4Nxo9sWYiAuE_egJS35Dt1HUkDvY',\n",
    "    'W6': '1nu3ksVRHl-bTO0LW6yXIHGNhs7iJJ5AsdmHcrb2KxL0',\n",
    "}\n",
    "id_to_key_pred_orig_sun = {\n",
    "    'W1': '1-FLTsgge53Wgb3HmIlM-oCOWow4_kLEJ0bey8MaMxVI',\n",
    "    'W2': '1-WLiRHFXlD5BawHdBkI2kLSlLttBXU4ufnTwLB8pufM',\n",
    "    'W3': '1EVv6ktg-6ZC5e9UBFvPIVrZI0T2WAbx3OHau_T-OgSE',\n",
    "    'W4': '1XyXhn_R3VuNcsmHCmCEwojFM1hUPGhQe6FDrfo3ALds',\n",
    "    'W5': '1YsreB2g0AeDbiFOIu2JOUmbAkwugBRaaf8SMUA2mrg0',\n",
    "    'W6': '1oU4K52UaKJT3EEvDdOs8o4tD97Wxl4SKSFQK193w2bQ',\n",
    "}"
   ]
  },
  {
   "cell_type": "code",
   "execution_count": 65,
   "metadata": {},
   "outputs": [
    {
     "name": "stdout",
     "output_type": "stream",
     "text": [
      "Reading W1...\n"
     ]
    },
    {
     "name": "stderr",
     "output_type": "stream",
     "text": [
      "100%|██████████| 1250/1250 [00:00<00:00, 440393.11it/s]\n",
      "100%|██████████| 250/250 [00:00<00:00, 146531.02it/s]\n"
     ]
    },
    {
     "name": "stdout",
     "output_type": "stream",
     "text": [
      "Reading W2...\n"
     ]
    },
    {
     "name": "stderr",
     "output_type": "stream",
     "text": [
      "100%|██████████| 1250/1250 [00:00<00:00, 963941.90it/s]\n",
      "100%|██████████| 250/250 [00:00<00:00, 244651.42it/s]\n"
     ]
    },
    {
     "name": "stdout",
     "output_type": "stream",
     "text": [
      "Reading W3...\n"
     ]
    },
    {
     "name": "stderr",
     "output_type": "stream",
     "text": [
      "100%|██████████| 1250/1250 [00:00<00:00, 443485.03it/s]\n",
      "100%|██████████| 250/250 [00:00<00:00, 129023.75it/s]\n"
     ]
    },
    {
     "name": "stdout",
     "output_type": "stream",
     "text": [
      "Reading W4...\n"
     ]
    },
    {
     "name": "stderr",
     "output_type": "stream",
     "text": [
      "100%|██████████| 1250/1250 [00:00<00:00, 445179.59it/s]\n",
      "100%|██████████| 250/250 [00:00<00:00, 128297.57it/s]\n"
     ]
    },
    {
     "name": "stdout",
     "output_type": "stream",
     "text": [
      "Reading W5...\n"
     ]
    },
    {
     "name": "stderr",
     "output_type": "stream",
     "text": [
      "100%|██████████| 1250/1250 [00:00<00:00, 442960.46it/s]\n",
      "100%|██████████| 250/250 [00:00<00:00, 130696.25it/s]\n"
     ]
    }
   ],
   "source": [
    "orig_id = 'W6'\n",
    "pack_ids = ['W1', 'W2', 'W3', 'W4', 'W5']\n",
    "\n",
    "sh_orig = client.open_by_key(id_to_key_pred_orig_sun[orig_id])\n",
    "\n",
    "for pack_id in pack_ids:\n",
    "    print(f'Reading {pack_id}...')\n",
    "    wks_orig = sh_orig.worksheet('title', pack_id)\n",
    "    sh_pack = client.open_by_key(id_to_key_pred_sun[orig_id])\n",
    "    wks_pack = sh_pack.worksheet('title', pack_id)\n",
    "\n",
    "    # Get answers\n",
    "    conflict_stats = wks_pack.get_col(9)[1:]\n",
    "\n",
    "    # Check answer consistency\n",
    "    conflict_stats_formatted = []\n",
    "    const_temp = []\n",
    "    rows_idx = []\n",
    "    idx = 1\n",
    "    for stat in tqdm(conflict_stats):\n",
    "        idx += 1\n",
    "        conflict_stat = 'CONFLICT' if stat == 'FALSE' else 'OK'\n",
    "        const_temp.append(conflict_stat)\n",
    "        conflict_stats_formatted.append(conflict_stat)\n",
    "        if len(const_temp) == 5:\n",
    "            const_temp = []\n",
    "            rows_idx.append(('H' + str(idx-4), 'H' + str(idx)))\n",
    "\n",
    "    # Add new colomn & update its values\n",
    "    wks_orig.insert_cols(7, 1)\n",
    "    wks_orig.adjust_column_width(8, pixel_size=100)\n",
    "    wks_orig.set_data_validation('H2', 'H1251')\n",
    "    wks_orig.update_col(8, ['Answer Status'] + conflict_stats_formatted)\n",
    "\n",
    "    wks_orig.add_conditional_formatting(start='H2', \n",
    "                                     end='H1251', \n",
    "                                     condition_type='TEXT_CONTAINS', \n",
    "                                     format={'backgroundColor': {'red': 1, 'green': 0.894, 'blue': 0.769, 'alpha': 1}}, \n",
    "                                     condition_values=['CONFLICT'])\n",
    "\n",
    "    requests = []\n",
    "    for start, end in tqdm(rows_idx):\n",
    "        requests.append({\n",
    "            'mergeCells': {\n",
    "                'range': {\n",
    "                    'sheetId': wks_orig.id,\n",
    "                    'startRowIndex': int(start[1:]) - 1,\n",
    "                    'endRowIndex': int(end[1:]),\n",
    "                    'startColumnIndex': ord(start[0].upper()) - ord('A'),\n",
    "                    'endColumnIndex': ord(end[0].upper()) - ord('A') + 1\n",
    "                },\n",
    "                'mergeType': 'MERGE_ALL'\n",
    "            }\n",
    "        })\n",
    "\n",
    "    # Perform the batch update\n",
    "    wks_orig.client.sheet.batch_update(sh_orig.id, requests)"
   ]
  },
  {
   "cell_type": "code",
   "execution_count": null,
   "metadata": {},
   "outputs": [],
   "source": []
  },
  {
   "cell_type": "code",
   "execution_count": 58,
   "metadata": {},
   "outputs": [
    {
     "name": "stdout",
     "output_type": "stream",
     "text": [
      "Reading W1...\n"
     ]
    },
    {
     "name": "stderr",
     "output_type": "stream",
     "text": [
      "1250it [00:00, 365739.80it/s]\n",
      "100%|██████████| 250/250 [00:00<00:00, 119291.92it/s]\n"
     ]
    },
    {
     "name": "stdout",
     "output_type": "stream",
     "text": [
      "Reading W2...\n"
     ]
    },
    {
     "name": "stderr",
     "output_type": "stream",
     "text": [
      "1250it [00:00, 329512.92it/s]\n",
      "100%|██████████| 250/250 [00:00<00:00, 121785.83it/s]\n"
     ]
    },
    {
     "name": "stdout",
     "output_type": "stream",
     "text": [
      "Reading W3...\n"
     ]
    },
    {
     "name": "stderr",
     "output_type": "stream",
     "text": [
      "1250it [00:00, 372310.75it/s]\n",
      "100%|██████████| 250/250 [00:00<00:00, 108357.55it/s]\n"
     ]
    },
    {
     "name": "stdout",
     "output_type": "stream",
     "text": [
      "Reading W4...\n"
     ]
    },
    {
     "name": "stderr",
     "output_type": "stream",
     "text": [
      "1250it [00:00, 354320.47it/s]\n",
      "100%|██████████| 250/250 [00:00<00:00, 115177.50it/s]\n"
     ]
    },
    {
     "name": "stdout",
     "output_type": "stream",
     "text": [
      "Reading W5...\n"
     ]
    },
    {
     "name": "stderr",
     "output_type": "stream",
     "text": [
      "1250it [00:00, 376292.26it/s]\n",
      "100%|██████████| 250/250 [00:00<00:00, 120387.60it/s]\n"
     ]
    }
   ],
   "source": [
    "pred_id = 'W6'\n",
    "ref_ids = ['W1', 'W2', 'W3', 'W4', 'W5']\n",
    "\n",
    "sh_pred = client.open_by_key(id_to_key_pred_sun[pred_id])\n",
    "\n",
    "for ref_id in ref_ids:\n",
    "    print(f'Reading {ref_id}...')\n",
    "    wks_pred = sh_pred.worksheet('title', ref_id)\n",
    "    sh_ref = client.open_by_key(id_to_key_ref_sun[ref_id])\n",
    "    wks_ref = sh_ref.worksheet('title', 'Data')\n",
    "\n",
    "    # Get answers\n",
    "    ref_ans = wks_ref.get_col(7)[1:]\n",
    "    pred_ans = wks_pred.get_col(7)[1:]\n",
    "\n",
    "    # Check answer consistency\n",
    "    is_consistent = []\n",
    "    const_temp = []\n",
    "    rows_idx = []\n",
    "    idx = 1\n",
    "    for pred, ref in tqdm(zip(pred_ans, ref_ans)):\n",
    "        idx += 1\n",
    "        consistency = 'TRUE' if pred == ref else 'FALSE'\n",
    "        const_temp.append(consistency)\n",
    "\n",
    "        if len(const_temp) == 5:\n",
    "            if 'FALSE' in const_temp:\n",
    "                const_temp[0] = 'FALSE'\n",
    "            for const in const_temp:\n",
    "                is_consistent.append(const)\n",
    "            const_temp = []\n",
    "            rows_idx.append(('I' + str(idx-4), 'I' + str(idx)))\n",
    "\n",
    "    # Add new colomn & update its values\n",
    "    wks_pred.insert_cols(7, 2)\n",
    "    wks_pred.adjust_column_width(8, 9, pixel_size=100)\n",
    "    wks_pred.set_data_validation('H2', 'H1251', condition_type='BOOLEAN')\n",
    "    wks_pred.set_data_validation('I2', 'I1251')\n",
    "    wks_pred.update_col(8, ['Gold Answer'] + ref_ans)\n",
    "    wks_pred.update_col(9, ['Is Consistent'] + is_consistent)\n",
    "\n",
    "    wks_pred.add_conditional_formatting(start='I2', \n",
    "                                        end='I1251', \n",
    "                                        condition_type='TEXT_CONTAINS', \n",
    "                                        format={'backgroundColor': {'red': 0.957, 'green': 0.8, 'blue': 0.8, 'alpha': 1}}, \n",
    "                                        condition_values=['FALSE'])\n",
    "\n",
    "    requests = []\n",
    "    for start, end in tqdm(rows_idx):\n",
    "        requests.append({\n",
    "            'mergeCells': {\n",
    "                'range': {\n",
    "                    'sheetId': wks_pred.id,\n",
    "                    'startRowIndex': int(start[1:]) - 1,\n",
    "                    'endRowIndex': int(end[1:]),\n",
    "                    'startColumnIndex': ord(start[0].upper()) - ord('A'),\n",
    "                    'endColumnIndex': ord(end[0].upper()) - ord('A') + 1\n",
    "                },\n",
    "                'mergeType': 'MERGE_ALL'\n",
    "            }\n",
    "        })\n",
    "\n",
    "    # Perform the batch update\n",
    "    wks_pred.client.sheet.batch_update(sh_pred.id, requests)"
   ]
  },
  {
   "cell_type": "code",
   "execution_count": null,
   "metadata": {},
   "outputs": [],
   "source": []
  }
 ],
 "metadata": {
  "kernelspec": {
   "display_name": "csqa",
   "language": "python",
   "name": "python3"
  },
  "language_info": {
   "codemirror_mode": {
    "name": "ipython",
    "version": 3
   },
   "file_extension": ".py",
   "mimetype": "text/x-python",
   "name": "python",
   "nbconvert_exporter": "python",
   "pygments_lexer": "ipython3",
   "version": "3.8.16"
  }
 },
 "nbformat": 4,
 "nbformat_minor": 2
}
