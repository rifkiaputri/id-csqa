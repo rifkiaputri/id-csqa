{
 "cells": [
  {
   "cell_type": "code",
   "execution_count": 20,
   "metadata": {},
   "outputs": [],
   "source": [
    "import pygsheets\n",
    "import pandas as pd\n",
    "from tqdm import tqdm"
   ]
  },
  {
   "cell_type": "code",
   "execution_count": 2,
   "metadata": {},
   "outputs": [],
   "source": [
    "client = pygsheets.authorize()"
   ]
  },
  {
   "cell_type": "code",
   "execution_count": 3,
   "metadata": {},
   "outputs": [],
   "source": [
    "workers_ids = ['W1', 'W2', 'W3', 'W4', 'W5', 'W6']\n",
    "id_to_key_task2_qa = {\n",
    "    'ind': {\n",
    "        'W1': '1LIVvmdGV6LHEZDxJjYVre9EkMwJ48tp6mpBPaz7LWoE',\n",
    "        'W2': '1noJV_ViNfUGabWyWwGChEsVhfPc4ctxh2oVY9kcUaO4',\n",
    "        'W3': '1M9QwUbbiHkZl_13Y-CNrfzNYN9No5hp_u6KWYhZdi1k',\n",
    "        'W4': '1gz9l9wsY84cgtKJcYRCCuto7piBpv0DWY2jUDxsndI0',\n",
    "        'W5': '1iPZV_yL3qwKmSi4mtDwhZNZlB90a63SoFRs2bChVeYc',\n",
    "        'W6': '1YrprgKaeWU0L4jq78ioL40TyxEC0_nwGroEJVLqhjcg',\n",
    "    },\n",
    "    'sun': {\n",
    "        'W1': '1MD7saLQYAXCLnpTA_WaV1oVv2vwbBn5hFfJ3z1s-Npg',\n",
    "        'W2': '1Tn6nttAU3wAiMaJaBb6-P39IJ2sElMNS09bXUo-vI-Q',\n",
    "        'W3': '1AQG9V74TxDkQAUt5aRs9mNa2fiyLMIML65X8nNQ-WuU',\n",
    "        'W4': '1vSIJikiPedE4GNUB-zno2SN-L7c_e0IJMcrP8nq2RFk',\n",
    "        'W5': '1b7G4c2PejzDpSqr4Nxo9sWYiAuE_egJS35Dt1HUkDvY',\n",
    "        'W6': '1nu3ksVRHl-bTO0LW6yXIHGNhs7iJJ5AsdmHcrb2KxL0',\n",
    "    }\n",
    "}\n",
    "id_to_key_task2 = {\n",
    "    'ind': {\n",
    "        'W1': '1Wa33qUjeB0pq1QI87jUqHTXlQ88ADCxAFp77vFAhSVU',\n",
    "        'W2': '1FbYeTu3ZK4vBLoPVpJqCFB8Rj6yzazYRpxRtmPXXf-k',\n",
    "        'W3': '1UysOeI1QnU8sNXqwQ7FGnULvKCjt8Tm6eoFEdYeQ0xY',\n",
    "        'W4': '1lKIAWvs9D8JoyNrZJzB6pU4KVtfWstH3tOEfM9dZMDc',\n",
    "        'W5': '1nQsQPAoxeRr9QzybjrkpTn5-IuBBCByMNN8txkUVV4w',\n",
    "        'W6': '1SCV9OBxvHwxQ31t6GFirO6et-raMbMpJdfLjn1_HsgU',\n",
    "    },\n",
    "    'sun': {\n",
    "        'W1': '1-FLTsgge53Wgb3HmIlM-oCOWow4_kLEJ0bey8MaMxVI',\n",
    "        'W2': '1-WLiRHFXlD5BawHdBkI2kLSlLttBXU4ufnTwLB8pufM',\n",
    "        'W3': '1EVv6ktg-6ZC5e9UBFvPIVrZI0T2WAbx3OHau_T-OgSE',\n",
    "        'W4': '1XyXhn_R3VuNcsmHCmCEwojFM1hUPGhQe6FDrfo3ALds',\n",
    "        'W5': '1YsreB2g0AeDbiFOIu2JOUmbAkwugBRaaf8SMUA2mrg0',\n",
    "        'W6': '1oU4K52UaKJT3EEvDdOs8o4tD97Wxl4SKSFQK193w2bQ',\n",
    "    }\n",
    "}"
   ]
  },
  {
   "cell_type": "code",
   "execution_count": 27,
   "metadata": {},
   "outputs": [],
   "source": [
    "lang = 'ind'"
   ]
  },
  {
   "cell_type": "code",
   "execution_count": 28,
   "metadata": {},
   "outputs": [
    {
     "name": "stderr",
     "output_type": "stream",
     "text": [
      "100%|██████████| 6/6 [00:36<00:00,  6.16s/it]\n"
     ]
    }
   ],
   "source": [
    "consistency_data = {}\n",
    "for pred_id in tqdm(workers_ids):\n",
    "    all_consts = []\n",
    "    for ref_id in workers_ids:\n",
    "        if pred_id == ref_id:\n",
    "            all_consts.append(0)\n",
    "        else:\n",
    "            sh_pred = client.open_by_key(id_to_key_task2_qa[lang][pred_id])\n",
    "            wks_pred = sh_pred.worksheet('title', ref_id)\n",
    "\n",
    "            # Get inconsistent answers\n",
    "            col_num  = 8 if lang == 'ind' else 9\n",
    "            is_consistent = [a for a in wks_pred.get_col(col_num)[1:] if a != '']\n",
    "            const, not_const = is_consistent.count('TRUE'), is_consistent.count('FALSE')\n",
    "            if const + not_const != 250:\n",
    "                print(pred_id, ref_id, const, not_const)\n",
    "            assert const + not_const == 250\n",
    "            all_consts.append(not_const)\n",
    "    consistency_data[pred_id] = all_consts"
   ]
  },
  {
   "cell_type": "code",
   "execution_count": 29,
   "metadata": {},
   "outputs": [
    {
     "data": {
      "text/plain": [
       "{'W1': [0, 20, 13, 11, 26, 29],\n",
       " 'W2': [13, 0, 13, 15, 15, 32],\n",
       " 'W3': [11, 23, 0, 16, 33, 36],\n",
       " 'W4': [11, 18, 15, 0, 31, 34],\n",
       " 'W5': [18, 26, 23, 19, 0, 29],\n",
       " 'W6': [18, 22, 23, 8, 26, 0]}"
      ]
     },
     "execution_count": 29,
     "metadata": {},
     "output_type": "execute_result"
    }
   ],
   "source": [
    "consistency_data"
   ]
  },
  {
   "cell_type": "code",
   "execution_count": 30,
   "metadata": {},
   "outputs": [],
   "source": [
    "consistency_df = pd.DataFrame.from_dict(consistency_data, orient='index', columns=workers_ids)"
   ]
  },
  {
   "cell_type": "code",
   "execution_count": 31,
   "metadata": {},
   "outputs": [
    {
     "data": {
      "text/html": [
       "<div>\n",
       "<style scoped>\n",
       "    .dataframe tbody tr th:only-of-type {\n",
       "        vertical-align: middle;\n",
       "    }\n",
       "\n",
       "    .dataframe tbody tr th {\n",
       "        vertical-align: top;\n",
       "    }\n",
       "\n",
       "    .dataframe thead th {\n",
       "        text-align: right;\n",
       "    }\n",
       "</style>\n",
       "<table border=\"1\" class=\"dataframe\">\n",
       "  <thead>\n",
       "    <tr style=\"text-align: right;\">\n",
       "      <th></th>\n",
       "      <th>W1</th>\n",
       "      <th>W2</th>\n",
       "      <th>W3</th>\n",
       "      <th>W4</th>\n",
       "      <th>W5</th>\n",
       "      <th>W6</th>\n",
       "    </tr>\n",
       "  </thead>\n",
       "  <tbody>\n",
       "    <tr>\n",
       "      <th>W1</th>\n",
       "      <td>0</td>\n",
       "      <td>20</td>\n",
       "      <td>13</td>\n",
       "      <td>11</td>\n",
       "      <td>26</td>\n",
       "      <td>29</td>\n",
       "    </tr>\n",
       "    <tr>\n",
       "      <th>W2</th>\n",
       "      <td>13</td>\n",
       "      <td>0</td>\n",
       "      <td>13</td>\n",
       "      <td>15</td>\n",
       "      <td>15</td>\n",
       "      <td>32</td>\n",
       "    </tr>\n",
       "    <tr>\n",
       "      <th>W3</th>\n",
       "      <td>11</td>\n",
       "      <td>23</td>\n",
       "      <td>0</td>\n",
       "      <td>16</td>\n",
       "      <td>33</td>\n",
       "      <td>36</td>\n",
       "    </tr>\n",
       "    <tr>\n",
       "      <th>W4</th>\n",
       "      <td>11</td>\n",
       "      <td>18</td>\n",
       "      <td>15</td>\n",
       "      <td>0</td>\n",
       "      <td>31</td>\n",
       "      <td>34</td>\n",
       "    </tr>\n",
       "    <tr>\n",
       "      <th>W5</th>\n",
       "      <td>18</td>\n",
       "      <td>26</td>\n",
       "      <td>23</td>\n",
       "      <td>19</td>\n",
       "      <td>0</td>\n",
       "      <td>29</td>\n",
       "    </tr>\n",
       "    <tr>\n",
       "      <th>W6</th>\n",
       "      <td>18</td>\n",
       "      <td>22</td>\n",
       "      <td>23</td>\n",
       "      <td>8</td>\n",
       "      <td>26</td>\n",
       "      <td>0</td>\n",
       "    </tr>\n",
       "  </tbody>\n",
       "</table>\n",
       "</div>"
      ],
      "text/plain": [
       "    W1  W2  W3  W4  W5  W6\n",
       "W1   0  20  13  11  26  29\n",
       "W2  13   0  13  15  15  32\n",
       "W3  11  23   0  16  33  36\n",
       "W4  11  18  15   0  31  34\n",
       "W5  18  26  23  19   0  29\n",
       "W6  18  22  23   8  26   0"
      ]
     },
     "execution_count": 31,
     "metadata": {},
     "output_type": "execute_result"
    }
   ],
   "source": [
    "consistency_df"
   ]
  },
  {
   "cell_type": "code",
   "execution_count": null,
   "metadata": {},
   "outputs": [],
   "source": []
  }
 ],
 "metadata": {
  "kernelspec": {
   "display_name": "csqa",
   "language": "python",
   "name": "python3"
  },
  "language_info": {
   "codemirror_mode": {
    "name": "ipython",
    "version": 3
   },
   "file_extension": ".py",
   "mimetype": "text/x-python",
   "name": "python",
   "nbconvert_exporter": "python",
   "pygments_lexer": "ipython3",
   "version": "3.8.16"
  }
 },
 "nbformat": 4,
 "nbformat_minor": 2
}
