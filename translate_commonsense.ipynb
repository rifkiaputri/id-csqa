{
 "cells": [
  {
   "cell_type": "code",
   "execution_count": 1,
   "metadata": {},
   "outputs": [],
   "source": [
    "import pandas as pd\n",
    "from datasets import load_dataset\n",
    "from google.cloud import translate\n",
    "from tqdm import tqdm"
   ]
  },
  {
   "cell_type": "code",
   "execution_count": null,
   "metadata": {},
   "outputs": [],
   "source": [
    "def translate_texts(texts, project_id=\"id-csqa\", src_lang=\"en\", tgt_lang=\"id\"):\n",
    "\n",
    "    client = translate.TranslationServiceClient()\n",
    "    location = \"global\"\n",
    "    parent = f\"projects/{project_id}/locations/{location}\"\n",
    "\n",
    "    response = client.translate_text(\n",
    "        request={\n",
    "            \"parent\": parent,\n",
    "            \"contents\": texts,\n",
    "            \"mime_type\": \"text/plain\",\n",
    "            \"source_language_code\": src_lang,\n",
    "            \"target_language_code\": tgt_lang,\n",
    "        }\n",
    "    )\n",
    "\n",
    "    return [t.translated_text for t in response.translations]"
   ]
  },
  {
   "cell_type": "code",
   "execution_count": null,
   "metadata": {},
   "outputs": [],
   "source": [
    "comqa_train = load_dataset('commonsense_qa', cache_dir='/mnt/nas2/kikiputri/cache', split='train')\n",
    "comqa_valid = load_dataset('commonsense_qa', cache_dir='/mnt/nas2/kikiputri/cache', split='validation')"
   ]
  },
  {
   "cell_type": "code",
   "execution_count": null,
   "metadata": {},
   "outputs": [],
   "source": [
    "comqa_valid[0]"
   ]
  },
  {
   "cell_type": "code",
   "execution_count": null,
   "metadata": {},
   "outputs": [],
   "source": [
    "len(comqa_valid)"
   ]
  },
  {
   "cell_type": "code",
   "execution_count": null,
   "metadata": {},
   "outputs": [],
   "source": [
    "comqa_trans = []\n",
    "tgt_lang = 'su'\n",
    "# i = 0\n",
    "for item in tqdm(comqa_valid):\n",
    "    # i += 1\n",
    "    # if i <= 2558:\n",
    "    #     continue\n",
    "    trans_items = [item['question'], item['question_concept']] + item['choices']['text']\n",
    "    trans_texts = translate_texts(trans_items, tgt_lang=tgt_lang)\n",
    "    comqa_trans.append({\n",
    "        'id': item['id'],\n",
    "        'question': trans_texts[0],\n",
    "        'question_concept': trans_texts[1],\n",
    "        'choices': {\n",
    "            'label': item['choices']['label'],\n",
    "            'text': trans_texts[2:]\n",
    "        },\n",
    "        'answerKey': item['answerKey']\n",
    "    })"
   ]
  },
  {
   "cell_type": "code",
   "execution_count": null,
   "metadata": {},
   "outputs": [],
   "source": [
    "len(comqa_trans)"
   ]
  },
  {
   "cell_type": "code",
   "execution_count": null,
   "metadata": {},
   "outputs": [],
   "source": [
    "comqa_trans_df = pd.DataFrame(comqa_trans)"
   ]
  },
  {
   "cell_type": "code",
   "execution_count": null,
   "metadata": {},
   "outputs": [],
   "source": [
    "comqa_trans_df"
   ]
  },
  {
   "cell_type": "code",
   "execution_count": null,
   "metadata": {},
   "outputs": [],
   "source": [
    "# WARNING!!!! make sure the data type is correct\n",
    "filename = 'valid_gtrans_su'"
   ]
  },
  {
   "cell_type": "code",
   "execution_count": null,
   "metadata": {},
   "outputs": [],
   "source": [
    "comqa_trans_df.to_csv('/mnt/nas2/kikiputri/indo-local-transfer/datasets/csqa/' + filename  + '.csv', index=False)"
   ]
  },
  {
   "cell_type": "code",
   "execution_count": null,
   "metadata": {},
   "outputs": [],
   "source": []
  }
 ],
 "metadata": {
  "kernelspec": {
   "display_name": "idlocal",
   "language": "python",
   "name": "python3"
  },
  "language_info": {
   "codemirror_mode": {
    "name": "ipython",
    "version": 3
   },
   "file_extension": ".py",
   "mimetype": "text/x-python",
   "name": "python",
   "nbconvert_exporter": "python",
   "pygments_lexer": "ipython3",
   "version": "3.8.16"
  },
  "orig_nbformat": 4
 },
 "nbformat": 4,
 "nbformat_minor": 2
}
